{
 "cells": [
  {
   "cell_type": "markdown",
   "metadata": {},
   "source": [
    "# Milestone 2: Descriptive Statistics  /Preparation By Aiman"
   ]
  },
  {
   "cell_type": "code",
   "execution_count": 14,
   "metadata": {},
   "outputs": [],
   "source": [
    "import pandas as pd\n",
    "import matplotlib.pyplot as plt\n",
    "import seaborn as sns\n",
    "from pandasql import sqldf\n",
    "pysqldf = lambda q: sqldf(q, globals())\n",
    "\n",
    "\n",
    "athlete_events = pd.read_csv(\"athlete_events.csv\")\n",
    "noc_regions = pd.read_csv(\"noc_regions.csv\")"
   ]
  },
  {
   "cell_type": "markdown",
   "metadata": {},
   "source": [
    "Aftering importing the data, and doing initial analysis on the data, the next step is to dividie the athelte_events table into winter and summer tables.\n",
    "\n"
   ]
  },
  {
   "cell_type": "code",
   "execution_count": 15,
   "metadata": {},
   "outputs": [],
   "source": [
    "summer_events = pysqldf('''SELECT * \n",
    "           FROM athlete_events \n",
    "           WHERE Season = 'Summer' ''')\n"
   ]
  },
  {
   "cell_type": "code",
   "execution_count": 16,
   "metadata": {},
   "outputs": [],
   "source": [
    "winter_events = pysqldf('''SELECT * \n",
    "           FROM athlete_events \n",
    "           WHERE Season = 'Winter' ''')"
   ]
  },
  {
   "cell_type": "markdown",
   "metadata": {},
   "source": [
    "# summary of the different descriptive statistics"
   ]
  },
  {
   "cell_type": "code",
   "execution_count": 17,
   "metadata": {},
   "outputs": [
    {
     "data": {
      "text/html": [
       "<div>\n",
       "<style scoped>\n",
       "    .dataframe tbody tr th:only-of-type {\n",
       "        vertical-align: middle;\n",
       "    }\n",
       "\n",
       "    .dataframe tbody tr th {\n",
       "        vertical-align: top;\n",
       "    }\n",
       "\n",
       "    .dataframe thead th {\n",
       "        text-align: right;\n",
       "    }\n",
       "</style>\n",
       "<table border=\"1\" class=\"dataframe\">\n",
       "  <thead>\n",
       "    <tr style=\"text-align: right;\">\n",
       "      <th></th>\n",
       "      <th>Sex</th>\n",
       "      <th>Athlete</th>\n",
       "      <th>Ratio</th>\n",
       "    </tr>\n",
       "  </thead>\n",
       "  <tbody>\n",
       "    <tr>\n",
       "      <th>0</th>\n",
       "      <td>F</td>\n",
       "      <td>59443</td>\n",
       "      <td>26.709713</td>\n",
       "    </tr>\n",
       "    <tr>\n",
       "      <th>1</th>\n",
       "      <td>M</td>\n",
       "      <td>163109</td>\n",
       "      <td>73.290287</td>\n",
       "    </tr>\n",
       "  </tbody>\n",
       "</table>\n",
       "</div>"
      ],
      "text/plain": [
       "  Sex  Athlete      Ratio\n",
       "0   F    59443  26.709713\n",
       "1   M   163109  73.290287"
      ]
     },
     "execution_count": 17,
     "metadata": {},
     "output_type": "execute_result"
    }
   ],
   "source": [
    "pysqldf('''SELECT Sex, \n",
    "           COUNT(Sex) AS Athlete,\n",
    "           (COUNT(*) * 100.0) / SUM(COUNT(*)) OVER() AS Ratio\n",
    "           FROM summer_events\n",
    "           GROUP BY Sex\n",
    "           ''')"
   ]
  },
  {
   "cell_type": "code",
   "execution_count": 18,
   "metadata": {},
   "outputs": [
    {
     "data": {
      "text/html": [
       "<div>\n",
       "<style scoped>\n",
       "    .dataframe tbody tr th:only-of-type {\n",
       "        vertical-align: middle;\n",
       "    }\n",
       "\n",
       "    .dataframe tbody tr th {\n",
       "        vertical-align: top;\n",
       "    }\n",
       "\n",
       "    .dataframe thead th {\n",
       "        text-align: right;\n",
       "    }\n",
       "</style>\n",
       "<table border=\"1\" class=\"dataframe\">\n",
       "  <thead>\n",
       "    <tr style=\"text-align: right;\">\n",
       "      <th></th>\n",
       "      <th>Sex</th>\n",
       "      <th>Athlete</th>\n",
       "      <th>Ratio</th>\n",
       "    </tr>\n",
       "  </thead>\n",
       "  <tbody>\n",
       "    <tr>\n",
       "      <th>0</th>\n",
       "      <td>F</td>\n",
       "      <td>15079</td>\n",
       "      <td>31.049749</td>\n",
       "    </tr>\n",
       "    <tr>\n",
       "      <th>1</th>\n",
       "      <td>M</td>\n",
       "      <td>33485</td>\n",
       "      <td>68.950251</td>\n",
       "    </tr>\n",
       "  </tbody>\n",
       "</table>\n",
       "</div>"
      ],
      "text/plain": [
       "  Sex  Athlete      Ratio\n",
       "0   F    15079  31.049749\n",
       "1   M    33485  68.950251"
      ]
     },
     "execution_count": 18,
     "metadata": {},
     "output_type": "execute_result"
    }
   ],
   "source": [
    "pysqldf('''SELECT Sex, \n",
    "           COUNT(Sex) AS Athlete,\n",
    "           (COUNT(*) * 100.0) / SUM(COUNT(*)) OVER() AS Ratio\n",
    "           FROM winter_events\n",
    "           GROUP BY Sex\n",
    "           ''')"
   ]
  },
  {
   "cell_type": "markdown",
   "metadata": {},
   "source": [
    "As we can see the ratio between the Summer Olympics and the Winter Olympics is indeed different, men happen to be dominant."
   ]
  },
  {
   "cell_type": "code",
   "execution_count": 19,
   "metadata": {},
   "outputs": [
    {
     "data": {
      "text/html": [
       "<div>\n",
       "<style scoped>\n",
       "    .dataframe tbody tr th:only-of-type {\n",
       "        vertical-align: middle;\n",
       "    }\n",
       "\n",
       "    .dataframe tbody tr th {\n",
       "        vertical-align: top;\n",
       "    }\n",
       "\n",
       "    .dataframe thead th {\n",
       "        text-align: right;\n",
       "    }\n",
       "</style>\n",
       "<table border=\"1\" class=\"dataframe\">\n",
       "  <thead>\n",
       "    <tr style=\"text-align: right;\">\n",
       "      <th></th>\n",
       "      <th>Sex</th>\n",
       "      <th>AVG(Weight)</th>\n",
       "      <th>AVG(Age)</th>\n",
       "      <th>AVG(Height)</th>\n",
       "    </tr>\n",
       "  </thead>\n",
       "  <tbody>\n",
       "    <tr>\n",
       "      <th>0</th>\n",
       "      <td>F</td>\n",
       "      <td>60.087644</td>\n",
       "      <td>23.660997</td>\n",
       "      <td>168.169025</td>\n",
       "    </tr>\n",
       "    <tr>\n",
       "      <th>1</th>\n",
       "      <td>M</td>\n",
       "      <td>75.604195</td>\n",
       "      <td>26.443944</td>\n",
       "      <td>178.901874</td>\n",
       "    </tr>\n",
       "  </tbody>\n",
       "</table>\n",
       "</div>"
      ],
      "text/plain": [
       "  Sex  AVG(Weight)   AVG(Age)  AVG(Height)\n",
       "0   F    60.087644  23.660997   168.169025\n",
       "1   M    75.604195  26.443944   178.901874"
      ]
     },
     "execution_count": 19,
     "metadata": {},
     "output_type": "execute_result"
    }
   ],
   "source": [
    "pysqldf('''SELECT Sex, \n",
    "           AVG(Weight),\n",
    "           AVG(Age),\n",
    "           AVG(Height)\n",
    "           FROM summer_events\n",
    "           GROUP BY Sex\n",
    "           ''')"
   ]
  },
  {
   "cell_type": "code",
   "execution_count": 20,
   "metadata": {},
   "outputs": [
    {
     "data": {
      "text/html": [
       "<div>\n",
       "<style scoped>\n",
       "    .dataframe tbody tr th:only-of-type {\n",
       "        vertical-align: middle;\n",
       "    }\n",
       "\n",
       "    .dataframe tbody tr th {\n",
       "        vertical-align: top;\n",
       "    }\n",
       "\n",
       "    .dataframe thead th {\n",
       "        text-align: right;\n",
       "    }\n",
       "</style>\n",
       "<table border=\"1\" class=\"dataframe\">\n",
       "  <thead>\n",
       "    <tr style=\"text-align: right;\">\n",
       "      <th></th>\n",
       "      <th>Sex</th>\n",
       "      <th>AVG(Weight)</th>\n",
       "      <th>AVG(Age)</th>\n",
       "      <th>AVG(Height)</th>\n",
       "    </tr>\n",
       "  </thead>\n",
       "  <tbody>\n",
       "    <tr>\n",
       "      <th>0</th>\n",
       "      <td>F</td>\n",
       "      <td>59.755156</td>\n",
       "      <td>24.014398</td>\n",
       "      <td>166.528250</td>\n",
       "    </tr>\n",
       "    <tr>\n",
       "      <th>1</th>\n",
       "      <td>M</td>\n",
       "      <td>76.357058</td>\n",
       "      <td>25.504261</td>\n",
       "      <td>178.668699</td>\n",
       "    </tr>\n",
       "  </tbody>\n",
       "</table>\n",
       "</div>"
      ],
      "text/plain": [
       "  Sex  AVG(Weight)   AVG(Age)  AVG(Height)\n",
       "0   F    59.755156  24.014398   166.528250\n",
       "1   M    76.357058  25.504261   178.668699"
      ]
     },
     "execution_count": 20,
     "metadata": {},
     "output_type": "execute_result"
    }
   ],
   "source": [
    "pysqldf('''SELECT Sex, \n",
    "           AVG(Weight),\n",
    "           AVG(Age),\n",
    "           AVG(Height)\n",
    "           FROM winter_events\n",
    "           GROUP BY Sex\n",
    "           ''')"
   ]
  },
  {
   "cell_type": "markdown",
   "metadata": {},
   "source": [
    "Sex Differences: The data shows that there are notable differences between male and female participants across various attributes, including height, weight, and age. These differences are expected due to biological factors.\n",
    "\n",
    "Age Consideration: While the height and weight differences can be attributed to biological factors, the age difference might have additional factors at play. It's essential to explore social factors and potential cultural influences that contribute to the age disparity.\n",
    "\n",
    "Social Factors: The analysis suggests that the age variations might not be solely due to natural processes but could involve societal factors. Social factors such as participation rates, career timing, and societal expectations could contribute to the observed differences in ages between male and female participants.\n",
    "\n",
    "Seasonal Age Gap: The observation of a smaller age gap in the Winter Olympics (~2.8 years for males and ~1.5 years for females) compared to the Summer Olympics might indicate distinct trends in athlete selection or career longevity between the two events."
   ]
  },
  {
   "cell_type": "markdown",
   "metadata": {},
   "source": [
    "# Decoding Olympic Success: Unraveling Medal Patterns\n",
    "\n",
    "Digging deeper, I've taken a closer look at medal ratios. By studying the distribution of overall medals and changes in different medal ratios, I aim to uncover hidden insights. This exploration is important because it helps us understand how Olympic achievements have transformed over the years. Through this analysis, I'm seeking to grasp how different factors have influenced the way medals are awarded, offering a glimpse into the evolving landscape of athlete accomplishments."
   ]
  },
  {
   "cell_type": "code",
   "execution_count": 21,
   "metadata": {},
   "outputs": [
    {
     "data": {
      "text/html": [
       "<div>\n",
       "<style scoped>\n",
       "    .dataframe tbody tr th:only-of-type {\n",
       "        vertical-align: middle;\n",
       "    }\n",
       "\n",
       "    .dataframe tbody tr th {\n",
       "        vertical-align: top;\n",
       "    }\n",
       "\n",
       "    .dataframe thead th {\n",
       "        text-align: right;\n",
       "    }\n",
       "</style>\n",
       "<table border=\"1\" class=\"dataframe\">\n",
       "  <thead>\n",
       "    <tr style=\"text-align: right;\">\n",
       "      <th></th>\n",
       "      <th>Sex</th>\n",
       "      <th>Medal</th>\n",
       "      <th>medal_count</th>\n",
       "    </tr>\n",
       "  </thead>\n",
       "  <tbody>\n",
       "    <tr>\n",
       "      <th>0</th>\n",
       "      <td>F</td>\n",
       "      <td>Bronze</td>\n",
       "      <td>3174</td>\n",
       "    </tr>\n",
       "    <tr>\n",
       "      <th>1</th>\n",
       "      <td>M</td>\n",
       "      <td>Bronze</td>\n",
       "      <td>8235</td>\n",
       "    </tr>\n",
       "    <tr>\n",
       "      <th>2</th>\n",
       "      <td>F</td>\n",
       "      <td>Gold</td>\n",
       "      <td>3140</td>\n",
       "    </tr>\n",
       "    <tr>\n",
       "      <th>3</th>\n",
       "      <td>M</td>\n",
       "      <td>Gold</td>\n",
       "      <td>8319</td>\n",
       "    </tr>\n",
       "    <tr>\n",
       "      <th>4</th>\n",
       "      <td>F</td>\n",
       "      <td>Silver</td>\n",
       "      <td>3128</td>\n",
       "    </tr>\n",
       "    <tr>\n",
       "      <th>5</th>\n",
       "      <td>M</td>\n",
       "      <td>Silver</td>\n",
       "      <td>8092</td>\n",
       "    </tr>\n",
       "  </tbody>\n",
       "</table>\n",
       "</div>"
      ],
      "text/plain": [
       "  Sex   Medal  medal_count\n",
       "0   F  Bronze         3174\n",
       "1   M  Bronze         8235\n",
       "2   F    Gold         3140\n",
       "3   M    Gold         8319\n",
       "4   F  Silver         3128\n",
       "5   M  Silver         8092"
      ]
     },
     "execution_count": 21,
     "metadata": {},
     "output_type": "execute_result"
    }
   ],
   "source": [
    "pysqldf('''SELECT Sex,Medal,count(Medal) AS medal_count\n",
    "           FROM summer_events\n",
    "           WHERE Medal IS NOT NULL\n",
    "           GROUP BY Medal,Sex\n",
    "           ''')"
   ]
  },
  {
   "cell_type": "code",
   "execution_count": 22,
   "metadata": {},
   "outputs": [
    {
     "data": {
      "text/html": [
       "<div>\n",
       "<style scoped>\n",
       "    .dataframe tbody tr th:only-of-type {\n",
       "        vertical-align: middle;\n",
       "    }\n",
       "\n",
       "    .dataframe tbody tr th {\n",
       "        vertical-align: top;\n",
       "    }\n",
       "\n",
       "    .dataframe thead th {\n",
       "        text-align: right;\n",
       "    }\n",
       "</style>\n",
       "<table border=\"1\" class=\"dataframe\">\n",
       "  <thead>\n",
       "    <tr style=\"text-align: right;\">\n",
       "      <th></th>\n",
       "      <th>Sex</th>\n",
       "      <th>Medal</th>\n",
       "      <th>medal_count</th>\n",
       "    </tr>\n",
       "  </thead>\n",
       "  <tbody>\n",
       "    <tr>\n",
       "      <th>0</th>\n",
       "      <td>F</td>\n",
       "      <td>Bronze</td>\n",
       "      <td>597</td>\n",
       "    </tr>\n",
       "    <tr>\n",
       "      <th>1</th>\n",
       "      <td>M</td>\n",
       "      <td>Bronze</td>\n",
       "      <td>1289</td>\n",
       "    </tr>\n",
       "    <tr>\n",
       "      <th>2</th>\n",
       "      <td>F</td>\n",
       "      <td>Gold</td>\n",
       "      <td>607</td>\n",
       "    </tr>\n",
       "    <tr>\n",
       "      <th>3</th>\n",
       "      <td>M</td>\n",
       "      <td>Gold</td>\n",
       "      <td>1306</td>\n",
       "    </tr>\n",
       "    <tr>\n",
       "      <th>4</th>\n",
       "      <td>F</td>\n",
       "      <td>Silver</td>\n",
       "      <td>607</td>\n",
       "    </tr>\n",
       "    <tr>\n",
       "      <th>5</th>\n",
       "      <td>M</td>\n",
       "      <td>Silver</td>\n",
       "      <td>1289</td>\n",
       "    </tr>\n",
       "  </tbody>\n",
       "</table>\n",
       "</div>"
      ],
      "text/plain": [
       "  Sex   Medal  medal_count\n",
       "0   F  Bronze          597\n",
       "1   M  Bronze         1289\n",
       "2   F    Gold          607\n",
       "3   M    Gold         1306\n",
       "4   F  Silver          607\n",
       "5   M  Silver         1289"
      ]
     },
     "execution_count": 22,
     "metadata": {},
     "output_type": "execute_result"
    }
   ],
   "source": [
    "pysqldf('''SELECT Sex,Medal,count(Medal) AS medal_count\n",
    "           FROM winter_events\n",
    "            WHERE Medal IS NOT NULL\n",
    "           GROUP BY Medal,Sex\n",
    "           ''')"
   ]
  },
  {
   "cell_type": "code",
   "execution_count": 23,
   "metadata": {},
   "outputs": [],
   "source": [
    "summer_medals = pysqldf('''\n",
    "                    SELECT\n",
    "                      Year,\n",
    "                      CAST(medal_count AS FLOAT) / total_count AS medal_ratio,\n",
    "                      CAST(gold_count AS FLOAT) / medal_count AS gold_ratio,\n",
    "                      CAST(silver_count AS FLOAT) / medal_count AS silver_ratio,\n",
    "                      CAST(bronze_count AS FLOAT) / medal_count AS bronze_ratio\n",
    "                    FROM\n",
    "                    (\n",
    "                         SELECT\n",
    "                             Year,\n",
    "                             COUNT(*) AS total_count,\n",
    "                             SUM(CASE\n",
    "                                   WHEN Medal IS NOT NULL THEN 1 ELSE 0\n",
    "                                 END) AS medal_count,\n",
    "                             SUM(CASE\n",
    "                                   WHEN Medal = \"Gold\" THEN 1 ELSE 0\n",
    "                                 END) AS gold_count,\n",
    "                             SUM(CASE\n",
    "                                   WHEN Medal = \"Silver\" THEN 1 ELSE 0\n",
    "                                 END) AS silver_count,\n",
    "                             SUM(CASE\n",
    "                                   WHEN Medal = \"Bronze\" THEN 1 ELSE 0\n",
    "                                 END) AS bronze_count\n",
    "                             FROM\n",
    "                               summer_events\n",
    "                             GROUP BY Year \n",
    "                        )\n",
    "                       ''')"
   ]
  },
  {
   "cell_type": "code",
   "execution_count": 24,
   "metadata": {},
   "outputs": [],
   "source": [
    "winter_medals = pysqldf('''\n",
    "        SELECT\n",
    "              Year,\n",
    "              CAST(medal_count AS FLOAT)/ total_count AS medal_ratio,\n",
    "              CAST(gold_count AS FLOAT)/ medal_count AS gold_ratio,\n",
    "              CAST(silver_count AS FLOAT)/ medal_count AS silver_ratio,\n",
    "              CAST(bronze_count AS FLOAT)/ medal_count AS bronze_ratio\n",
    "          FROM\n",
    "        (\n",
    "                SELECT \n",
    "                  Year,\n",
    "                  COUNT(*) AS total_count,\n",
    "                  SUM(CASE\n",
    "                        WHEN Medal IS NOT NULL THEN 1 ELSE 0 \n",
    "                      END) AS medal_count,\n",
    "                  SUM(CASE\n",
    "                        WHEN Medal = \"Gold\" THEN 1 ELSE 0 \n",
    "                      END) AS gold_count,\n",
    "                  SUM(CASE\n",
    "                        WHEN Medal = \"Silver\" THEN 1 ELSE 0 \n",
    "                      END) AS silver_count,\n",
    "                  SUM(CASE\n",
    "                        WHEN Medal = \"Bronze\" THEN 1 ELSE 0 \n",
    "                      END) AS bronze_count\n",
    "                  FROM winter_events\n",
    "                  GROUP BY Year\n",
    "                  \n",
    "                )\n",
    "            ''')"
   ]
  },
  {
   "cell_type": "code",
   "execution_count": 25,
   "metadata": {},
   "outputs": [
    {
     "data": {
      "image/png": "[encoded data removed]",
      "text/plain": [
       "<Figure size 432x288 with 1 Axes>"
      ]
     },
     "metadata": {
      "needs_background": "light"
     },
     "output_type": "display_data"
    }
   ],
   "source": [
    "plt.plot(summer_medals.Year,summer_medals.medal_ratio, color = \"Orange\", label = \"Summer Games\")\n",
    "plt.plot(winter_medals.Year,winter_medals.medal_ratio, color = \"Blue\", label = \"Winter Games\")\n",
    "plt.xlabel(\"Year\") \n",
    "plt.ylabel(\"Medal Ratio\")\n",
    "plt.legend()\n",
    "plt.title(\"Medal Ratio Trends for Olympics Games\")\n",
    "plt.show()"
   ]
  },
  {
   "cell_type": "markdown",
   "metadata": {},
   "source": [
    "# Summary: Insights from Medal Ratio Trends in Winter and Summer Games\n",
    "The medal ratio trends in both Winter and Summer Games over the last century reveal intriguing insights:\n",
    "\n",
    "Stabilization of Performance:The fluctuating medal ratios eventually stabilized, indicating the establishment of performance norms and standards in both competitions.\n",
    "\n",
    "Cyclic Patterns:Cyclic patterns in the ratios suggest recurring phases of strong and weak performances, potentially influenced by changing training techniques and geopolitical events.\n",
    "\n",
    "Impact of Global Events: Notable world events like World Wars impacted athlete participation and performance, leading to shifts in medal ratios.\n",
    "\n",
    "Evolution of Competition: Fluctuations may reflect changing competitive landscapes, with certain countries or regions dominating during specific eras.\n",
    "\n",
    "Socioeconomic Influence: Socioeconomic factors, technological advancements, and athlete development programs contributed to variations in performance levels.\n",
    "\n",
    "Host Country Effect: Medal ratios could be influenced by host countries' preparations, emphasis on specific sports, and home-field advantage.\n",
    "\n",
    "Economic and Technological Progress:Advancements in athlete training methods, nutrition, and equipment influenced overall performance levels.\n",
    "\n",
    "Long-Term Trends: An analysis of trends over time could identify periods of significant performance shifts, offering insights into broader sports developments."
   ]
  },
  {
   "cell_type": "code",
   "execution_count": 26,
   "metadata": {},
   "outputs": [
    {
     "data": {
      "image/png": "[encoded data removed]",
      "text/plain": [
       "<Figure size 432x288 with 1 Axes>"
      ]
     },
     "metadata": {
      "needs_background": "light"
     },
     "output_type": "display_data"
    }
   ],
   "source": [
    "plt.plot(summer_medals.Year,summer_medals.gold_ratio, color = \"gold\", label = \"Gold Medal Ratio\")\n",
    "plt.plot(summer_medals.Year,summer_medals.silver_ratio, color = \"silver\", label = \"Silver Medal Ratio\")\n",
    "plt.plot(summer_medals.Year,summer_medals.bronze_ratio, color = \"brown\", label = \"Bronze Medal Ratio\")\n",
    "plt.legend()\n",
    "plt.title(\"Summer Games\")\n",
    "plt.xlabel(\"year\")\n",
    "plt.ylabel(\"Medal Ratio\")\n",
    "plt.show()"
   ]
  },
  {
   "cell_type": "code",
   "execution_count": 27,
   "metadata": {},
   "outputs": [
    {
     "data": {
      "image/png": "[encoded data removed]",
      "text/plain": [
       "<Figure size 432x288 with 1 Axes>"
      ]
     },
     "metadata": {
      "needs_background": "light"
     },
     "output_type": "display_data"
    }
   ],
   "source": [
    "plt.plot(winter_medals.Year,winter_medals.gold_ratio, color = \"gold\", label = \"Gold Medal Ratio\")\n",
    "plt.plot(winter_medals.Year,winter_medals.silver_ratio, color = \"silver\", label = \"Silver Medal Ratio\")\n",
    "plt.plot(winter_medals.Year,winter_medals.bronze_ratio, color = \"brown\", label = \"Bronze Medal Ratio\")\n",
    "plt.legend()\n",
    "plt.title(\"Winter Games\")\n",
    "plt.xlabel(\"year\")\n",
    "plt.ylabel(\"Medal Ratio\")\n",
    "plt.show()"
   ]
  },
  {
   "cell_type": "markdown",
   "metadata": {},
   "source": [
    "# Key points about the data"
   ]
  },
  {
   "cell_type": "markdown",
   "metadata": {},
   "source": [
    "1.Gender Age Gap in Winter Olympics: An intriguing finding was that the age gap between male and female participants in the Winter Olympics is narrower compared to the Summer Olympics. This suggests a potential shift in gender dynamics and age distributions within the two types of Olympic events.\n",
    "\n",
    "2.Stabilization of Medal Outcomes: Notably, recent Olympic data indicates that the percentage of participants who win medals and the relative ratio of different medal types (gold, silver, and bronze) have reached a point of stability. This observation implies that there may have been an establishment of consistent performance standards among athletes.\n",
    "\n",
    "3.Diverse Participant Numbers: An important insight emerged from analyzing participant numbers separately for Summer and Winter Olympics. These two types of events exhibit distinct differences in terms of participant counts, warranting separate analyses to better understand the dynamics and trends specific to each Olympic category.\n",
    "\n",
    "4.Effect of Global Events: It was observed that certain global events, such as World Wars, had a significant impact on athlete participation and performance, leading to shifts in medal ratios. These events not only disrupted the continuity of the games but also influenced the competitive landscape and ultimately medal distribution.\n"
   ]
  },
  {
   "cell_type": "markdown",
   "metadata": {},
   "source": [
    "#  Initial hypotheses: The ratio of women to men has Increased OR Decreased?"
   ]
  },
  {
   "cell_type": "code",
   "execution_count": 28,
   "metadata": {},
   "outputs": [],
   "source": [
    "f_to_m_ratio_summers = pysqldf('''\n",
    "          SELECT Year,\n",
    "                CAST(female_count AS FLOAT)/ male_count AS Ratio\n",
    "           FROM(\n",
    "           SELECT \n",
    "              Year,\n",
    "              SUM(CASE WHEN Sex = 'F' THEN 1 ELSE 0\n",
    "              END) AS female_count,\n",
    "              SUM(CASE WHEN Sex = 'M' THEN 1 ELSE 0\n",
    "              END) AS male_count\n",
    "              FROM summer_events\n",
    "              GROUP BY Year\n",
    "             )\n",
    "''')"
   ]
  },
  {
   "cell_type": "code",
   "execution_count": 29,
   "metadata": {},
   "outputs": [],
   "source": [
    "f_to_m_ratio_winters = pysqldf('''\n",
    "          SELECT Year,\n",
    "                CAST(female_count AS FLOAT)/ male_count AS Ratio\n",
    "           FROM(\n",
    "           SELECT \n",
    "              Year,\n",
    "              SUM(CASE WHEN Sex = 'F' THEN 1 ELSE 0\n",
    "              END) AS female_count,\n",
    "              SUM(CASE WHEN Sex = 'M' THEN 1 ELSE 0\n",
    "              END) AS male_count\n",
    "              FROM winter_events\n",
    "              GROUP BY Year\n",
    "             )\n",
    "''')"
   ]
  },
  {
   "cell_type": "code",
   "execution_count": 30,
   "metadata": {},
   "outputs": [
    {
     "data": {
      "image/png": "[encoded data removed]",
      "text/plain": [
       "<Figure size 432x288 with 1 Axes>"
      ]
     },
     "metadata": {
      "needs_background": "light"
     },
     "output_type": "display_data"
    }
   ],
   "source": [
    "plt.plot(f_to_m_ratio_summers.Year,f_to_m_ratio_summers.Ratio, color = \"Orange\", label = \"Summer Games\")\n",
    "plt.plot(f_to_m_ratio_winters.Year,f_to_m_ratio_winters.Ratio, color = \"Blue\", label = \"Winter Games\")\n",
    "plt.xlabel(\"Year\")\n",
    "plt.ylabel(\"Ratio\")\n",
    "plt.legend()\n",
    "plt.title(\"Female to Male Ratio\")\n",
    "plt.show()"
   ]
  },
  {
   "cell_type": "markdown",
   "metadata": {},
   "source": [
    "The change in the ratio of women to men in Olympic participation aligns with the assumption that Over the years, the ratio of  women to men has shown an increasing trend.(Initial hypotheses proved) However, a noteworthy observation is that during the Second World War, there was a significant decline in the proportion of women participating in the Summer Olympics. Nevertheless, the ratio subsequently resumed its upward trajectory. While this pattern is evident, further analysis is required to fully understand the underlying reasons behind this phenomenon. "
   ]
  },
  {
   "cell_type": "markdown",
   "metadata": {},
   "source": [
    "# Additional questions"
   ]
  },
  {
   "cell_type": "markdown",
   "metadata": {},
   "source": [
    "I plan to put my next two hypotheses to the test using A/B testing. Here are the hypotheses:\n",
    "\n",
    "1.In the Winter Olympics, the yearly performance of different countries varies significantly.\n",
    "2.A country’s performance in the Winter Olympics is connected to how it performs in the Summer Olympics.\n",
    "\n",
    "To explore these ideas, I'll be using A/B testing. For first one, I'll see if countries show big differences in their performance from one Winter Olympics to the next. And for the other, I'll dig into whether how a country does in the Winter Olympics is linked to its Summer Olympics performance."
   ]
  },
  {
   "cell_type": "code",
   "execution_count": null,
   "metadata": {},
   "outputs": [],
   "source": []
  }
 ],
 "metadata": {
  "kernelspec": {
   "display_name": "Python 3",
   "language": "python",
   "name": "python3"
  },
  "language_info": {
   "codemirror_mode": {
    "name": "ipython",
    "version": 3
   },
   "file_extension": ".py",
   "mimetype": "text/x-python",
   "name": "python",
   "nbconvert_exporter": "python",
   "pygments_lexer": "ipython3",
   "version": "3.7.6"
  }
 },
 "nbformat": 4,
 "nbformat_minor": 4
}
