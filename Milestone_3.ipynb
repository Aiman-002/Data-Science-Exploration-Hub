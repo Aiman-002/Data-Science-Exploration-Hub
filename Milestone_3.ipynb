{
 "cells": [
  {
   "cell_type": "markdown",
   "metadata": {},
   "source": [
    "# Milestone 3: Beyond Descriptive Statistics /Preparation By Aiman"
   ]
  },
  {
   "cell_type": "code",
   "execution_count": 32,
   "metadata": {},
   "outputs": [],
   "source": [
    "import pandas as pd\n",
    "import matplotlib.pyplot as plt\n",
    "import seaborn as sns\n",
    "import numpy as np\n",
    "from pandasql import sqldf\n",
    "pysqldf = lambda q: sqldf(q, globals())\n",
    "\n",
    "\n",
    "athlete_events = pd.read_csv(\"athlete_events.csv\")\n",
    "noc_regions = pd.read_csv(\"noc_regions.csv\")"
   ]
  },
  {
   "cell_type": "code",
   "execution_count": 19,
   "metadata": {},
   "outputs": [],
   "source": [
    "summer_events = pysqldf('''SELECT * \n",
    "           FROM athlete_events \n",
    "           WHERE Season = 'Summer' ''')\n"
   ]
  },
  {
   "cell_type": "code",
   "execution_count": 20,
   "metadata": {},
   "outputs": [],
   "source": [
    "winter_events = pysqldf('''SELECT * \n",
    "           FROM athlete_events \n",
    "           WHERE Season = 'Winter' ''')"
   ]
  },
  {
   "cell_type": "markdown",
   "metadata": {},
   "source": [
    "# Diving Deeper: Uncovering Correlations and Trends¶\n",
    "Calculating Pearson Correlation Coefficient between Total Winter and Summer Olympic Medals 1- Calculate the total number of medals for each year in both the Winter and Summer Olympics. 2- Compute the Pearson correlation coefficient between these two sets of total medal counts."
   ]
  },
  {
   "cell_type": "code",
   "execution_count": 22,
   "metadata": {},
   "outputs": [],
   "source": [
    "summer_medal_by_year = pysqldf('''\n",
    "          SELECT \n",
    "                  Year,\n",
    "                  COUNT(*) AS total_count,\n",
    "                  SUM(CASE\n",
    "                        WHEN Medal IS NOT NULL THEN 1 ELSE 0 \n",
    "                      END) AS medal_count,\n",
    "                  SUM(CASE\n",
    "                        WHEN Medal = \"Gold\" THEN 1 ELSE 0 \n",
    "                      END) AS gold_count,\n",
    "                  SUM(CASE\n",
    "                        WHEN Medal = \"Silver\" THEN 1 ELSE 0 \n",
    "                      END) AS silver_count,\n",
    "                  SUM(CASE\n",
    "                        WHEN Medal = \"Bronze\" THEN 1 ELSE 0 \n",
    "                      END) AS bronze_count\n",
    "                  FROM summer_events\n",
    "                  GROUP BY Year\n",
    "''')"
   ]
  },
  {
   "cell_type": "code",
   "execution_count": 23,
   "metadata": {},
   "outputs": [],
   "source": [
    "winter_medal_by_year = pysqldf('''\n",
    "          SELECT \n",
    "                  Year,\n",
    "                  COUNT(*) AS total_count,\n",
    "                  SUM(CASE\n",
    "                        WHEN Medal IS NOT NULL THEN 1 ELSE 0 \n",
    "                      END) AS medal_count,\n",
    "                  SUM(CASE\n",
    "                        WHEN Medal = \"Gold\" THEN 1 ELSE 0 \n",
    "                      END) AS gold_count,\n",
    "                  SUM(CASE\n",
    "                        WHEN Medal = \"Silver\" THEN 1 ELSE 0 \n",
    "                      END) AS silver_count,\n",
    "                  SUM(CASE\n",
    "                        WHEN Medal = \"Bronze\" THEN 1 ELSE 0 \n",
    "                      END) AS bronze_count\n",
    "                  FROM winter_events\n",
    "                  GROUP BY Year\n",
    "''')"
   ]
  },
  {
   "cell_type": "code",
   "execution_count": 24,
   "metadata": {},
   "outputs": [
    {
     "name": "stdout",
     "output_type": "stream",
     "text": [
      "   Year  total_count  medal_count  gold_count  silver_count  bronze_count\n",
      "0  1896          380          143          62            43            38\n",
      "1  1900         1936          604         201           228           175\n",
      "2  1904         1301          486         173           163           150\n",
      "3  1906         1733          458         157           156           145\n",
      "4  1908         3101          831         294           281           256\n",
      "5  1912         4040          941         326           315           300\n",
      "6  1920         4292         1308         493           448           367\n",
      "7  1924         5233          832         277           281           274\n",
      "8  1928         4992          734         245           239           250\n",
      "9  1932         2969          647         229           214           204\n"
     ]
    }
   ],
   "source": [
    "print(summer_medal_by_year.head(10))"
   ]
  },
  {
   "cell_type": "code",
   "execution_count": 25,
   "metadata": {},
   "outputs": [
    {
     "name": "stdout",
     "output_type": "stream",
     "text": [
      "   Year  total_count  medal_count  gold_count  silver_count  bronze_count\n",
      "0  1924          460          130          55            38            37\n",
      "1  1928          582           89          30            28            31\n",
      "2  1932          352           92          32            32            28\n",
      "3  1936          895          108          36            37            35\n",
      "4  1948         1075          135          41            48            46\n",
      "5  1952         1088          136          45            44            47\n",
      "6  1956         1307          150          51            49            50\n",
      "7  1960         1116          147          50            48            49\n",
      "8  1964         1778          186          61            67            58\n",
      "9  1968         1891          199          66            70            63\n"
     ]
    }
   ],
   "source": [
    "print(winter_medal_by_year.head(10))"
   ]
  },
  {
   "cell_type": "markdown",
   "metadata": {},
   "source": [
    "Because the Winter Olympics began in 1924, while the Summer Olympics started back in 1896, there's a difference in the lengths of the arrays that show medal counts. To address this, I need to create a new table that only includes Summer Olympics data starting from 1924. This way, both datasets will have matching lengths, making it easier to compare the medal counts between Winter and Summer Olympics effectively."
   ]
  },
  {
   "cell_type": "code",
   "execution_count": 26,
   "metadata": {},
   "outputs": [],
   "source": [
    "summer_medal_by_year_1 = summer_medal_by_year[7:]"
   ]
  },
  {
   "cell_type": "code",
   "execution_count": 27,
   "metadata": {},
   "outputs": [
    {
     "name": "stdout",
     "output_type": "stream",
     "text": [
      "    Year  total_count  medal_count  gold_count  silver_count  bronze_count\n",
      "7   1924         5233          832         277           281           274\n",
      "8   1928         4992          734         245           239           250\n",
      "9   1932         2969          647         229           214           204\n",
      "10  1936         6506          917         312           310           295\n",
      "11  1948         6405          852         289           284           279\n",
      "12  1952         8270          897         306           291           300\n",
      "13  1956         5127          893         302           293           298\n",
      "14  1960         8119          911         309           294           308\n",
      "15  1964         7702         1029         347           339           343\n",
      "16  1968         8588         1057         359           340           358\n"
     ]
    }
   ],
   "source": [
    "print(summer_medal_by_year_1.head(10))"
   ]
  },
  {
   "cell_type": "markdown",
   "metadata": {},
   "source": [
    "Now second step is to calculate the Pearon correlation coefficient between the total number of medals in the winter and summer olympics from 1924 to 2016."
   ]
  },
  {
   "cell_type": "code",
   "execution_count": 33,
   "metadata": {},
   "outputs": [
    {
     "name": "stdout",
     "output_type": "stream",
     "text": [
      "Pearson Correlation Coefficient:\n",
      " [[1.         0.94141801]\n",
      " [0.94141801 1.        ]]\n"
     ]
    }
   ],
   "source": [
    "x = summer_medal_by_year_1.medal_count\n",
    "y = winter_medal_by_year.medal_count\n",
    "correlation_coefficient = np.corrcoef(x,y)\n",
    "\n",
    "print(\"Pearson Correlation Coefficient:\\n\", correlation_coefficient)"
   ]
  },
  {
   "cell_type": "code",
   "execution_count": 34,
   "metadata": {},
   "outputs": [
    {
     "data": {
      "image/png": "[encoded data removed]",
      "text/plain": [
       "<Figure size 432x288 with 2 Axes>"
      ]
     },
     "metadata": {
      "needs_background": "light"
     },
     "output_type": "display_data"
    }
   ],
   "source": [
    "sns.heatmap(correlation_coefficient, annot=True, cmap=\"coolwarm\", linewidths=0.5)\n",
    "plt.title(\"Pearson Correlation Coefficient Heatmap\")\n",
    "plt.show()"
   ]
  },
  {
   "cell_type": "markdown",
   "metadata": {},
   "source": [
    "The Pearson Correlation Coefficient matrix reveals a robust positive correlation of around 0.9414 between a country's performance in the Winter Olympics and its performance in the Summer Olympics. This indicates that how well a country performs in one type of Olympics tends to be closely linked to its performance in the other type. However, it's essential to note that correlation doesn't imply causation, and additional investigation is needed to understand the factors driving this connection."
   ]
  },
  {
   "cell_type": "code",
   "execution_count": 35,
   "metadata": {},
   "outputs": [],
   "source": [
    "summer_std = np.std(x)\n",
    "winter_std = np.std(y)"
   ]
  },
  {
   "cell_type": "code",
   "execution_count": 36,
   "metadata": {},
   "outputs": [
    {
     "name": "stdout",
     "output_type": "stream",
     "text": [
      "standard deviation of summer's medal count:  475.323015441357\n",
      "standard deviation of winter's medal count:  152.56899942903493\n"
     ]
    }
   ],
   "source": [
    "print(\"standard deviation of summer's medal count: \",summer_std)\n",
    "print(\"standard deviation of winter's medal count: \",winter_std)"
   ]
  },
  {
   "cell_type": "markdown",
   "metadata": {},
   "source": [
    "From 1924 to 2016, we observed that the standard deviation of medal counts in the Summer Olympics is approximately three times larger than that in the Winter Olympics. This indicates that the performance of countries by year tends to exhibit greater variation in the Summer Olympics compared to the Winter Olympics. The wider spread of data points in the Summer Olympics suggests more pronounced fluctuations in medal counts over the years, reflecting a potentially more dynamic and competitive landscape in those games."
   ]
  },
  {
   "cell_type": "markdown",
   "metadata": {},
   "source": [
    "# Going Beyond: Exploring Hidden Connections and Influences"
   ]
  },
  {
   "cell_type": "markdown",
   "metadata": {},
   "source": [
    "# Analyzing the Influence of Age on Medal-Winning Probability"
   ]
  },
  {
   "cell_type": "code",
   "execution_count": 37,
   "metadata": {},
   "outputs": [
    {
     "data": {
      "text/html": [
       "<div>\n",
       "<style scoped>\n",
       "    .dataframe tbody tr th:only-of-type {\n",
       "        vertical-align: middle;\n",
       "    }\n",
       "\n",
       "    .dataframe tbody tr th {\n",
       "        vertical-align: top;\n",
       "    }\n",
       "\n",
       "    .dataframe thead th {\n",
       "        text-align: right;\n",
       "    }\n",
       "</style>\n",
       "<table border=\"1\" class=\"dataframe\">\n",
       "  <thead>\n",
       "    <tr style=\"text-align: right;\">\n",
       "      <th></th>\n",
       "      <th>AgeGroup</th>\n",
       "      <th>TotalAthletes</th>\n",
       "      <th>MedalWinners</th>\n",
       "      <th>MedalWinningPercentage</th>\n",
       "    </tr>\n",
       "  </thead>\n",
       "  <tbody>\n",
       "    <tr>\n",
       "      <th>0</th>\n",
       "      <td>Around 25</td>\n",
       "      <td>59102</td>\n",
       "      <td>9337</td>\n",
       "      <td>15.80</td>\n",
       "    </tr>\n",
       "    <tr>\n",
       "      <th>1</th>\n",
       "      <td>Other Ages</td>\n",
       "      <td>212014</td>\n",
       "      <td>30446</td>\n",
       "      <td>14.36</td>\n",
       "    </tr>\n",
       "  </tbody>\n",
       "</table>\n",
       "</div>"
      ],
      "text/plain": [
       "     AgeGroup  TotalAthletes  MedalWinners  MedalWinningPercentage\n",
       "0   Around 25          59102          9337                   15.80\n",
       "1  Other Ages         212014         30446                   14.36"
      ]
     },
     "execution_count": 37,
     "metadata": {},
     "output_type": "execute_result"
    }
   ],
   "source": [
    "pysqldf('''SELECT\n",
    "           CASE WHEN Age BETWEEN 24 AND 26 THEN 'Around 25'\n",
    "           ELSE 'Other Ages' END AS AgeGroup,\n",
    "           COUNT(*) AS TotalAthletes,\n",
    "           SUM(CASE WHEN Medal IS NOT NULL THEN 1 ELSE 0 END) AS MedalWinners,\n",
    "ROUND((CAST(SUM(CASE WHEN Medal IS NOT NULL THEN 1 ELSE 0 END) AS FLOAT) / COUNT(*)) * 100, 2) AS MedalWinningPercentage\n",
    "FROM\n",
    "   athlete_events\n",
    "GROUP BY\n",
    "    AgeGroup;\n",
    "\n",
    "''')"
   ]
  },
  {
   "cell_type": "markdown",
   "metadata": {},
   "source": [
    "Summary: The analysis aimed to understand whether athletes around the age of 25 demonstrate a higher probability of winning medals in their respective events. The data was segmented into two age groups: \"Around 25\" (ages 24-26) and \"Other Ages.\" The results revealed that athletes around 25 years old had a medal-winning percentage of 15.80%, while the medal-winning percentage for other age groups was 14.36%. This suggests that there is a slight increase in the likelihood of winning medals for athletes around the age of 25 compared to other age groups. This insight sheds light on the potential influence of age on peak athletic performance and success in competitive events."
   ]
  },
  {
   "cell_type": "markdown",
   "metadata": {},
   "source": [
    "# Investigating the Relationship: Do Developed Countries Earn More Olympic Medals?"
   ]
  },
  {
   "cell_type": "code",
   "execution_count": 38,
   "metadata": {},
   "outputs": [
    {
     "data": {
      "text/html": [
       "<div>\n",
       "<style scoped>\n",
       "    .dataframe tbody tr th:only-of-type {\n",
       "        vertical-align: middle;\n",
       "    }\n",
       "\n",
       "    .dataframe tbody tr th {\n",
       "        vertical-align: top;\n",
       "    }\n",
       "\n",
       "    .dataframe thead th {\n",
       "        text-align: right;\n",
       "    }\n",
       "</style>\n",
       "<table border=\"1\" class=\"dataframe\">\n",
       "  <thead>\n",
       "    <tr style=\"text-align: right;\">\n",
       "      <th></th>\n",
       "      <th>Team</th>\n",
       "      <th>NOC</th>\n",
       "      <th>COUNT(Medal)</th>\n",
       "    </tr>\n",
       "  </thead>\n",
       "  <tbody>\n",
       "    <tr>\n",
       "      <th>0</th>\n",
       "      <td>United States</td>\n",
       "      <td>USA</td>\n",
       "      <td>5637</td>\n",
       "    </tr>\n",
       "    <tr>\n",
       "      <th>1</th>\n",
       "      <td>Soviet Union</td>\n",
       "      <td>URS</td>\n",
       "      <td>2503</td>\n",
       "    </tr>\n",
       "    <tr>\n",
       "      <th>2</th>\n",
       "      <td>Germany</td>\n",
       "      <td>GER</td>\n",
       "      <td>2165</td>\n",
       "    </tr>\n",
       "    <tr>\n",
       "      <th>3</th>\n",
       "      <td>Great Britain</td>\n",
       "      <td>GBR</td>\n",
       "      <td>2068</td>\n",
       "    </tr>\n",
       "    <tr>\n",
       "      <th>4</th>\n",
       "      <td>France</td>\n",
       "      <td>FRA</td>\n",
       "      <td>1777</td>\n",
       "    </tr>\n",
       "    <tr>\n",
       "      <th>5</th>\n",
       "      <td>Italy</td>\n",
       "      <td>ITA</td>\n",
       "      <td>1637</td>\n",
       "    </tr>\n",
       "    <tr>\n",
       "      <th>6</th>\n",
       "      <td>Sweden</td>\n",
       "      <td>SWE</td>\n",
       "      <td>1536</td>\n",
       "    </tr>\n",
       "    <tr>\n",
       "      <th>7</th>\n",
       "      <td>Canada</td>\n",
       "      <td>CAN</td>\n",
       "      <td>1352</td>\n",
       "    </tr>\n",
       "    <tr>\n",
       "      <th>8</th>\n",
       "      <td>Australia</td>\n",
       "      <td>AUS</td>\n",
       "      <td>1320</td>\n",
       "    </tr>\n",
       "    <tr>\n",
       "      <th>9</th>\n",
       "      <td>Russia</td>\n",
       "      <td>RUS</td>\n",
       "      <td>1165</td>\n",
       "    </tr>\n",
       "    <tr>\n",
       "      <th>10</th>\n",
       "      <td>Hungary</td>\n",
       "      <td>HUN</td>\n",
       "      <td>1135</td>\n",
       "    </tr>\n",
       "    <tr>\n",
       "      <th>11</th>\n",
       "      <td>Netherlands</td>\n",
       "      <td>NED</td>\n",
       "      <td>1040</td>\n",
       "    </tr>\n",
       "    <tr>\n",
       "      <th>12</th>\n",
       "      <td>Norway</td>\n",
       "      <td>NOR</td>\n",
       "      <td>1033</td>\n",
       "    </tr>\n",
       "    <tr>\n",
       "      <th>13</th>\n",
       "      <td>East Germany</td>\n",
       "      <td>GDR</td>\n",
       "      <td>1005</td>\n",
       "    </tr>\n",
       "    <tr>\n",
       "      <th>14</th>\n",
       "      <td>China</td>\n",
       "      <td>CHN</td>\n",
       "      <td>989</td>\n",
       "    </tr>\n",
       "    <tr>\n",
       "      <th>15</th>\n",
       "      <td>Japan</td>\n",
       "      <td>JPN</td>\n",
       "      <td>913</td>\n",
       "    </tr>\n",
       "    <tr>\n",
       "      <th>16</th>\n",
       "      <td>Finland</td>\n",
       "      <td>FIN</td>\n",
       "      <td>900</td>\n",
       "    </tr>\n",
       "    <tr>\n",
       "      <th>17</th>\n",
       "      <td>Switzerland</td>\n",
       "      <td>SUI</td>\n",
       "      <td>691</td>\n",
       "    </tr>\n",
       "    <tr>\n",
       "      <th>18</th>\n",
       "      <td>Romania</td>\n",
       "      <td>ROU</td>\n",
       "      <td>653</td>\n",
       "    </tr>\n",
       "    <tr>\n",
       "      <th>19</th>\n",
       "      <td>South Korea</td>\n",
       "      <td>KOR</td>\n",
       "      <td>638</td>\n",
       "    </tr>\n",
       "    <tr>\n",
       "      <th>20</th>\n",
       "      <td>Denmark/Sweden</td>\n",
       "      <td>DEN</td>\n",
       "      <td>597</td>\n",
       "    </tr>\n",
       "    <tr>\n",
       "      <th>21</th>\n",
       "      <td>West Germany</td>\n",
       "      <td>FRG</td>\n",
       "      <td>586</td>\n",
       "    </tr>\n",
       "    <tr>\n",
       "      <th>22</th>\n",
       "      <td>Poland</td>\n",
       "      <td>POL</td>\n",
       "      <td>565</td>\n",
       "    </tr>\n",
       "    <tr>\n",
       "      <th>23</th>\n",
       "      <td>Spain</td>\n",
       "      <td>ESP</td>\n",
       "      <td>489</td>\n",
       "    </tr>\n",
       "    <tr>\n",
       "      <th>24</th>\n",
       "      <td>Czechoslovakia</td>\n",
       "      <td>TCH</td>\n",
       "      <td>488</td>\n",
       "    </tr>\n",
       "    <tr>\n",
       "      <th>25</th>\n",
       "      <td>Brazil</td>\n",
       "      <td>BRA</td>\n",
       "      <td>475</td>\n",
       "    </tr>\n",
       "    <tr>\n",
       "      <th>26</th>\n",
       "      <td>Belgium</td>\n",
       "      <td>BEL</td>\n",
       "      <td>468</td>\n",
       "    </tr>\n",
       "    <tr>\n",
       "      <th>27</th>\n",
       "      <td>Austria</td>\n",
       "      <td>AUT</td>\n",
       "      <td>450</td>\n",
       "    </tr>\n",
       "    <tr>\n",
       "      <th>28</th>\n",
       "      <td>Cuba</td>\n",
       "      <td>CUB</td>\n",
       "      <td>409</td>\n",
       "    </tr>\n",
       "    <tr>\n",
       "      <th>29</th>\n",
       "      <td>Yugoslavia</td>\n",
       "      <td>YUG</td>\n",
       "      <td>390</td>\n",
       "    </tr>\n",
       "    <tr>\n",
       "      <th>30</th>\n",
       "      <td>Bulgaria</td>\n",
       "      <td>BUL</td>\n",
       "      <td>342</td>\n",
       "    </tr>\n",
       "    <tr>\n",
       "      <th>31</th>\n",
       "      <td>Unified Team</td>\n",
       "      <td>EUN</td>\n",
       "      <td>279</td>\n",
       "    </tr>\n",
       "    <tr>\n",
       "      <th>32</th>\n",
       "      <td>Argentina</td>\n",
       "      <td>ARG</td>\n",
       "      <td>274</td>\n",
       "    </tr>\n",
       "    <tr>\n",
       "      <th>33</th>\n",
       "      <td>Thessalonki-1</td>\n",
       "      <td>GRE</td>\n",
       "      <td>255</td>\n",
       "    </tr>\n",
       "    <tr>\n",
       "      <th>34</th>\n",
       "      <td>New Zealand</td>\n",
       "      <td>NZL</td>\n",
       "      <td>228</td>\n",
       "    </tr>\n",
       "    <tr>\n",
       "      <th>35</th>\n",
       "      <td>Ukraine</td>\n",
       "      <td>UKR</td>\n",
       "      <td>199</td>\n",
       "    </tr>\n",
       "    <tr>\n",
       "      <th>36</th>\n",
       "      <td>India</td>\n",
       "      <td>IND</td>\n",
       "      <td>197</td>\n",
       "    </tr>\n",
       "    <tr>\n",
       "      <th>37</th>\n",
       "      <td>Jamaica</td>\n",
       "      <td>JAM</td>\n",
       "      <td>157</td>\n",
       "    </tr>\n",
       "    <tr>\n",
       "      <th>38</th>\n",
       "      <td>Croatia</td>\n",
       "      <td>CRO</td>\n",
       "      <td>149</td>\n",
       "    </tr>\n",
       "    <tr>\n",
       "      <th>39</th>\n",
       "      <td>Czech Republic</td>\n",
       "      <td>CZE</td>\n",
       "      <td>144</td>\n",
       "    </tr>\n",
       "    <tr>\n",
       "      <th>40</th>\n",
       "      <td>Belarus</td>\n",
       "      <td>BLR</td>\n",
       "      <td>139</td>\n",
       "    </tr>\n",
       "    <tr>\n",
       "      <th>41</th>\n",
       "      <td>South Africa</td>\n",
       "      <td>RSA</td>\n",
       "      <td>131</td>\n",
       "    </tr>\n",
       "    <tr>\n",
       "      <th>42</th>\n",
       "      <td>Pakistan</td>\n",
       "      <td>PAK</td>\n",
       "      <td>121</td>\n",
       "    </tr>\n",
       "    <tr>\n",
       "      <th>43</th>\n",
       "      <td>Mexico</td>\n",
       "      <td>MEX</td>\n",
       "      <td>110</td>\n",
       "    </tr>\n",
       "    <tr>\n",
       "      <th>44</th>\n",
       "      <td>Kenya</td>\n",
       "      <td>KEN</td>\n",
       "      <td>106</td>\n",
       "    </tr>\n",
       "    <tr>\n",
       "      <th>45</th>\n",
       "      <td>Nigeria</td>\n",
       "      <td>NGR</td>\n",
       "      <td>99</td>\n",
       "    </tr>\n",
       "    <tr>\n",
       "      <th>46</th>\n",
       "      <td>Turkey</td>\n",
       "      <td>TUR</td>\n",
       "      <td>95</td>\n",
       "    </tr>\n",
       "    <tr>\n",
       "      <th>47</th>\n",
       "      <td>Serbia</td>\n",
       "      <td>SRB</td>\n",
       "      <td>85</td>\n",
       "    </tr>\n",
       "    <tr>\n",
       "      <th>48</th>\n",
       "      <td>Kazakhstan</td>\n",
       "      <td>KAZ</td>\n",
       "      <td>77</td>\n",
       "    </tr>\n",
       "    <tr>\n",
       "      <th>49</th>\n",
       "      <td>Iran</td>\n",
       "      <td>IRI</td>\n",
       "      <td>68</td>\n",
       "    </tr>\n",
       "  </tbody>\n",
       "</table>\n",
       "</div>"
      ],
      "text/plain": [
       "              Team  NOC  COUNT(Medal)\n",
       "0    United States  USA          5637\n",
       "1     Soviet Union  URS          2503\n",
       "2          Germany  GER          2165\n",
       "3    Great Britain  GBR          2068\n",
       "4           France  FRA          1777\n",
       "5            Italy  ITA          1637\n",
       "6           Sweden  SWE          1536\n",
       "7           Canada  CAN          1352\n",
       "8        Australia  AUS          1320\n",
       "9           Russia  RUS          1165\n",
       "10         Hungary  HUN          1135\n",
       "11     Netherlands  NED          1040\n",
       "12          Norway  NOR          1033\n",
       "13    East Germany  GDR          1005\n",
       "14           China  CHN           989\n",
       "15           Japan  JPN           913\n",
       "16         Finland  FIN           900\n",
       "17     Switzerland  SUI           691\n",
       "18         Romania  ROU           653\n",
       "19     South Korea  KOR           638\n",
       "20  Denmark/Sweden  DEN           597\n",
       "21    West Germany  FRG           586\n",
       "22          Poland  POL           565\n",
       "23           Spain  ESP           489\n",
       "24  Czechoslovakia  TCH           488\n",
       "25          Brazil  BRA           475\n",
       "26         Belgium  BEL           468\n",
       "27         Austria  AUT           450\n",
       "28            Cuba  CUB           409\n",
       "29      Yugoslavia  YUG           390\n",
       "30        Bulgaria  BUL           342\n",
       "31    Unified Team  EUN           279\n",
       "32       Argentina  ARG           274\n",
       "33   Thessalonki-1  GRE           255\n",
       "34     New Zealand  NZL           228\n",
       "35         Ukraine  UKR           199\n",
       "36           India  IND           197\n",
       "37         Jamaica  JAM           157\n",
       "38         Croatia  CRO           149\n",
       "39  Czech Republic  CZE           144\n",
       "40         Belarus  BLR           139\n",
       "41    South Africa  RSA           131\n",
       "42        Pakistan  PAK           121\n",
       "43          Mexico  MEX           110\n",
       "44           Kenya  KEN           106\n",
       "45         Nigeria  NGR            99\n",
       "46          Turkey  TUR            95\n",
       "47          Serbia  SRB            85\n",
       "48      Kazakhstan  KAZ            77\n",
       "49            Iran  IRI            68"
      ]
     },
     "execution_count": 38,
     "metadata": {},
     "output_type": "execute_result"
    }
   ],
   "source": [
    "pysqldf('''SELECT Team,\n",
    "                  NOC, \n",
    "                  COUNT(Medal) \n",
    "           FROM athlete_events\n",
    "           WHERE Medal IS NOT NULL\n",
    "           GROUP BY NOC \n",
    "           ORDER BY COUNT(Medal) DESC''').head(50)"
   ]
  },
  {
   "cell_type": "markdown",
   "metadata": {},
   "source": [
    "Summary: Our analysis of historical Olympic medal counts by country indicates a pattern where developed nations such as the United States, Soviet Union, Germany, and Great Britain have consistently secured substantial medal counts. While this trend supports the hypothesis that developed countries accumulate more medals, it's crucial to recognize that various factors beyond development status contribute to these achievements. Further exploration is necessary to fully grasp the intricate interplay between a country's development and its success in the Olympics."
   ]
  }
 ],
 "metadata": {
  "kernelspec": {
   "display_name": "Python 3",
   "language": "python",
   "name": "python3"
  },
  "language_info": {
   "codemirror_mode": {
    "name": "ipython",
    "version": 3
   },
   "file_extension": ".py",
   "mimetype": "text/x-python",
   "name": "python",
   "nbconvert_exporter": "python",
   "pygments_lexer": "ipython3",
   "version": "3.7.6"
  }
 },
 "nbformat": 4,
 "nbformat_minor": 4
}
