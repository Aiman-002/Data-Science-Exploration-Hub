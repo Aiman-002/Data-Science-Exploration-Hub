{
 "cells": [
  {
   "cell_type": "markdown",
   "id": "50337e11-a22a-4823-aa39-a074954aa0c7",
   "metadata": {},
   "source": [
    "## The Analytics case study!\n",
    "\n",
    "In this case study, I will be working with a sample dataset representing sales transactions from a retail company. The task is\n",
    "to demonstrate the SQL querying, analytical thinking, and data visualization skills to derive insights and recommendations for improving business performance.\n",
    "\n"
   ]
  },
  {
   "cell_type": "markdown",
   "id": "bca51f68-aa9b-49a6-a0ae-dc0cf1c3e43d",
   "metadata": {},
   "source": [
    "### Dataset Description:\n",
    "\n",
    "The attached dataset contains information about sales transactions including order date, order number, warehouse ID, store ID, item ID, amount per unit, ordered quantity, item discount, and expected delivery date."
   ]
  },
  {
   "cell_type": "markdown",
   "id": "e69cff36-1561-467b-b65f-d01b56b2c6cd",
   "metadata": {},
   "source": [
    "### Step 1\n",
    "\n",
    " 1. Importing dataset into jupyter Notebook\n",
    " \n",
    " 2. Performing **Exploratory data analysis** with pandas to understand the structure, content, and characteristics of the dataset before diving into more advanced          analyses."
   ]
  },
  {
   "cell_type": "code",
   "id": "406de89f-4837-4042-bb0e-dcf2612802e9",
   "metadata": {
    "ExecuteTime": {
     "end_time": "2024-05-15T05:10:15.161761Z",
     "start_time": "2024-05-15T05:10:09.826015Z"
    }
   },
   "source": [
    "import pandas as pd\n",
    "import numpy as np\n",
    "import matplotlib.pyplot as plt\n",
    "import datetime as dt\n",
    "from pandasql import sqldf\n",
    "pysqldf = lambda q: sqldf(q,(globals))"
   ],
   "outputs": [
    {
     "ename": "ModuleNotFoundError",
     "evalue": "No module named 'matplotlib'",
     "output_type": "error",
     "traceback": [
      "\u001B[1;31m---------------------------------------------------------------------------\u001B[0m",
      "\u001B[1;31mModuleNotFoundError\u001B[0m                       Traceback (most recent call last)",
      "Cell \u001B[1;32mIn[1], line 3\u001B[0m\n\u001B[0;32m      1\u001B[0m \u001B[38;5;28;01mimport\u001B[39;00m \u001B[38;5;21;01mpandas\u001B[39;00m \u001B[38;5;28;01mas\u001B[39;00m \u001B[38;5;21;01mpd\u001B[39;00m\n\u001B[0;32m      2\u001B[0m \u001B[38;5;28;01mimport\u001B[39;00m \u001B[38;5;21;01mnumpy\u001B[39;00m \u001B[38;5;28;01mas\u001B[39;00m \u001B[38;5;21;01mnp\u001B[39;00m\n\u001B[1;32m----> 3\u001B[0m \u001B[38;5;28;01mimport\u001B[39;00m \u001B[38;5;21;01mmatplotlib\u001B[39;00m\u001B[38;5;21;01m.\u001B[39;00m\u001B[38;5;21;01mpyplot\u001B[39;00m \u001B[38;5;28;01mas\u001B[39;00m \u001B[38;5;21;01mplt\u001B[39;00m\n\u001B[0;32m      4\u001B[0m \u001B[38;5;28;01mimport\u001B[39;00m \u001B[38;5;21;01mdatetime\u001B[39;00m \u001B[38;5;28;01mas\u001B[39;00m \u001B[38;5;21;01mdt\u001B[39;00m\n\u001B[0;32m      5\u001B[0m \u001B[38;5;28;01mfrom\u001B[39;00m \u001B[38;5;21;01mpandasql\u001B[39;00m \u001B[38;5;28;01mimport\u001B[39;00m sqldf\n",
      "\u001B[1;31mModuleNotFoundError\u001B[0m: No module named 'matplotlib'"
     ]
    }
   ],
   "execution_count": 1
  },
  {
   "cell_type": "code",
   "execution_count": 3,
   "id": "e49ed8a2-0bb2-46fa-8f8d-066e17b67b17",
   "metadata": {},
   "outputs": [],
   "source": [
    "bazaar_Study = pd.read_excel(\"MY_STUDIES/Analytics Case Study - Launchpad 2024 (Dataset).xlsx\")"
   ]
  },
  {
   "cell_type": "code",
   "execution_count": 4,
   "id": "25624096-8b9b-42e2-8026-f1cf7788c461",
   "metadata": {},
   "outputs": [
    {
     "name": "stdout",
     "output_type": "stream",
     "text": [
      "<class 'pandas.core.frame.DataFrame'>\n",
      "RangeIndex: 25000 entries, 0 to 24999\n",
      "Data columns (total 10 columns):\n",
      " #   Column                  Non-Null Count  Dtype  \n",
      "---  ------                  --------------  -----  \n",
      " 0   order_date              25000 non-null  object \n",
      " 1   order_number            25000 non-null  int64  \n",
      " 2   order_warehouse_id      24995 non-null  float64\n",
      " 3   store_id                25000 non-null  object \n",
      " 4   order_status            25000 non-null  object \n",
      " 5   item_id                 25000 non-null  object \n",
      " 6   amount_per_unit         25000 non-null  float64\n",
      " 7   ordered_quantity        25000 non-null  int64  \n",
      " 8   item_discount           25000 non-null  float64\n",
      " 9   expected_delivery_date  25000 non-null  object \n",
      "dtypes: float64(3), int64(2), object(5)\n",
      "memory usage: 1.9+ MB\n"
     ]
    }
   ],
   "source": [
    "bazaar_Study.info()"
   ]
  },
  {
   "cell_type": "code",
   "execution_count": 5,
   "id": "97e1cc2a-d20b-4d16-aad6-c177d2f7f957",
   "metadata": {},
   "outputs": [
    {
     "data": {
      "text/html": [
       "<div>\n",
       "<style scoped>\n",
       "    .dataframe tbody tr th:only-of-type {\n",
       "        vertical-align: middle;\n",
       "    }\n",
       "\n",
       "    .dataframe tbody tr th {\n",
       "        vertical-align: top;\n",
       "    }\n",
       "\n",
       "    .dataframe thead th {\n",
       "        text-align: right;\n",
       "    }\n",
       "</style>\n",
       "<table border=\"1\" class=\"dataframe\">\n",
       "  <thead>\n",
       "    <tr style=\"text-align: right;\">\n",
       "      <th></th>\n",
       "      <th>order_number</th>\n",
       "      <th>order_warehouse_id</th>\n",
       "      <th>amount_per_unit</th>\n",
       "      <th>ordered_quantity</th>\n",
       "      <th>item_discount</th>\n",
       "    </tr>\n",
       "  </thead>\n",
       "  <tbody>\n",
       "    <tr>\n",
       "      <th>count</th>\n",
       "      <td>2.500000e+04</td>\n",
       "      <td>24995.000000</td>\n",
       "      <td>25000.000000</td>\n",
       "      <td>25000.000000</td>\n",
       "      <td>2.500000e+04</td>\n",
       "    </tr>\n",
       "    <tr>\n",
       "      <th>mean</th>\n",
       "      <td>2.304558e+10</td>\n",
       "      <td>6.437768</td>\n",
       "      <td>1257.726416</td>\n",
       "      <td>22.841880</td>\n",
       "      <td>-6.299190e+03</td>\n",
       "    </tr>\n",
       "    <tr>\n",
       "      <th>std</th>\n",
       "      <td>8.038898e+06</td>\n",
       "      <td>4.700002</td>\n",
       "      <td>3016.888458</td>\n",
       "      <td>2531.515045</td>\n",
       "      <td>1.011959e+06</td>\n",
       "    </tr>\n",
       "    <tr>\n",
       "      <th>min</th>\n",
       "      <td>2.303200e+10</td>\n",
       "      <td>2.000000</td>\n",
       "      <td>0.000000</td>\n",
       "      <td>1.000000</td>\n",
       "      <td>-1.600000e+08</td>\n",
       "    </tr>\n",
       "    <tr>\n",
       "      <th>25%</th>\n",
       "      <td>2.303875e+10</td>\n",
       "      <td>3.000000</td>\n",
       "      <td>150.000000</td>\n",
       "      <td>1.000000</td>\n",
       "      <td>0.000000e+00</td>\n",
       "    </tr>\n",
       "    <tr>\n",
       "      <th>50%</th>\n",
       "      <td>2.304526e+10</td>\n",
       "      <td>4.000000</td>\n",
       "      <td>306.000000</td>\n",
       "      <td>2.000000</td>\n",
       "      <td>0.000000e+00</td>\n",
       "    </tr>\n",
       "    <tr>\n",
       "      <th>75%</th>\n",
       "      <td>2.305248e+10</td>\n",
       "      <td>11.000000</td>\n",
       "      <td>1170.250000</td>\n",
       "      <td>4.000000</td>\n",
       "      <td>0.000000e+00</td>\n",
       "    </tr>\n",
       "    <tr>\n",
       "      <th>max</th>\n",
       "      <td>2.306000e+10</td>\n",
       "      <td>50.000000</td>\n",
       "      <td>110000.000000</td>\n",
       "      <td>400000.000000</td>\n",
       "      <td>9.274760e+05</td>\n",
       "    </tr>\n",
       "  </tbody>\n",
       "</table>\n",
       "</div>"
      ],
      "text/plain": [
       "       order_number  order_warehouse_id  amount_per_unit  ordered_quantity  \\\n",
       "count  2.500000e+04        24995.000000     25000.000000      25000.000000   \n",
       "mean   2.304558e+10            6.437768      1257.726416         22.841880   \n",
       "std    8.038898e+06            4.700002      3016.888458       2531.515045   \n",
       "min    2.303200e+10            2.000000         0.000000          1.000000   \n",
       "25%    2.303875e+10            3.000000       150.000000          1.000000   \n",
       "50%    2.304526e+10            4.000000       306.000000          2.000000   \n",
       "75%    2.305248e+10           11.000000      1170.250000          4.000000   \n",
       "max    2.306000e+10           50.000000    110000.000000     400000.000000   \n",
       "\n",
       "       item_discount  \n",
       "count   2.500000e+04  \n",
       "mean   -6.299190e+03  \n",
       "std     1.011959e+06  \n",
       "min    -1.600000e+08  \n",
       "25%     0.000000e+00  \n",
       "50%     0.000000e+00  \n",
       "75%     0.000000e+00  \n",
       "max     9.274760e+05  "
      ]
     },
     "execution_count": 5,
     "metadata": {},
     "output_type": "execute_result"
    }
   ],
   "source": [
    "bazaar_Study.describe()"
   ]
  },
  {
   "cell_type": "code",
   "execution_count": 102,
   "id": "3888b4af-64fc-493a-9249-51a9a2e079ea",
   "metadata": {},
   "outputs": [
    {
     "data": {
      "text/plain": [
       "0"
      ]
     },
     "execution_count": 102,
     "metadata": {},
     "output_type": "execute_result"
    }
   ],
   "source": [
    "bazaar_Study.duplicated().sum()"
   ]
  },
  {
   "cell_type": "code",
   "execution_count": 100,
   "id": "b1e79a78-411e-460e-bd59-c09d64dc5202",
   "metadata": {},
   "outputs": [
    {
     "data": {
      "text/plain": [
       "17505"
      ]
     },
     "execution_count": 100,
     "metadata": {},
     "output_type": "execute_result"
    }
   ],
   "source": [
    "bazaar_Study[\"order_number\"].duplicated().sum()"
   ]
  },
  {
   "cell_type": "markdown",
   "id": "d0d4b867-a241-4b9b-a6a5-162f8319801a",
   "metadata": {},
   "source": [
    "order_number is duplicated multiple times in the dataset, it suggests that there are multiple entries for the same order number, which could indicate that the order information is distributed across multiple rows. Multiple items ordered in the same order, each represented as a separate row."
   ]
  },
  {
   "cell_type": "markdown",
   "id": "cf7b3e6c-ad21-4e55-b07a-bbba13c550eb",
   "metadata": {},
   "source": [
    "**Findings from EDA**\n",
    "\n",
    "1. We have a total of 10 columns in our dataset, and the data types of **order_date** and **expected_delivery_date** are currently stored as objects.\n",
    "To ensure consistency and enable datetime operations, we need to convert these columns to datetime format either using SQL or panda\n",
    "   \n",
    "2. The describe() method provides summary statistics for numerical columns. It's worth noting that there are null values present in the **order_warehouse_id** column. Additionally, the standard deviation for the **order_date** column is shown as NaN, indicating that the column is not in datetime format.\n",
    "\n",
    "3. Finally the duplicated() method is used to check for duplicate values in our dataset. Fortunately, there are no duplicated values present.   \n",
    ".\n",
    "\n"
   ]
  },
  {
   "cell_type": "markdown",
   "id": "492a74ce-462d-4033-8a5b-5c0741a82a77",
   "metadata": {},
   "source": [
    "### Step 2 \n",
    "### Data Exploration with SQL\n"
   ]
  },
  {
   "cell_type": "code",
   "execution_count": 7,
   "id": "60462ea5-65c8-48af-ab4b-7b1909c32f18",
   "metadata": {},
   "outputs": [
    {
     "data": {
      "text/html": [
       "<div>\n",
       "<style scoped>\n",
       "    .dataframe tbody tr th:only-of-type {\n",
       "        vertical-align: middle;\n",
       "    }\n",
       "\n",
       "    .dataframe tbody tr th {\n",
       "        vertical-align: top;\n",
       "    }\n",
       "\n",
       "    .dataframe thead th {\n",
       "        text-align: right;\n",
       "    }\n",
       "</style>\n",
       "<table border=\"1\" class=\"dataframe\">\n",
       "  <thead>\n",
       "    <tr style=\"text-align: right;\">\n",
       "      <th></th>\n",
       "      <th>order_date</th>\n",
       "      <th>order_number</th>\n",
       "      <th>order_warehouse_id</th>\n",
       "      <th>store_id</th>\n",
       "      <th>order_status</th>\n",
       "      <th>item_id</th>\n",
       "      <th>amount_per_unit</th>\n",
       "      <th>ordered_quantity</th>\n",
       "      <th>item_discount</th>\n",
       "      <th>expected_delivery_date</th>\n",
       "    </tr>\n",
       "  </thead>\n",
       "  <tbody>\n",
       "    <tr>\n",
       "      <th>0</th>\n",
       "      <td>14/02/2023</td>\n",
       "      <td>23045429724</td>\n",
       "      <td>9.0</td>\n",
       "      <td>pY85faVkR6OCPZQ0CefuH</td>\n",
       "      <td>CLOSED</td>\n",
       "      <td>P437048134760065132</td>\n",
       "      <td>281.0</td>\n",
       "      <td>1</td>\n",
       "      <td>0.0</td>\n",
       "      <td>15/02/2023</td>\n",
       "    </tr>\n",
       "    <tr>\n",
       "      <th>1</th>\n",
       "      <td>19/02/2023</td>\n",
       "      <td>23050463841</td>\n",
       "      <td>21.0</td>\n",
       "      <td>6FTIDJ65jt1arkhJm2bbmL</td>\n",
       "      <td>CLOSED</td>\n",
       "      <td>P5801744203932</td>\n",
       "      <td>75.0</td>\n",
       "      <td>10</td>\n",
       "      <td>0.0</td>\n",
       "      <td>20/02/2023</td>\n",
       "    </tr>\n",
       "    <tr>\n",
       "      <th>2</th>\n",
       "      <td>20/02/2023</td>\n",
       "      <td>23051024482</td>\n",
       "      <td>4.0</td>\n",
       "      <td>7JQvKYYMMCSzfni42DKw5a</td>\n",
       "      <td>CLOSED</td>\n",
       "      <td>P810622842427393343</td>\n",
       "      <td>5420.0</td>\n",
       "      <td>1</td>\n",
       "      <td>0.0</td>\n",
       "      <td>21/02/2023</td>\n",
       "    </tr>\n",
       "    <tr>\n",
       "      <th>3</th>\n",
       "      <td>2023-06-02 00:00:00</td>\n",
       "      <td>23037635371</td>\n",
       "      <td>4.0</td>\n",
       "      <td>6tjBYLZoWt70PUXokHPEit</td>\n",
       "      <td>CANCELLED</td>\n",
       "      <td>P957287950450245066</td>\n",
       "      <td>2600.0</td>\n",
       "      <td>50</td>\n",
       "      <td>0.0</td>\n",
       "      <td>2023-07-02 00:00:00</td>\n",
       "    </tr>\n",
       "    <tr>\n",
       "      <th>4</th>\n",
       "      <td>15/02/2023</td>\n",
       "      <td>23046508076</td>\n",
       "      <td>15.0</td>\n",
       "      <td>1w0FMk0J5K43sIqSZv9b5t</td>\n",
       "      <td>CLOSED</td>\n",
       "      <td>P862686710671848219</td>\n",
       "      <td>85.0</td>\n",
       "      <td>15</td>\n",
       "      <td>0.0</td>\n",
       "      <td>16/02/2023</td>\n",
       "    </tr>\n",
       "  </tbody>\n",
       "</table>\n",
       "</div>"
      ],
      "text/plain": [
       "            order_date  order_number  order_warehouse_id  \\\n",
       "0           14/02/2023   23045429724                 9.0   \n",
       "1           19/02/2023   23050463841                21.0   \n",
       "2           20/02/2023   23051024482                 4.0   \n",
       "3  2023-06-02 00:00:00   23037635371                 4.0   \n",
       "4           15/02/2023   23046508076                15.0   \n",
       "\n",
       "                 store_id order_status              item_id  amount_per_unit  \\\n",
       "0   pY85faVkR6OCPZQ0CefuH       CLOSED  P437048134760065132            281.0   \n",
       "1  6FTIDJ65jt1arkhJm2bbmL       CLOSED       P5801744203932             75.0   \n",
       "2  7JQvKYYMMCSzfni42DKw5a       CLOSED  P810622842427393343           5420.0   \n",
       "3  6tjBYLZoWt70PUXokHPEit    CANCELLED  P957287950450245066           2600.0   \n",
       "4  1w0FMk0J5K43sIqSZv9b5t       CLOSED  P862686710671848219             85.0   \n",
       "\n",
       "   ordered_quantity  item_discount expected_delivery_date  \n",
       "0                 1            0.0             15/02/2023  \n",
       "1                10            0.0             20/02/2023  \n",
       "2                 1            0.0             21/02/2023  \n",
       "3                50            0.0    2023-07-02 00:00:00  \n",
       "4                15            0.0             16/02/2023  "
      ]
     },
     "execution_count": 7,
     "metadata": {},
     "output_type": "execute_result"
    }
   ],
   "source": [
    "sqldf('''SELECT * \n",
    "         FROM bazaar_Study\n",
    "         LIMIT 5\n",
    "         ''')"
   ]
  },
  {
   "cell_type": "markdown",
   "id": "60f27ae1-5c91-4d4b-8cd9-5ffa63ecda79",
   "metadata": {},
   "source": [
    "**1. Total Numbers of Orders**"
   ]
  },
  {
   "cell_type": "code",
   "execution_count": 8,
   "id": "57dbeb3a-e431-48d2-8986-4bf81aa64b12",
   "metadata": {},
   "outputs": [
    {
     "data": {
      "text/html": [
       "<div>\n",
       "<style scoped>\n",
       "    .dataframe tbody tr th:only-of-type {\n",
       "        vertical-align: middle;\n",
       "    }\n",
       "\n",
       "    .dataframe tbody tr th {\n",
       "        vertical-align: top;\n",
       "    }\n",
       "\n",
       "    .dataframe thead th {\n",
       "        text-align: right;\n",
       "    }\n",
       "</style>\n",
       "<table border=\"1\" class=\"dataframe\">\n",
       "  <thead>\n",
       "    <tr style=\"text-align: right;\">\n",
       "      <th></th>\n",
       "      <th>Total_Number_of_Orders</th>\n",
       "    </tr>\n",
       "  </thead>\n",
       "  <tbody>\n",
       "    <tr>\n",
       "      <th>0</th>\n",
       "      <td>7495</td>\n",
       "    </tr>\n",
       "  </tbody>\n",
       "</table>\n",
       "</div>"
      ],
      "text/plain": [
       "   Total_Number_of_Orders\n",
       "0                    7495"
      ]
     },
     "execution_count": 8,
     "metadata": {},
     "output_type": "execute_result"
    }
   ],
   "source": [
    "sqldf('''\n",
    "         SELECT COUNT(DISTINCT order_number) AS Total_Number_of_Orders\n",
    "         FROM bazaar_Study\n",
    "         ''')"
   ]
  },
  {
   "cell_type": "markdown",
   "id": "e084181b-092f-40c5-861d-5bf9586a5c7b",
   "metadata": {},
   "source": [
    "**2. Total Sales Revenue**"
   ]
  },
  {
   "cell_type": "code",
   "execution_count": 9,
   "id": "2bdd88bf-2e63-4c0b-93d5-c689935a2e7e",
   "metadata": {},
   "outputs": [
    {
     "data": {
      "text/html": [
       "<div>\n",
       "<style scoped>\n",
       "    .dataframe tbody tr th:only-of-type {\n",
       "        vertical-align: middle;\n",
       "    }\n",
       "\n",
       "    .dataframe tbody tr th {\n",
       "        vertical-align: top;\n",
       "    }\n",
       "\n",
       "    .dataframe thead th {\n",
       "        text-align: right;\n",
       "    }\n",
       "</style>\n",
       "<table border=\"1\" class=\"dataframe\">\n",
       "  <thead>\n",
       "    <tr style=\"text-align: right;\">\n",
       "      <th></th>\n",
       "      <th>Total_Revenue</th>\n",
       "    </tr>\n",
       "  </thead>\n",
       "  <tbody>\n",
       "    <tr>\n",
       "      <th>0</th>\n",
       "      <td>1.154412e+08</td>\n",
       "    </tr>\n",
       "  </tbody>\n",
       "</table>\n",
       "</div>"
      ],
      "text/plain": [
       "   Total_Revenue\n",
       "0   1.154412e+08"
      ]
     },
     "execution_count": 9,
     "metadata": {},
     "output_type": "execute_result"
    }
   ],
   "source": [
    "sqldf('''\n",
    "         SELECT SUM(((ordered_quantity * amount_per_unit) - ABS(item_discount))) AS Total_Revenue\n",
    "         FROM bazaar_Study\n",
    "         ''')"
   ]
  },
  {
   "cell_type": "markdown",
   "id": "1e2cce48-b18b-4232-9f72-29652e560e6b",
   "metadata": {},
   "source": [
    "**3. Average Order Quantity**"
   ]
  },
  {
   "cell_type": "code",
   "execution_count": 11,
   "id": "d72f8359-1a38-4d1f-a7f0-de6e29b3954c",
   "metadata": {},
   "outputs": [
    {
     "data": {
      "text/html": [
       "<div>\n",
       "<style scoped>\n",
       "    .dataframe tbody tr th:only-of-type {\n",
       "        vertical-align: middle;\n",
       "    }\n",
       "\n",
       "    .dataframe tbody tr th {\n",
       "        vertical-align: top;\n",
       "    }\n",
       "\n",
       "    .dataframe thead th {\n",
       "        text-align: right;\n",
       "    }\n",
       "</style>\n",
       "<table border=\"1\" class=\"dataframe\">\n",
       "  <thead>\n",
       "    <tr style=\"text-align: right;\">\n",
       "      <th></th>\n",
       "      <th>Average_Ordered_Quantity</th>\n",
       "    </tr>\n",
       "  </thead>\n",
       "  <tbody>\n",
       "    <tr>\n",
       "      <th>0</th>\n",
       "      <td>22.84188</td>\n",
       "    </tr>\n",
       "  </tbody>\n",
       "</table>\n",
       "</div>"
      ],
      "text/plain": [
       "   Average_Ordered_Quantity\n",
       "0                  22.84188"
      ]
     },
     "execution_count": 11,
     "metadata": {},
     "output_type": "execute_result"
    }
   ],
   "source": [
    "sqldf('''\n",
    "         SELECT AVG(ordered_quantity) AS Average_Ordered_Quantity\n",
    "         FROM bazaar_Study\n",
    "         ''')"
   ]
  },
  {
   "cell_type": "markdown",
   "id": "0e71dd3f-860e-41f3-9be7-3dc09c6af866",
   "metadata": {},
   "source": [
    "**4(a). Distribution of orders by warehouse and store**"
   ]
  },
  {
   "cell_type": "code",
   "execution_count": 12,
   "id": "07f5a24b-f305-4378-ac68-7c12312a766f",
   "metadata": {},
   "outputs": [
    {
     "data": {
      "text/html": [
       "<div>\n",
       "<style scoped>\n",
       "    .dataframe tbody tr th:only-of-type {\n",
       "        vertical-align: middle;\n",
       "    }\n",
       "\n",
       "    .dataframe tbody tr th {\n",
       "        vertical-align: top;\n",
       "    }\n",
       "\n",
       "    .dataframe thead th {\n",
       "        text-align: right;\n",
       "    }\n",
       "</style>\n",
       "<table border=\"1\" class=\"dataframe\">\n",
       "  <thead>\n",
       "    <tr style=\"text-align: right;\">\n",
       "      <th></th>\n",
       "      <th>Warehouse</th>\n",
       "      <th>Store</th>\n",
       "      <th>Distribution_of_orders</th>\n",
       "    </tr>\n",
       "  </thead>\n",
       "  <tbody>\n",
       "    <tr>\n",
       "      <th>0</th>\n",
       "      <td>2.0</td>\n",
       "      <td>3690100000000</td>\n",
       "      <td>5</td>\n",
       "    </tr>\n",
       "    <tr>\n",
       "      <th>1</th>\n",
       "      <td>2.0</td>\n",
       "      <td>6HEvbEzF3K1C30aODVWMDt</td>\n",
       "      <td>5</td>\n",
       "    </tr>\n",
       "    <tr>\n",
       "      <th>2</th>\n",
       "      <td>5.0</td>\n",
       "      <td>2lB2SBi7xRUgcwRUQUQfz6</td>\n",
       "      <td>5</td>\n",
       "    </tr>\n",
       "    <tr>\n",
       "      <th>3</th>\n",
       "      <td>2.0</td>\n",
       "      <td>13E6LBIMxkngJnp8pjbpXx</td>\n",
       "      <td>4</td>\n",
       "    </tr>\n",
       "    <tr>\n",
       "      <th>4</th>\n",
       "      <td>2.0</td>\n",
       "      <td>4Fnx5nkCgntmmf1XUcoboG</td>\n",
       "      <td>4</td>\n",
       "    </tr>\n",
       "  </tbody>\n",
       "</table>\n",
       "</div>"
      ],
      "text/plain": [
       "   Warehouse                   Store  Distribution_of_orders\n",
       "0        2.0           3690100000000                       5\n",
       "1        2.0  6HEvbEzF3K1C30aODVWMDt                       5\n",
       "2        5.0  2lB2SBi7xRUgcwRUQUQfz6                       5\n",
       "3        2.0  13E6LBIMxkngJnp8pjbpXx                       4\n",
       "4        2.0  4Fnx5nkCgntmmf1XUcoboG                       4"
      ]
     },
     "execution_count": 12,
     "metadata": {},
     "output_type": "execute_result"
    }
   ],
   "source": [
    "sqldf('''\n",
    "         SELECT order_warehouse_id AS Warehouse,\n",
    "                store_id AS Store,\n",
    "                COUNT(DISTINCT order_number) AS Distribution_of_orders\n",
    "         FROM bazaar_Study\n",
    "         GROUP BY  order_warehouse_id,store_id\n",
    "         HAVING Warehouse IS NOT NULL\n",
    "         ORDER BY Distribution_of_orders DESC\n",
    "         LIMIT 5\n",
    "         ''')"
   ]
  },
  {
   "cell_type": "markdown",
   "id": "82f74d76-afd2-4c4d-b417-f45d43f881a9",
   "metadata": {},
   "source": [
    "**4(b). Distribution of orders By Warehouse**"
   ]
  },
  {
   "cell_type": "code",
   "execution_count": 13,
   "id": "24f73f24-c5a4-4200-9391-0ae1b2b3129b",
   "metadata": {},
   "outputs": [
    {
     "data": {
      "text/html": [
       "<div>\n",
       "<style scoped>\n",
       "    .dataframe tbody tr th:only-of-type {\n",
       "        vertical-align: middle;\n",
       "    }\n",
       "\n",
       "    .dataframe tbody tr th {\n",
       "        vertical-align: top;\n",
       "    }\n",
       "\n",
       "    .dataframe thead th {\n",
       "        text-align: right;\n",
       "    }\n",
       "</style>\n",
       "<table border=\"1\" class=\"dataframe\">\n",
       "  <thead>\n",
       "    <tr style=\"text-align: right;\">\n",
       "      <th></th>\n",
       "      <th>Warehouse</th>\n",
       "      <th>Distribution_of_orders</th>\n",
       "    </tr>\n",
       "  </thead>\n",
       "  <tbody>\n",
       "    <tr>\n",
       "      <th>0</th>\n",
       "      <td>3.0</td>\n",
       "      <td>1651</td>\n",
       "    </tr>\n",
       "    <tr>\n",
       "      <th>1</th>\n",
       "      <td>2.0</td>\n",
       "      <td>1351</td>\n",
       "    </tr>\n",
       "    <tr>\n",
       "      <th>2</th>\n",
       "      <td>11.0</td>\n",
       "      <td>927</td>\n",
       "    </tr>\n",
       "    <tr>\n",
       "      <th>3</th>\n",
       "      <td>8.0</td>\n",
       "      <td>713</td>\n",
       "    </tr>\n",
       "    <tr>\n",
       "      <th>4</th>\n",
       "      <td>5.0</td>\n",
       "      <td>675</td>\n",
       "    </tr>\n",
       "  </tbody>\n",
       "</table>\n",
       "</div>"
      ],
      "text/plain": [
       "   Warehouse  Distribution_of_orders\n",
       "0        3.0                    1651\n",
       "1        2.0                    1351\n",
       "2       11.0                     927\n",
       "3        8.0                     713\n",
       "4        5.0                     675"
      ]
     },
     "execution_count": 13,
     "metadata": {},
     "output_type": "execute_result"
    }
   ],
   "source": [
    "sqldf('''\n",
    "         SELECT order_warehouse_id AS Warehouse,\n",
    "                COUNT(DISTINCT order_number) AS Distribution_of_orders\n",
    "         FROM bazaar_Study\n",
    "         GROUP BY  order_warehouse_id\n",
    "         HAVING Warehouse IS NOT NULL\n",
    "         ORDER BY Distribution_of_orders DESC\n",
    "         LIMIT 5\n",
    "         ''')"
   ]
  },
  {
   "cell_type": "markdown",
   "id": "72b9bf8f-1d85-41f4-81d9-5fbc20325276",
   "metadata": {},
   "source": [
    "**4(c). Distribution of orders By Stores**"
   ]
  },
  {
   "cell_type": "code",
   "execution_count": 105,
   "id": "3d42fc91-ef92-4b0f-b147-bf959e06c367",
   "metadata": {},
   "outputs": [
    {
     "data": {
      "text/html": [
       "<div>\n",
       "<style scoped>\n",
       "    .dataframe tbody tr th:only-of-type {\n",
       "        vertical-align: middle;\n",
       "    }\n",
       "\n",
       "    .dataframe tbody tr th {\n",
       "        vertical-align: top;\n",
       "    }\n",
       "\n",
       "    .dataframe thead th {\n",
       "        text-align: right;\n",
       "    }\n",
       "</style>\n",
       "<table border=\"1\" class=\"dataframe\">\n",
       "  <thead>\n",
       "    <tr style=\"text-align: right;\">\n",
       "      <th></th>\n",
       "      <th>Store</th>\n",
       "      <th>Distribution_of_orders</th>\n",
       "    </tr>\n",
       "  </thead>\n",
       "  <tbody>\n",
       "    <tr>\n",
       "      <th>0</th>\n",
       "      <td>6HEvbEzF3K1C30aODVWMDt</td>\n",
       "      <td>5</td>\n",
       "    </tr>\n",
       "    <tr>\n",
       "      <th>1</th>\n",
       "      <td>3690100000000</td>\n",
       "      <td>5</td>\n",
       "    </tr>\n",
       "    <tr>\n",
       "      <th>2</th>\n",
       "      <td>2lB2SBi7xRUgcwRUQUQfz6</td>\n",
       "      <td>5</td>\n",
       "    </tr>\n",
       "    <tr>\n",
       "      <th>3</th>\n",
       "      <td>NMNbguQTkB38lWVP5UKTY</td>\n",
       "      <td>4</td>\n",
       "    </tr>\n",
       "    <tr>\n",
       "      <th>4</th>\n",
       "      <td>7136rrDwj9ULZd4MfYm7e5</td>\n",
       "      <td>4</td>\n",
       "    </tr>\n",
       "  </tbody>\n",
       "</table>\n",
       "</div>"
      ],
      "text/plain": [
       "                    Store  Distribution_of_orders\n",
       "0  6HEvbEzF3K1C30aODVWMDt                       5\n",
       "1           3690100000000                       5\n",
       "2  2lB2SBi7xRUgcwRUQUQfz6                       5\n",
       "3   NMNbguQTkB38lWVP5UKTY                       4\n",
       "4  7136rrDwj9ULZd4MfYm7e5                       4"
      ]
     },
     "execution_count": 105,
     "metadata": {},
     "output_type": "execute_result"
    }
   ],
   "source": [
    "sqldf('''\n",
    "         SELECT store_id AS Store,\n",
    "                COUNT(DISTINCT order_number) AS Distribution_of_orders\n",
    "         FROM bazaar_Study\n",
    "         GROUP BY  store_id\n",
    "         ORDER BY Distribution_of_orders DESC\n",
    "         LIMIT 5\n",
    "         ''')"
   ]
  },
  {
   "cell_type": "markdown",
   "id": "f0f46d00-3e69-4c58-8022-67af493cb304",
   "metadata": {},
   "source": [
    "**5. Top Selling Items**"
   ]
  },
  {
   "cell_type": "code",
   "execution_count": 57,
   "id": "3a117747-a0f0-4b37-9160-b82bc1169cf6",
   "metadata": {},
   "outputs": [
    {
     "data": {
      "text/html": [
       "<div>\n",
       "<style scoped>\n",
       "    .dataframe tbody tr th:only-of-type {\n",
       "        vertical-align: middle;\n",
       "    }\n",
       "\n",
       "    .dataframe tbody tr th {\n",
       "        vertical-align: top;\n",
       "    }\n",
       "\n",
       "    .dataframe thead th {\n",
       "        text-align: right;\n",
       "    }\n",
       "</style>\n",
       "<table border=\"1\" class=\"dataframe\">\n",
       "  <thead>\n",
       "    <tr style=\"text-align: right;\">\n",
       "      <th></th>\n",
       "      <th>Top_Selling_items</th>\n",
       "      <th>Total_quanity_sold</th>\n",
       "    </tr>\n",
       "  </thead>\n",
       "  <tbody>\n",
       "    <tr>\n",
       "      <th>0</th>\n",
       "      <td>P2RwFPjdKJ0oFr9OoVmrDRm</td>\n",
       "      <td>400000</td>\n",
       "    </tr>\n",
       "    <tr>\n",
       "      <th>1</th>\n",
       "      <td>P5914112688284</td>\n",
       "      <td>20926</td>\n",
       "    </tr>\n",
       "    <tr>\n",
       "      <th>2</th>\n",
       "      <td>P227644615428796458</td>\n",
       "      <td>12108</td>\n",
       "    </tr>\n",
       "    <tr>\n",
       "      <th>3</th>\n",
       "      <td>P5678188101788</td>\n",
       "      <td>7379</td>\n",
       "    </tr>\n",
       "    <tr>\n",
       "      <th>4</th>\n",
       "      <td>P193053596797216954</td>\n",
       "      <td>5715</td>\n",
       "    </tr>\n",
       "  </tbody>\n",
       "</table>\n",
       "</div>"
      ],
      "text/plain": [
       "         Top_Selling_items  Total_quanity_sold\n",
       "0  P2RwFPjdKJ0oFr9OoVmrDRm              400000\n",
       "1           P5914112688284               20926\n",
       "2      P227644615428796458               12108\n",
       "3           P5678188101788                7379\n",
       "4      P193053596797216954                5715"
      ]
     },
     "execution_count": 57,
     "metadata": {},
     "output_type": "execute_result"
    }
   ],
   "source": [
    "sqldf('''\n",
    "         SELECT item_id AS Top_Selling_items, \n",
    "                SUM(ordered_quantity) AS Total_quanity_sold\n",
    "         FROM bazaar_Study\n",
    "         GROUP BY  item_id\n",
    "         ORDER BY Total_quanity_sold DESC\n",
    "         LIMIT 5\n",
    "         ''')"
   ]
  },
  {
   "cell_type": "markdown",
   "id": "6a5dc780-7fd9-4312-9709-dc4474ef536c",
   "metadata": {},
   "source": [
    "### Step 3\n",
    "\n",
    "### Answering Analytical Questions Using SQL"
   ]
  },
  {
   "cell_type": "markdown",
   "id": "1c2a7369-6d91-49fd-97c3-81fd7a4ac7f9",
   "metadata": {},
   "source": [
    "**1. Overall discount rate**"
   ]
  },
  {
   "cell_type": "markdown",
   "id": "fc88be89-6c70-4c4f-b0b4-3f8c2dd53c2f",
   "metadata": {},
   "source": [
    "In most cases, discounts are conventionally represented as negative values. This convention makes sense because discounts are typically amounts subtracted from the original price. Therefore, it's generally better to represent discounts as negative values."
   ]
  },
  {
   "cell_type": "code",
   "execution_count": 16,
   "id": "d633d16d-5f31-4387-aeba-bba2b5ae0d23",
   "metadata": {},
   "outputs": [
    {
     "data": {
      "text/html": [
       "<div>\n",
       "<style scoped>\n",
       "    .dataframe tbody tr th:only-of-type {\n",
       "        vertical-align: middle;\n",
       "    }\n",
       "\n",
       "    .dataframe tbody tr th {\n",
       "        vertical-align: top;\n",
       "    }\n",
       "\n",
       "    .dataframe thead th {\n",
       "        text-align: right;\n",
       "    }\n",
       "</style>\n",
       "<table border=\"1\" class=\"dataframe\">\n",
       "  <thead>\n",
       "    <tr style=\"text-align: right;\">\n",
       "      <th></th>\n",
       "      <th>item_discount</th>\n",
       "    </tr>\n",
       "  </thead>\n",
       "  <tbody>\n",
       "    <tr>\n",
       "      <th>0</th>\n",
       "      <td>-2.500000e+05</td>\n",
       "    </tr>\n",
       "    <tr>\n",
       "      <th>1</th>\n",
       "      <td>-8.065200e+02</td>\n",
       "    </tr>\n",
       "    <tr>\n",
       "      <th>2</th>\n",
       "      <td>-1.000000e+00</td>\n",
       "    </tr>\n",
       "    <tr>\n",
       "      <th>3</th>\n",
       "      <td>-1.600000e+08</td>\n",
       "    </tr>\n",
       "    <tr>\n",
       "      <th>4</th>\n",
       "      <td>-2.990000e+00</td>\n",
       "    </tr>\n",
       "    <tr>\n",
       "      <th>5</th>\n",
       "      <td>-1.350000e+02</td>\n",
       "    </tr>\n",
       "  </tbody>\n",
       "</table>\n",
       "</div>"
      ],
      "text/plain": [
       "   item_discount\n",
       "0  -2.500000e+05\n",
       "1  -8.065200e+02\n",
       "2  -1.000000e+00\n",
       "3  -1.600000e+08\n",
       "4  -2.990000e+00\n",
       "5  -1.350000e+02"
      ]
     },
     "execution_count": 16,
     "metadata": {},
     "output_type": "execute_result"
    }
   ],
   "source": [
    "sqldf('''\n",
    "         SELECT item_discount\n",
    "         FROM bazaar_Study\n",
    "         WHERE item_discount < 0\n",
    "         ''')"
   ]
  },
  {
   "cell_type": "code",
   "execution_count": 17,
   "id": "414d412a-34c2-4088-9008-24a7950a1f73",
   "metadata": {},
   "outputs": [
    {
     "data": {
      "text/html": [
       "<div>\n",
       "<style scoped>\n",
       "    .dataframe tbody tr th:only-of-type {\n",
       "        vertical-align: middle;\n",
       "    }\n",
       "\n",
       "    .dataframe tbody tr th {\n",
       "        vertical-align: top;\n",
       "    }\n",
       "\n",
       "    .dataframe thead th {\n",
       "        text-align: right;\n",
       "    }\n",
       "</style>\n",
       "<table border=\"1\" class=\"dataframe\">\n",
       "  <thead>\n",
       "    <tr style=\"text-align: right;\">\n",
       "      <th></th>\n",
       "      <th>item_discount</th>\n",
       "    </tr>\n",
       "  </thead>\n",
       "  <tbody>\n",
       "    <tr>\n",
       "      <th>0</th>\n",
       "      <td>36.0</td>\n",
       "    </tr>\n",
       "    <tr>\n",
       "      <th>1</th>\n",
       "      <td>36.0</td>\n",
       "    </tr>\n",
       "    <tr>\n",
       "      <th>2</th>\n",
       "      <td>600.0</td>\n",
       "    </tr>\n",
       "    <tr>\n",
       "      <th>3</th>\n",
       "      <td>3500.0</td>\n",
       "    </tr>\n",
       "    <tr>\n",
       "      <th>4</th>\n",
       "      <td>7.0</td>\n",
       "    </tr>\n",
       "    <tr>\n",
       "      <th>...</th>\n",
       "      <td>...</td>\n",
       "    </tr>\n",
       "    <tr>\n",
       "      <th>5725</th>\n",
       "      <td>5.0</td>\n",
       "    </tr>\n",
       "    <tr>\n",
       "      <th>5726</th>\n",
       "      <td>6.0</td>\n",
       "    </tr>\n",
       "    <tr>\n",
       "      <th>5727</th>\n",
       "      <td>240.0</td>\n",
       "    </tr>\n",
       "    <tr>\n",
       "      <th>5728</th>\n",
       "      <td>3.0</td>\n",
       "    </tr>\n",
       "    <tr>\n",
       "      <th>5729</th>\n",
       "      <td>4.0</td>\n",
       "    </tr>\n",
       "  </tbody>\n",
       "</table>\n",
       "<p>5730 rows × 1 columns</p>\n",
       "</div>"
      ],
      "text/plain": [
       "      item_discount\n",
       "0              36.0\n",
       "1              36.0\n",
       "2             600.0\n",
       "3            3500.0\n",
       "4               7.0\n",
       "...             ...\n",
       "5725            5.0\n",
       "5726            6.0\n",
       "5727          240.0\n",
       "5728            3.0\n",
       "5729            4.0\n",
       "\n",
       "[5730 rows x 1 columns]"
      ]
     },
     "execution_count": 17,
     "metadata": {},
     "output_type": "execute_result"
    }
   ],
   "source": [
    "sqldf('''\n",
    "         SELECT item_discount\n",
    "         FROM bazaar_Study\n",
    "         WHERE item_discount > 0\n",
    "         ''')"
   ]
  },
  {
   "cell_type": "markdown",
   "id": "652f10fc-c3f8-4ba2-9917-96b6cdb4d353",
   "metadata": {},
   "source": [
    "In our dataset, I observed an inconsistency in the representation of discounts, where some discounts are recorded as positive values while others are negative. To address this inconsistency, I made the decision to convert all discounts to negative values before calculating the average discount rate. This decision was based on the conventional practice in finance and accounting, where discounts are typically represented as negative values.\n",
    "\n",
    "By adhering to this convention, I ensure consistency and clarity in the representation of discounts, facilitating accurate analysis and interpretation of the data. Converting discounts to negative values aligns with the intuitive understanding of discounts as deductions or reductions from the original price, simplifying computations and enhancing the interpretability of the dataset. Therefore, the calculated average discount rate reflects the standardized representation of discounts as negative values, enabling meaningful analysis of pricing strategies and sales performance."
   ]
  },
  {
   "cell_type": "code",
   "execution_count": 18,
   "id": "ac98005a-6dd5-4532-895f-dd1ecf11aa18",
   "metadata": {},
   "outputs": [
    {
     "data": {
      "text/html": [
       "<div>\n",
       "<style scoped>\n",
       "    .dataframe tbody tr th:only-of-type {\n",
       "        vertical-align: middle;\n",
       "    }\n",
       "\n",
       "    .dataframe tbody tr th {\n",
       "        vertical-align: top;\n",
       "    }\n",
       "\n",
       "    .dataframe thead th {\n",
       "        text-align: right;\n",
       "    }\n",
       "</style>\n",
       "<table border=\"1\" class=\"dataframe\">\n",
       "  <thead>\n",
       "    <tr style=\"text-align: right;\">\n",
       "      <th></th>\n",
       "      <th>overall_discount_rate</th>\n",
       "    </tr>\n",
       "  </thead>\n",
       "  <tbody>\n",
       "    <tr>\n",
       "      <th>0</th>\n",
       "      <td>-6520.88516</td>\n",
       "    </tr>\n",
       "  </tbody>\n",
       "</table>\n",
       "</div>"
      ],
      "text/plain": [
       "   overall_discount_rate\n",
       "0            -6520.88516"
      ]
     },
     "execution_count": 18,
     "metadata": {},
     "output_type": "execute_result"
    }
   ],
   "source": [
    "sqldf('''\n",
    "         SELECT AVG(\n",
    "                    CASE WHEN item_discount > 0 THEN item_discount * -1\n",
    "                    ELSE item_discount\n",
    "                    END) AS overall_discount_rate\n",
    "         FROM bazaar_Study\n",
    "         ''')"
   ]
  },
  {
   "cell_type": "markdown",
   "id": "03fd68f1-4a78-46a9-8ef4-2fdf1807ba3f",
   "metadata": {},
   "source": [
    "**1(b). The average discount per item sold for each distinct item_id**"
   ]
  },
  {
   "cell_type": "code",
   "execution_count": 107,
   "id": "8d02f1b7-869d-44e9-a0bc-0c3d50317f4a",
   "metadata": {},
   "outputs": [
    {
     "data": {
      "text/html": [
       "<div>\n",
       "<style scoped>\n",
       "    .dataframe tbody tr th:only-of-type {\n",
       "        vertical-align: middle;\n",
       "    }\n",
       "\n",
       "    .dataframe tbody tr th {\n",
       "        vertical-align: top;\n",
       "    }\n",
       "\n",
       "    .dataframe thead th {\n",
       "        text-align: right;\n",
       "    }\n",
       "</style>\n",
       "<table border=\"1\" class=\"dataframe\">\n",
       "  <thead>\n",
       "    <tr style=\"text-align: right;\">\n",
       "      <th></th>\n",
       "      <th>item_id</th>\n",
       "      <th>AVG_Discount_Per_Item_Sold_For_Each_Item</th>\n",
       "    </tr>\n",
       "  </thead>\n",
       "  <tbody>\n",
       "    <tr>\n",
       "      <th>0</th>\n",
       "      <td>P2RwFPjdKJ0oFr9OoVmrDRm</td>\n",
       "      <td>-1.600000e+08</td>\n",
       "    </tr>\n",
       "    <tr>\n",
       "      <th>1</th>\n",
       "      <td>P431219087541607447</td>\n",
       "      <td>-3.650260e+05</td>\n",
       "    </tr>\n",
       "    <tr>\n",
       "      <th>2</th>\n",
       "      <td>P7EuMEqNrLfjaPC1nvEUqsB</td>\n",
       "      <td>-2.500000e+05</td>\n",
       "    </tr>\n",
       "    <tr>\n",
       "      <th>3</th>\n",
       "      <td>P358836009799511708</td>\n",
       "      <td>-5.764835e+04</td>\n",
       "    </tr>\n",
       "    <tr>\n",
       "      <th>4</th>\n",
       "      <td>P5532071329948</td>\n",
       "      <td>-1.612000e+04</td>\n",
       "    </tr>\n",
       "  </tbody>\n",
       "</table>\n",
       "</div>"
      ],
      "text/plain": [
       "                   item_id  AVG_Discount_Per_Item_Sold_For_Each_Item\n",
       "0  P2RwFPjdKJ0oFr9OoVmrDRm                             -1.600000e+08\n",
       "1      P431219087541607447                             -3.650260e+05\n",
       "2  P7EuMEqNrLfjaPC1nvEUqsB                             -2.500000e+05\n",
       "3      P358836009799511708                             -5.764835e+04\n",
       "4           P5532071329948                             -1.612000e+04"
      ]
     },
     "execution_count": 107,
     "metadata": {},
     "output_type": "execute_result"
    }
   ],
   "source": [
    "sqldf('''\n",
    "         SELECT item_id,\n",
    "                AVG(CASE WHEN item_discount > 0 THEN item_discount * -1\n",
    "                ELSE item_discount\n",
    "                END\n",
    "                ) AS AVG_Discount_Per_Item_Sold_For_Each_Item\n",
    "         FROM bazaar_Study\n",
    "         GROUP BY item_id\n",
    "         ORDER BY  AVG_Discount_Per_Item_Sold_For_Each_Item \n",
    "         LIMIT 5\n",
    "         ''')"
   ]
  },
  {
   "cell_type": "markdown",
   "id": "0a4801bf-b93f-458d-9607-99f602375f78",
   "metadata": {},
   "source": [
    "**2. Which warehouse has the highest average order value**"
   ]
  },
  {
   "cell_type": "code",
   "execution_count": 61,
   "id": "9becb306-10e5-4197-81eb-bf7efd2db4ec",
   "metadata": {},
   "outputs": [
    {
     "data": {
      "text/html": [
       "<div>\n",
       "<style scoped>\n",
       "    .dataframe tbody tr th:only-of-type {\n",
       "        vertical-align: middle;\n",
       "    }\n",
       "\n",
       "    .dataframe tbody tr th {\n",
       "        vertical-align: top;\n",
       "    }\n",
       "\n",
       "    .dataframe thead th {\n",
       "        text-align: right;\n",
       "    }\n",
       "</style>\n",
       "<table border=\"1\" class=\"dataframe\">\n",
       "  <thead>\n",
       "    <tr style=\"text-align: right;\">\n",
       "      <th></th>\n",
       "      <th>order_warehouse_id</th>\n",
       "      <th>highest_average_order_value</th>\n",
       "    </tr>\n",
       "  </thead>\n",
       "  <tbody>\n",
       "    <tr>\n",
       "      <th>0</th>\n",
       "      <td>14.0</td>\n",
       "      <td>136468.000000</td>\n",
       "    </tr>\n",
       "    <tr>\n",
       "      <th>1</th>\n",
       "      <td>39.0</td>\n",
       "      <td>58587.500000</td>\n",
       "    </tr>\n",
       "    <tr>\n",
       "      <th>2</th>\n",
       "      <td>7.0</td>\n",
       "      <td>27284.282051</td>\n",
       "    </tr>\n",
       "    <tr>\n",
       "      <th>3</th>\n",
       "      <td>5.0</td>\n",
       "      <td>23550.882627</td>\n",
       "    </tr>\n",
       "    <tr>\n",
       "      <th>4</th>\n",
       "      <td>4.0</td>\n",
       "      <td>20806.759340</td>\n",
       "    </tr>\n",
       "  </tbody>\n",
       "</table>\n",
       "</div>"
      ],
      "text/plain": [
       "   order_warehouse_id  highest_average_order_value\n",
       "0                14.0                136468.000000\n",
       "1                39.0                 58587.500000\n",
       "2                 7.0                 27284.282051\n",
       "3                 5.0                 23550.882627\n",
       "4                 4.0                 20806.759340"
      ]
     },
     "execution_count": 61,
     "metadata": {},
     "output_type": "execute_result"
    }
   ],
   "source": [
    "sqldf('''\n",
    "        SELECT order_warehouse_id,\n",
    "                SUM(ordered_quantity * amount_per_unit - ABS(item_discount)) / \n",
    "                COUNT(DISTINCT order_number) AS  highest_average_order_value\n",
    "         FROM bazaar_Study\n",
    "         WHERE order_warehouse_id IS NOT NULL\n",
    "         GROUP BY order_warehouse_id\n",
    "         ORDER BY  highest_average_order_value DESC\n",
    "         LIMIT 5\n",
    "         ''')"
   ]
  },
  {
   "cell_type": "markdown",
   "id": "414ab16c-745c-4c2d-a03c-94720b48a88e",
   "metadata": {},
   "source": [
    "**3. Total Revenue Generated by Each Store**"
   ]
  },
  {
   "cell_type": "code",
   "execution_count": 21,
   "id": "51a8ee11-ea09-48df-a1c0-73fe0ccd26e9",
   "metadata": {},
   "outputs": [
    {
     "data": {
      "text/html": [
       "<div>\n",
       "<style scoped>\n",
       "    .dataframe tbody tr th:only-of-type {\n",
       "        vertical-align: middle;\n",
       "    }\n",
       "\n",
       "    .dataframe tbody tr th {\n",
       "        vertical-align: top;\n",
       "    }\n",
       "\n",
       "    .dataframe thead th {\n",
       "        text-align: right;\n",
       "    }\n",
       "</style>\n",
       "<table border=\"1\" class=\"dataframe\">\n",
       "  <thead>\n",
       "    <tr style=\"text-align: right;\">\n",
       "      <th></th>\n",
       "      <th>store_id</th>\n",
       "      <th>Total_Revenue</th>\n",
       "    </tr>\n",
       "  </thead>\n",
       "  <tbody>\n",
       "    <tr>\n",
       "      <th>0</th>\n",
       "      <td>7ldsLx849ptRljYZTK8tl8</td>\n",
       "      <td>3360070.0</td>\n",
       "    </tr>\n",
       "    <tr>\n",
       "      <th>1</th>\n",
       "      <td>2Z9CsLeVlPvooYgQOUjcRI</td>\n",
       "      <td>2616020.0</td>\n",
       "    </tr>\n",
       "    <tr>\n",
       "      <th>2</th>\n",
       "      <td>4PdVF4u8WXhO4xnSMCYIzs</td>\n",
       "      <td>2560000.0</td>\n",
       "    </tr>\n",
       "    <tr>\n",
       "      <th>3</th>\n",
       "      <td>49WcD3UqaC72tOQ6tood3n</td>\n",
       "      <td>2030000.0</td>\n",
       "    </tr>\n",
       "    <tr>\n",
       "      <th>4</th>\n",
       "      <td>3ydAgE2Bkjbp6CvTfZjg7P</td>\n",
       "      <td>1880500.0</td>\n",
       "    </tr>\n",
       "  </tbody>\n",
       "</table>\n",
       "</div>"
      ],
      "text/plain": [
       "                 store_id  Total_Revenue\n",
       "0  7ldsLx849ptRljYZTK8tl8      3360070.0\n",
       "1  2Z9CsLeVlPvooYgQOUjcRI      2616020.0\n",
       "2  4PdVF4u8WXhO4xnSMCYIzs      2560000.0\n",
       "3  49WcD3UqaC72tOQ6tood3n      2030000.0\n",
       "4  3ydAgE2Bkjbp6CvTfZjg7P      1880500.0"
      ]
     },
     "execution_count": 21,
     "metadata": {},
     "output_type": "execute_result"
    }
   ],
   "source": [
    "sqldf('''\n",
    "         SELECT store_id,\n",
    "                SUM(ordered_quantity * amount_per_unit - ABS(item_discount)) AS Total_Revenue\n",
    "         FROM bazaar_Study\n",
    "         WHERE store_id IS NOT NULL\n",
    "         GROUP BY store_id\n",
    "         ORDER BY Total_Revenue DESC\n",
    "         LIMIT 5\n",
    "''')"
   ]
  },
  {
   "cell_type": "markdown",
   "id": "5a5cc91a-c19d-42f3-8eb4-1735f5f90aec",
   "metadata": {},
   "source": [
    "**4.  Identify the top 5 customers**"
   ]
  },
  {
   "cell_type": "code",
   "execution_count": 67,
   "id": "ae710c5b-8299-40bd-8526-6b82748ec330",
   "metadata": {},
   "outputs": [
    {
     "data": {
      "text/html": [
       "<div>\n",
       "<style scoped>\n",
       "    .dataframe tbody tr th:only-of-type {\n",
       "        vertical-align: middle;\n",
       "    }\n",
       "\n",
       "    .dataframe tbody tr th {\n",
       "        vertical-align: top;\n",
       "    }\n",
       "\n",
       "    .dataframe thead th {\n",
       "        text-align: right;\n",
       "    }\n",
       "</style>\n",
       "<table border=\"1\" class=\"dataframe\">\n",
       "  <thead>\n",
       "    <tr style=\"text-align: right;\">\n",
       "      <th></th>\n",
       "      <th>store_id</th>\n",
       "      <th>Top_Customers_Order_Id</th>\n",
       "      <th>Total_Amount_Spent</th>\n",
       "    </tr>\n",
       "  </thead>\n",
       "  <tbody>\n",
       "    <tr>\n",
       "      <th>0</th>\n",
       "      <td>7ldsLx849ptRljYZTK8tl8</td>\n",
       "      <td>23039497453</td>\n",
       "      <td>3360070.0</td>\n",
       "    </tr>\n",
       "    <tr>\n",
       "      <th>1</th>\n",
       "      <td>2Z9CsLeVlPvooYgQOUjcRI</td>\n",
       "      <td>23055942343</td>\n",
       "      <td>2616020.0</td>\n",
       "    </tr>\n",
       "    <tr>\n",
       "      <th>2</th>\n",
       "      <td>4PdVF4u8WXhO4xnSMCYIzs</td>\n",
       "      <td>23038626816</td>\n",
       "      <td>2560000.0</td>\n",
       "    </tr>\n",
       "    <tr>\n",
       "      <th>3</th>\n",
       "      <td>49WcD3UqaC72tOQ6tood3n</td>\n",
       "      <td>23046539355</td>\n",
       "      <td>2030000.0</td>\n",
       "    </tr>\n",
       "    <tr>\n",
       "      <th>4</th>\n",
       "      <td>3ydAgE2Bkjbp6CvTfZjg7P</td>\n",
       "      <td>23051225637</td>\n",
       "      <td>1880500.0</td>\n",
       "    </tr>\n",
       "  </tbody>\n",
       "</table>\n",
       "</div>"
      ],
      "text/plain": [
       "                 store_id  Top_Customers_Order_Id  Total_Amount_Spent\n",
       "0  7ldsLx849ptRljYZTK8tl8             23039497453           3360070.0\n",
       "1  2Z9CsLeVlPvooYgQOUjcRI             23055942343           2616020.0\n",
       "2  4PdVF4u8WXhO4xnSMCYIzs             23038626816           2560000.0\n",
       "3  49WcD3UqaC72tOQ6tood3n             23046539355           2030000.0\n",
       "4  3ydAgE2Bkjbp6CvTfZjg7P             23051225637           1880500.0"
      ]
     },
     "execution_count": 67,
     "metadata": {},
     "output_type": "execute_result"
    }
   ],
   "source": [
    "sqldf('''\n",
    "\n",
    "        SELECT store_id, \n",
    "               order_number AS Top_Customers_Order_Id,\n",
    "                SUM(ordered_quantity * amount_per_unit - ABS(item_discount)) AS Total_Amount_Spent\n",
    "         FROM bazaar_Study\n",
    "         WHERE store_id IS NOT NULL\n",
    "         GROUP BY store_id\n",
    "         ORDER BY Total_Amount_Spent DESC\n",
    "         LIMIT 5\n",
    "         \n",
    "\n",
    "''')"
   ]
  },
  {
   "cell_type": "markdown",
   "id": "09ef998f-e726-46b8-b80f-0ca7811f09da",
   "metadata": {},
   "source": [
    "**5.  Month-over-month growth rate of sales revenue**"
   ]
  },
  {
   "cell_type": "code",
   "execution_count": 103,
   "id": "2c8c39e3-4296-45e8-afa9-7b20ce077d3c",
   "metadata": {},
   "outputs": [
    {
     "data": {
      "text/html": [
       "<div>\n",
       "<style scoped>\n",
       "    .dataframe tbody tr th:only-of-type {\n",
       "        vertical-align: middle;\n",
       "    }\n",
       "\n",
       "    .dataframe tbody tr th {\n",
       "        vertical-align: top;\n",
       "    }\n",
       "\n",
       "    .dataframe thead th {\n",
       "        text-align: right;\n",
       "    }\n",
       "</style>\n",
       "<table border=\"1\" class=\"dataframe\">\n",
       "  <thead>\n",
       "    <tr style=\"text-align: right;\">\n",
       "      <th></th>\n",
       "      <th>month</th>\n",
       "      <th>sales_revenue</th>\n",
       "      <th>revenue_growth_rate</th>\n",
       "    </tr>\n",
       "  </thead>\n",
       "  <tbody>\n",
       "    <tr>\n",
       "      <th>0</th>\n",
       "      <td>2023-02</td>\n",
       "      <td>7.171018e+07</td>\n",
       "      <td>17.118508</td>\n",
       "    </tr>\n",
       "    <tr>\n",
       "      <th>1</th>\n",
       "      <td>2023-06</td>\n",
       "      <td>3.694340e+06</td>\n",
       "      <td>2.848190</td>\n",
       "    </tr>\n",
       "    <tr>\n",
       "      <th>2</th>\n",
       "      <td>2023-07</td>\n",
       "      <td>8.269361e+06</td>\n",
       "      <td>1.238387</td>\n",
       "    </tr>\n",
       "    <tr>\n",
       "      <th>3</th>\n",
       "      <td>2023-11</td>\n",
       "      <td>3.626123e+06</td>\n",
       "      <td>0.346765</td>\n",
       "    </tr>\n",
       "    <tr>\n",
       "      <th>4</th>\n",
       "      <td>2023-10</td>\n",
       "      <td>2.692469e+06</td>\n",
       "      <td>-0.094043</td>\n",
       "    </tr>\n",
       "    <tr>\n",
       "      <th>5</th>\n",
       "      <td>2023-08</td>\n",
       "      <td>7.463214e+06</td>\n",
       "      <td>-0.097486</td>\n",
       "    </tr>\n",
       "    <tr>\n",
       "      <th>6</th>\n",
       "      <td>2023-04</td>\n",
       "      <td>3.905202e+06</td>\n",
       "      <td>-0.131091</td>\n",
       "    </tr>\n",
       "    <tr>\n",
       "      <th>7</th>\n",
       "      <td>2023-12</td>\n",
       "      <td>1.696119e+06</td>\n",
       "      <td>-0.532250</td>\n",
       "    </tr>\n",
       "    <tr>\n",
       "      <th>8</th>\n",
       "      <td>2023-09</td>\n",
       "      <td>2.971962e+06</td>\n",
       "      <td>-0.601785</td>\n",
       "    </tr>\n",
       "    <tr>\n",
       "      <th>9</th>\n",
       "      <td>2023-05</td>\n",
       "      <td>9.600202e+05</td>\n",
       "      <td>-0.754169</td>\n",
       "    </tr>\n",
       "    <tr>\n",
       "      <th>10</th>\n",
       "      <td>2023-03</td>\n",
       "      <td>4.494372e+06</td>\n",
       "      <td>-0.937326</td>\n",
       "    </tr>\n",
       "    <tr>\n",
       "      <th>11</th>\n",
       "      <td>2023-01</td>\n",
       "      <td>3.957841e+06</td>\n",
       "      <td>NaN</td>\n",
       "    </tr>\n",
       "  </tbody>\n",
       "</table>\n",
       "</div>"
      ],
      "text/plain": [
       "      month  sales_revenue  revenue_growth_rate\n",
       "0   2023-02   7.171018e+07            17.118508\n",
       "1   2023-06   3.694340e+06             2.848190\n",
       "2   2023-07   8.269361e+06             1.238387\n",
       "3   2023-11   3.626123e+06             0.346765\n",
       "4   2023-10   2.692469e+06            -0.094043\n",
       "5   2023-08   7.463214e+06            -0.097486\n",
       "6   2023-04   3.905202e+06            -0.131091\n",
       "7   2023-12   1.696119e+06            -0.532250\n",
       "8   2023-09   2.971962e+06            -0.601785\n",
       "9   2023-05   9.600202e+05            -0.754169\n",
       "10  2023-03   4.494372e+06            -0.937326\n",
       "11  2023-01   3.957841e+06                  NaN"
      ]
     },
     "execution_count": 103,
     "metadata": {},
     "output_type": "execute_result"
    }
   ],
   "source": [
    "sqldf('''\n",
    "         SELECT\n",
    "               strftime('%Y-%m', order_date) AS month,\n",
    "               SUM(ordered_quantity * amount_per_unit - ABS(item_discount)) AS sales_revenue,\n",
    "               (SUM(ordered_quantity * amount_per_unit - ABS(item_discount)) - LAG(SUM(ordered_quantity * amount_per_unit - ABS(item_discount)), 1) OVER (ORDER BY strftime('%Y-%m', order_date))) / LAG(SUM(ordered_quantity * amount_per_unit - ABS(item_discount)), 1) OVER (ORDER BY strftime('%Y-%m', order_date)) AS revenue_growth_rate\n",
    "         FROM\n",
    "               bazaar_Study\n",
    "         GROUP BY\n",
    "              strftime('%Y-%m', order_date)\n",
    "         ORDER BY revenue_growth_rate DESC     \n",
    "\n",
    "''')"
   ]
  },
  {
   "cell_type": "markdown",
   "id": "37e232ae-67be-4334-8dbb-d11319ca3fd3",
   "metadata": {},
   "source": [
    "**6. percentage of orders that were cancelled**"
   ]
  },
  {
   "cell_type": "code",
   "execution_count": 24,
   "id": "55682e11-e63c-4572-8bcc-a6a8b3d42680",
   "metadata": {},
   "outputs": [
    {
     "data": {
      "text/html": [
       "<div>\n",
       "<style scoped>\n",
       "    .dataframe tbody tr th:only-of-type {\n",
       "        vertical-align: middle;\n",
       "    }\n",
       "\n",
       "    .dataframe tbody tr th {\n",
       "        vertical-align: top;\n",
       "    }\n",
       "\n",
       "    .dataframe thead th {\n",
       "        text-align: right;\n",
       "    }\n",
       "</style>\n",
       "<table border=\"1\" class=\"dataframe\">\n",
       "  <thead>\n",
       "    <tr style=\"text-align: right;\">\n",
       "      <th></th>\n",
       "      <th>Percentage_of_orders_cancelled</th>\n",
       "    </tr>\n",
       "  </thead>\n",
       "  <tbody>\n",
       "    <tr>\n",
       "      <th>0</th>\n",
       "      <td>5.516</td>\n",
       "    </tr>\n",
       "  </tbody>\n",
       "</table>\n",
       "</div>"
      ],
      "text/plain": [
       "   Percentage_of_orders_cancelled\n",
       "0                           5.516"
      ]
     },
     "execution_count": 24,
     "metadata": {},
     "output_type": "execute_result"
    }
   ],
   "source": [
    "sqldf('''\n",
    "               SELECT\n",
    "               CAST (COUNT(CASE WHEN order_status == 'CANCELLED' THEN 1 END) AS FLOAT)/\n",
    "               CAST(COUNT(*) AS FLOAT) * 100 AS Percentage_of_orders_cancelled\n",
    "               FROM bazaar_Study;              \n",
    "''')"
   ]
  },
  {
   "cell_type": "markdown",
   "id": "c33fdc89-f351-4c07-9d5f-df21b5f3c788",
   "metadata": {},
   "source": [
    "### Step 4\n",
    "### Data Visualization"
   ]
  },
  {
   "cell_type": "markdown",
   "id": "40f9fefd-a0da-463b-9cd1-221cc52121c7",
   "metadata": {},
   "source": [
    "**Time series plot of sales revenue over time.**"
   ]
  },
  {
   "cell_type": "code",
   "execution_count": 108,
   "id": "cc798880-6708-44fc-ad24-5315056db4e2",
   "metadata": {},
   "outputs": [],
   "source": [
    "Sales_Revenue_over_time = sqldf(''' \n",
    "\n",
    "         SELECT strftime('%Y-%m', order_date) AS month,\n",
    "                SUM(ordered_quantity * amount_per_unit - ABS(item_discount)) AS Revenue\n",
    "         FROM bazaar_Study\n",
    "         GROUP BY month\n",
    "''')"
   ]
  },
  {
   "cell_type": "code",
   "execution_count": 109,
   "id": "ec101236-25a5-40bb-94e1-77c6c25f0f02",
   "metadata": {},
   "outputs": [
    {
     "data": {
      "image/png": "[encoded data removed]",
      "text/plain": [
       "<Figure size 1000x600 with 1 Axes>"
      ]
     },
     "metadata": {},
     "output_type": "display_data"
    }
   ],
   "source": [
    "plt.figure(figsize=(10,6))\n",
    "plt.plot(Sales_Revenue_over_time.month,Sales_Revenue_over_time.Revenue,marker = \"o\")\n",
    "plt.xticks(rotation = 45)\n",
    "plt.grid()\n",
    "plt.title(\"Sales over time\")\n",
    "plt.xlabel(\"Months\")\n",
    "plt.ylabel(\"Revenue\")\n",
    "plt.show()"
   ]
  },
  {
   "cell_type": "markdown",
   "id": "b2ea2061-0937-4cf1-91e3-9dbab527601f",
   "metadata": {},
   "source": [
    "The significant spike in revenue observed in February followed by a decline in subsequent months could be attributed to various factors:\n",
    "\n",
    "**Seasonal Trends:** \n",
    "February may coincide with peak shopping periods such as holiday seasons, festivals, or promotional events, leading to a surge in consumer spending. After this peak period, sales may normalize as the demand returns to typical levels in the following months.\n",
    "\n",
    "**One-time Events or Campaigns:** The February spike could be driven by one-time events, special promotions, or marketing campaigns launched during that period. These initiatives might have generated excitement and attracted a higher volume of customers, resulting in increased sales revenue for that month. Once the campaign concluded, sales may have reverted to their usual levels.\n",
    "\n",
    "**External Factors:** Economic conditions, market trends, or changes in consumer behavior could also influence revenue fluctuations. Factors such as changes in disposable income, consumer confidence, or competitive landscape might have impacted purchasing decisions and contributed to the revenue patterns observed.\n",
    "\n",
    "To better understand the reasons behind the revenue fluctuations and address any underlying issues, the company should conduct a detailed analysis of sales data, customer feedback, and market dynamics during the period in question. This analysis can help identify the specific drivers behind the February spike and inform strategic decisions to sustain or replicate that success in the future. Additionally, implementing proactive sales and marketing strategies, optimizing inventory management, and leveraging customer insights can help smooth revenue patterns and drive consistent growth over time.\n",
    "\n",
    "\n",
    "\n",
    "\n"
   ]
  },
  {
   "cell_type": "markdown",
   "id": "7de0eb40-a1fe-4739-a2bf-6dbcc9fe0589",
   "metadata": {},
   "source": [
    "\n",
    "\n",
    "**Bar chart showing total revenue by store.**"
   ]
  },
  {
   "cell_type": "code",
   "execution_count": 25,
   "id": "0cc74937-bcf6-4fcc-9de4-93cdbd986afa",
   "metadata": {},
   "outputs": [],
   "source": [
    "Revenue_by_store = sqldf('''SELECT store_id AS stores,\n",
    "                                   SUM(((ordered_quantity * amount_per_unit) - ABS(item_discount))) AS Total_Revenue\n",
    "                            FROM bazaar_Study\n",
    "                            GROUP BY store_id\n",
    "                            ORDER BY Total_Revenue DESC\n",
    "                            LIMIT 10''')"
   ]
  },
  {
   "cell_type": "code",
   "execution_count": 26,
   "id": "9a4677ab-d94e-4bd9-921d-19e8eb1b4987",
   "metadata": {},
   "outputs": [
    {
     "data": {
      "image/png": "[encoded data removed]",
      "text/plain": [
       "<Figure size 1000x800 with 1 Axes>"
      ]
     },
     "metadata": {},
     "output_type": "display_data"
    }
   ],
   "source": [
    "plt.figure(figsize=(10, 8))\n",
    "plt.bar(Revenue_by_store.stores,Revenue_by_store.Total_Revenue,color = \"black\")\n",
    "plt.xlabel(\"Stores ID\")\n",
    "plt.ylabel(\"Total Revenue\")\n",
    "plt.title(\"Top 10 stores by total Revenue\")\n",
    "plt.xticks(rotation=45) \n",
    "plt.tight_layout()\n",
    "plt.show()"
   ]
  },
  {
   "cell_type": "code",
   "execution_count": 27,
   "id": "b4e41454-4d62-4e23-80fb-0419b7ff5718",
   "metadata": {},
   "outputs": [],
   "source": [
    "Revenue_by_store_2 = sqldf('''SELECT store_id AS stores,\n",
    "                                   SUM(((ordered_quantity * amount_per_unit) - ABS(item_discount))) AS Total_Revenue\n",
    "                            FROM bazaar_Study\n",
    "                            GROUP BY store_id\n",
    "                            ORDER BY Total_Revenue \n",
    "                            LIMIT 10''')"
   ]
  },
  {
   "cell_type": "code",
   "execution_count": 78,
   "id": "914a82e1-fb07-4554-ba76-cf110dae4611",
   "metadata": {},
   "outputs": [
    {
     "data": {
      "image/png": "[encoded data removed]",
      "text/plain": [
       "<Figure size 1000x800 with 1 Axes>"
      ]
     },
     "metadata": {},
     "output_type": "display_data"
    }
   ],
   "source": [
    "plt.figure(figsize=(10, 8))\n",
    "plt.bar(Revenue_by_store_2.stores,Revenue_by_store_2.Total_Revenue,color= \"Black\")\n",
    "plt.xlabel(\"Stores ID\")\n",
    "plt.ylabel(\"Total Revenue\")\n",
    "plt.title(\"Bottom 10 stores by total Revenue\")\n",
    "plt.xticks(rotation=45) \n",
    "plt.tight_layout()\n",
    "\n",
    "plt.show()"
   ]
  },
  {
   "cell_type": "markdown",
   "id": "842c380b-b7d4-4502-9cda-5b3c30935bf1",
   "metadata": {},
   "source": [
    "**Minimal Revenue Stores:** Several stores in the dataset exhibit minimal revenue, with total revenue values close to zero. These stores may either be newly established or experiencing challenges in generating significant sales. It is essential to investigate the factors contributing to their low revenue and devise strategies to enhance their performance."
   ]
  },
  {
   "cell_type": "markdown",
   "id": "10ec1102-73c5-470f-ad84-f3bcbe7f320b",
   "metadata": {},
   "source": [
    "**Pie chart illustrating the distribution of orders by warehouse.**"
   ]
  },
  {
   "cell_type": "code",
   "execution_count": 29,
   "id": "baefc84f-9574-4ac7-847c-f4363110275f",
   "metadata": {},
   "outputs": [],
   "source": [
    "Distribution_by_Warehouse = sqldf('''SELECT order_warehouse_id AS Warehouse,\n",
    "                                            COUNT(DISTINCT order_number) AS Distribution_of_orders\n",
    "                                     FROM bazaar_Study\n",
    "                                     GROUP BY order_warehouse_id\n",
    "                                     HAVING Warehouse IS NOT NULL\n",
    "                                     ORDER BY Distribution_of_orders DESC\n",
    "                                     LIMIT 10''')"
   ]
  },
  {
   "cell_type": "code",
   "execution_count": 30,
   "id": "a9226e6f-d21b-4a21-9dd0-96f6dad7c07e",
   "metadata": {},
   "outputs": [
    {
     "data": {
      "image/png": "[encoded data removed]",
      "text/plain": [
       "<Figure size 800x600 with 1 Axes>"
      ]
     },
     "metadata": {},
     "output_type": "display_data"
    }
   ],
   "source": [
    "plt.figure(figsize=(8, 6))\n",
    "plt.pie(Distribution_by_Warehouse.Distribution_of_orders, labels=Distribution_by_Warehouse.Warehouse, autopct='%1.f%%', startangle=140)\n",
    "plt.title('Distribution of Orders by Warehouse', fontsize=16, pad=20)\n",
    "plt.axis('equal')  \n",
    "plt.tight_layout() \n",
    "\n",
    "plt.show()"
   ]
  },
  {
   "cell_type": "markdown",
   "id": "dbd37217-6f17-4acb-ae60-732014ad1e57",
   "metadata": {},
   "source": [
    "### Insights and recommendations"
   ]
  },
  {
   "cell_type": "markdown",
   "id": "10a21eca-c8f6-41c8-9946-7e1532a494db",
   "metadata": {},
   "source": [
    "**1.Warehouse and Store Performance:**\n",
    "Warehouse **3** has the highest distribution of orders, followed by Warehouse **2**. This indicates that these warehouses are handling a substantial volume of orders, possibly due to their strategic locations or efficient operations.\n",
    "\n",
    "**2.Top Selling Items:** \n",
    "The top-selling item with the ID \"**P2RwFPjdKJ0oFr9OoVmrDRm**\" stands out with a significantly higher quantity sold compared to other items. This suggests a strong demand for this particular product, which could be due to its popularity, competitive pricing. The company should ensure adequate stock availability for this item and consider promoting it further to capitalize on its popularity.\n",
    "\n",
    "**3.Overall Discount Rate:** \n",
    "The overall discount rate is approximately **6520.88**, calculated by averaging all discount values. The company should analyze the impact of discounts on revenue and profitability to optimize pricing strategies effectively.\n",
    "\n",
    "**4.Total Revenue by Store:** \n",
    "The top-performing stores, such as \"**7ldsLx849ptRljYZTK8tl8**\" and \"**2Z9CsLeVlPvooYgQOUjcRI**,\" generate substantial revenue, reflecting their strong sales performance. These stores could serve as benchmarks for performance evaluation and provide insights into successful sales strategies, customer engagement, and product offerings.\n",
    "\n",
    "**5.Month-over-Month Revenue Growth:** \n",
    "Monthly revenue fluctuates over time, with notable peaks and dips in certain months. For example, revenue spikes in February, June and July are followed by a decline in August. Understanding these revenue trends can help the company identify seasonal patterns, respond to market dynamics, and adjust inventory levels and marketing strategies accordingly.\n",
    "\n",
    "**6.Percentage of Orders Cancelled:** \n",
    "Approximately 5.52% of orders were cancelled, indicating potential challenges in order fulfillment or customer satisfaction. The company should investigate the reasons for cancellations, such as inventory shortages, shipping delays, or product unavailability, and implement measures to reduce cancellation rates and improve customer experience."
   ]
  },
  {
   "cell_type": "markdown",
   "id": "f7929c9b-43cb-49c8-8933-93a80470e9d6",
   "metadata": {},
   "source": [
    "### Actionable Recommendations:"
   ]
  },
  {
   "cell_type": "markdown",
   "id": "57e5b9aa-cb34-4027-8de1-c528873995fc",
   "metadata": {},
   "source": [
    " \n",
    "\n",
    "**1.Optimize Inventory Management:** \n",
    "Allocate inventory based on sales performance and demand to ensure optimal stock levels across warehouses and stores. Focus on replenishing top-selling items and reducing excess inventory for slow-moving products to minimize carrying costs and improve cash flow.\n",
    "\n",
    "\n",
    "**2.Tailor Pricing Strategies:** \n",
    "Analyze the impact of discounts on sales revenue and profitability to refine pricing strategies effectively. Consider implementing dynamic pricing algorithms based on demand elasticity, competitor pricing, and customer segmentation to maximize revenue and maintain competitiveness.\n",
    "\n",
    "\n",
    "**3.Enhance Store Performance:** \n",
    "Support high-performing stores with targeted marketing campaigns, personalized promotions, and staff training to sustain and enhance their sales performance. Leverage insights from top revenue-generating stores to identify best practices and replicate successful strategies across other locations.\n",
    "\n",
    "**4.Improve Order Fulfillment:** Streamline order processing and fulfillment workflows to minimize order cancellations and enhance customer satisfaction. Invest in inventory visibility, logistics optimization, and communication channels to provide real-time updates to customers and address any issues proactively.\n",
    "\n",
    "**5.Monitor Sales Trends:** Continuously monitor sales trends, revenue growth rates, and key performance indicators to identify emerging opportunities and challenges. Utilize data analytics tools to forecast demand, optimize inventory allocation, and capitalize on market trends to drive sustained growth and profitability.\n",
    "\n",
    "By implementing these tailored recommendations and leveraging insights from analysis, the company can optimize sales performance, improve operational efficiency, and enhance customer satisfaction, ultimately driving long-term success and competitiveness in the market."
   ]
  }
 ],
 "metadata": {
  "kernelspec": {
   "display_name": "Python 3 (ipykernel)",
   "language": "python",
   "name": "python3"
  },
  "language_info": {
   "codemirror_mode": {
    "name": "ipython",
    "version": 3
   },
   "file_extension": ".py",
   "mimetype": "text/x-python",
   "name": "python",
   "nbconvert_exporter": "python",
   "pygments_lexer": "ipython3",
   "version": "3.11.7"
  }
 },
 "nbformat": 4,
 "nbformat_minor": 5
}
