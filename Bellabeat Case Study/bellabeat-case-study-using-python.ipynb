{
 "cells": [
  {
   "cell_type": "markdown",
   "id": "96ced73c",
   "metadata": {
    "papermill": {
     "duration": 0.025997,
     "end_time": "2023-08-19T23:21:29.052139",
     "exception": false,
     "start_time": "2023-08-19T23:21:29.026142",
     "status": "completed"
    },
    "tags": []
   },
   "source": [
    "# **Introduction**\n",
    "\n",
    "Bellabeat is a pioneering provider of health-centric products designed for women, including the Bellabeat app, Leaf, Time, Spring, and Bellabeat membership. Established in 2013 by Urška Sršen and Sando Mur, the company has exhibited remarkable success and holds substantial potential to solidify its presence in the global smart device industry. The founders believe that harnessing insights from fitness data collected by smart devices could pave the way for new avenues of growth.\n",
    "\n",
    "Within this case study, I will meticulously traverse the six stages of the data analysis process—namely, ask, prepare, process, analyze, share, and act—to elucidate the approach I undertook to dissect FitBit fitness Tracker Data. My objective is to unearth valuable insights that can be leveraged for the benefit of Bellabeat's endeavors."
   ]
  },
  {
   "cell_type": "markdown",
   "id": "d2972b03",
   "metadata": {
    "papermill": {
     "duration": 0.02405,
     "end_time": "2023-08-19T23:21:29.099837",
     "exception": false,
     "start_time": "2023-08-19T23:21:29.075787",
     "status": "completed"
    },
    "tags": []
   },
   "source": [
    "# **1.Ask**\n",
    "**Key Stakeholders**\n",
    "* Urška Sršen: Co-founder and Chief Creative Officer at Bellabeat.\n",
    "* Sando Mur: Co-founder and a pivotal member of Bellabeat's executive team.\n",
    "* Bellabeat's Marketing Analytics Team: A dedicated group of data analysts responsible for gathering, analyzing, and presenting data that informs  Bellabeat's marketing strategies.\n",
    "* Customers: Individuals who purchase Bellabeat's products or avail their services.\n",
    "\n",
    "**Business Task**\n",
    "* The goal is to analyze FitBit Fitness Tracker Data from a set of thirty eligible FitBit users, aiming to uncover insights that can catalyze fresh growth opportunities for the company.\n",
    "* The focus is on comprehending user behavior related to one of Bellabeat's products by dissecting smart device data.\n",
    "* This case study specifically centers on the Bellabeat membership program—a subscription-based initiative providing users with personalized guidance on nutrition, activity, sleep, health, beauty, and mindfulness in alignment with their individual lifestyles and objectives.\n",
    "\n",
    "# **2.Prepare**\n",
    "**Data Source**\n",
    "* The dataset originates from Mobius and is freely available. It encompasses personal fitness tracker data sourced from over thirty FitBit users who have granted consent for its usage.\n",
    "* The dataset consists of 18 CSV files, and the relevant datasets for the selected product analysis are daily activity, hourly calories, hourly steps, and sleep day datasets.\n",
    "\n",
    "**Data Examination and Organization**\n",
    "* A preliminary overview was performed by opening the datasets in Google Sheets, revealing the long-format arrangement of data.\n",
    "* The dailyActivity_merged dataset provides crucial metrics such as total steps, active minutes, and calories burned, offering avenues for exploring correlations between these variables.\n",
    "* Hourly calories and hourly steps datasets furnish insights about activity patterns and calorie expenditure over different times of the day.\n",
    "* Files were stored in a separate desktop folder to facilitate processing using Python and Jupyter Notebook.\n",
    "\n",
    "**Data Credibility**\n",
    "* Meeting the \"Large Enough Sample Condition,\" the sample size of 33 FitBit users ensures meaningful insights with potential for generalization.\n",
    "* Data recency within the past 10 years maintains relevance.\n",
    "* The dataset is aligned with Bellabeat's products, allowing potential applications of analysis results to their offerings.\n",
    "* Despite being third-party data, its quality and reliability are sound, with known sourcing that does not raise concerns."
   ]
  },
  {
   "cell_type": "markdown",
   "id": "5bede19d",
   "metadata": {
    "papermill": {
     "duration": 0.023239,
     "end_time": "2023-08-19T23:21:29.146913",
     "exception": false,
     "start_time": "2023-08-19T23:21:29.123674",
     "status": "completed"
    },
    "tags": []
   },
   "source": [
    "# **3.Process**\n",
    "Let's start by loading the libraries we need for processing and visualizing the data."
   ]
  },
  {
   "cell_type": "code",
   "execution_count": 1,
   "id": "9f16c94f",
   "metadata": {
    "_cell_guid": "b1076dfc-b9ad-4769-8c92-a6c4dae69d19",
    "_uuid": "8f2839f25d086af736a60e9eeb907d3b93b6e0e5",
    "execution": {
     "iopub.execute_input": "2023-08-19T23:21:29.195686Z",
     "iopub.status.busy": "2023-08-19T23:21:29.195015Z",
     "iopub.status.idle": "2023-08-19T23:21:30.392640Z",
     "shell.execute_reply": "2023-08-19T23:21:30.391594Z"
    },
    "papermill": {
     "duration": 1.224562,
     "end_time": "2023-08-19T23:21:30.394936",
     "exception": false,
     "start_time": "2023-08-19T23:21:29.170374",
     "status": "completed"
    },
    "tags": []
   },
   "outputs": [
    {
     "name": "stderr",
     "output_type": "stream",
     "text": [
      "/opt/conda/lib/python3.10/site-packages/scipy/__init__.py:146: UserWarning: A NumPy version >=1.16.5 and <1.23.0 is required for this version of SciPy (detected version 1.23.5\n",
      "  warnings.warn(f\"A NumPy version >={np_minversion} and <{np_maxversion}\"\n"
     ]
    }
   ],
   "source": [
    "import pandas as pd\n",
    "import numpy as np\n",
    "import matplotlib.pyplot as plt\n",
    "import seaborn as sns\n",
    "import datetime as dt"
   ]
  },
  {
   "cell_type": "markdown",
   "id": "975486c5",
   "metadata": {
    "papermill": {
     "duration": 0.023342,
     "end_time": "2023-08-19T23:21:30.442002",
     "exception": false,
     "start_time": "2023-08-19T23:21:30.418660",
     "status": "completed"
    },
    "tags": []
   },
   "source": [
    "After importing all the necessary libraries, we will import the datasets."
   ]
  },
  {
   "cell_type": "code",
   "execution_count": 2,
   "id": "a9273a43",
   "metadata": {
    "execution": {
     "iopub.execute_input": "2023-08-19T23:21:30.491660Z",
     "iopub.status.busy": "2023-08-19T23:21:30.491001Z",
     "iopub.status.idle": "2023-08-19T23:21:33.576093Z",
     "shell.execute_reply": "2023-08-19T23:21:33.575081Z"
    },
    "papermill": {
     "duration": 3.112917,
     "end_time": "2023-08-19T23:21:33.578682",
     "exception": false,
     "start_time": "2023-08-19T23:21:30.465765",
     "status": "completed"
    },
    "tags": []
   },
   "outputs": [],
   "source": [
    "daily_activity = pd.read_csv(\"/kaggle/input/fitbit/Fitabase Data 4.12.16-5.12.16/dailyActivity_merged.csv\")\n",
    "daily_intensity = pd.read_csv(\"/kaggle/input/fitbit/Fitabase Data 4.12.16-5.12.16/dailyIntensities_merged.csv\")\n",
    "daily_calories = pd.read_csv(\"/kaggle/input/fitbit/Fitabase Data 4.12.16-5.12.16/dailyCalories_merged.csv\")\n",
    "daily_steps = pd.read_csv(\"/kaggle/input/fitbit/Fitabase Data 4.12.16-5.12.16/dailySteps_merged.csv\")\n",
    "hourly_steps = pd.read_csv(\"/kaggle/input/fitbit/Fitabase Data 4.12.16-5.12.16/hourlySteps_merged.csv\")\n",
    "hourly_calories = pd.read_csv(\"/kaggle/input/fitbit/Fitabase Data 4.12.16-5.12.16/hourlyCalories_merged.csv\")\n",
    "heartrate_secs = pd.read_csv(\"/kaggle/input/fitbit/Fitabase Data 4.12.16-5.12.16/heartrate_seconds_merged.csv\")\n",
    "sleepday = pd.read_csv(\"/kaggle/input/fitbit/Fitabase Data 4.12.16-5.12.16/sleepDay_merged.csv\")\n",
    "weight_log = pd.read_csv(\"/kaggle/input/fitbit/Fitabase Data 4.12.16-5.12.16/weightLogInfo_merged.csv\")\n"
   ]
  },
  {
   "cell_type": "markdown",
   "id": "4e903745",
   "metadata": {
    "papermill": {
     "duration": 0.023401,
     "end_time": "2023-08-19T23:21:33.628226",
     "exception": false,
     "start_time": "2023-08-19T23:21:33.604825",
     "status": "completed"
    },
    "tags": []
   },
   "source": [
    "After loading the dataset, we will perform exploratory data analysis. This step involves analyzing and understanding the dataset's structure, patterns, and characteristics."
   ]
  },
  {
   "cell_type": "markdown",
   "id": "a9547ba2",
   "metadata": {
    "papermill": {
     "duration": 0.023106,
     "end_time": "2023-08-19T23:21:33.674467",
     "exception": false,
     "start_time": "2023-08-19T23:21:33.651361",
     "status": "completed"
    },
    "tags": []
   },
   "source": [
    "# **Exploratory data analysis**\n",
    "We will initiate the exploratory data analysis process by retrieving the first 5 rows of each dataset. This will allow us to obtain a glimpse of the data's structure and the values it contains. "
   ]
  },
  {
   "cell_type": "code",
   "execution_count": 3,
   "id": "6c6d83ee",
   "metadata": {
    "execution": {
     "iopub.execute_input": "2023-08-19T23:21:33.723393Z",
     "iopub.status.busy": "2023-08-19T23:21:33.722996Z",
     "iopub.status.idle": "2023-08-19T23:21:33.750905Z",
     "shell.execute_reply": "2023-08-19T23:21:33.749967Z"
    },
    "papermill": {
     "duration": 0.054737,
     "end_time": "2023-08-19T23:21:33.752869",
     "exception": false,
     "start_time": "2023-08-19T23:21:33.698132",
     "status": "completed"
    },
    "tags": []
   },
   "outputs": [
    {
     "data": {
      "text/html": [
       "<div>\n",
       "<style scoped>\n",
       "    .dataframe tbody tr th:only-of-type {\n",
       "        vertical-align: middle;\n",
       "    }\n",
       "\n",
       "    .dataframe tbody tr th {\n",
       "        vertical-align: top;\n",
       "    }\n",
       "\n",
       "    .dataframe thead th {\n",
       "        text-align: right;\n",
       "    }\n",
       "</style>\n",
       "<table border=\"1\" class=\"dataframe\">\n",
       "  <thead>\n",
       "    <tr style=\"text-align: right;\">\n",
       "      <th></th>\n",
       "      <th>Id</th>\n",
       "      <th>ActivityDate</th>\n",
       "      <th>TotalSteps</th>\n",
       "      <th>TotalDistance</th>\n",
       "      <th>TrackerDistance</th>\n",
       "      <th>LoggedActivitiesDistance</th>\n",
       "      <th>VeryActiveDistance</th>\n",
       "      <th>ModeratelyActiveDistance</th>\n",
       "      <th>LightActiveDistance</th>\n",
       "      <th>SedentaryActiveDistance</th>\n",
       "      <th>VeryActiveMinutes</th>\n",
       "      <th>FairlyActiveMinutes</th>\n",
       "      <th>LightlyActiveMinutes</th>\n",
       "      <th>SedentaryMinutes</th>\n",
       "      <th>Calories</th>\n",
       "    </tr>\n",
       "  </thead>\n",
       "  <tbody>\n",
       "    <tr>\n",
       "      <th>0</th>\n",
       "      <td>1503960366</td>\n",
       "      <td>4/12/2016</td>\n",
       "      <td>13162</td>\n",
       "      <td>8.50</td>\n",
       "      <td>8.50</td>\n",
       "      <td>0.0</td>\n",
       "      <td>1.88</td>\n",
       "      <td>0.55</td>\n",
       "      <td>6.06</td>\n",
       "      <td>0.0</td>\n",
       "      <td>25</td>\n",
       "      <td>13</td>\n",
       "      <td>328</td>\n",
       "      <td>728</td>\n",
       "      <td>1985</td>\n",
       "    </tr>\n",
       "    <tr>\n",
       "      <th>1</th>\n",
       "      <td>1503960366</td>\n",
       "      <td>4/13/2016</td>\n",
       "      <td>10735</td>\n",
       "      <td>6.97</td>\n",
       "      <td>6.97</td>\n",
       "      <td>0.0</td>\n",
       "      <td>1.57</td>\n",
       "      <td>0.69</td>\n",
       "      <td>4.71</td>\n",
       "      <td>0.0</td>\n",
       "      <td>21</td>\n",
       "      <td>19</td>\n",
       "      <td>217</td>\n",
       "      <td>776</td>\n",
       "      <td>1797</td>\n",
       "    </tr>\n",
       "    <tr>\n",
       "      <th>2</th>\n",
       "      <td>1503960366</td>\n",
       "      <td>4/14/2016</td>\n",
       "      <td>10460</td>\n",
       "      <td>6.74</td>\n",
       "      <td>6.74</td>\n",
       "      <td>0.0</td>\n",
       "      <td>2.44</td>\n",
       "      <td>0.40</td>\n",
       "      <td>3.91</td>\n",
       "      <td>0.0</td>\n",
       "      <td>30</td>\n",
       "      <td>11</td>\n",
       "      <td>181</td>\n",
       "      <td>1218</td>\n",
       "      <td>1776</td>\n",
       "    </tr>\n",
       "    <tr>\n",
       "      <th>3</th>\n",
       "      <td>1503960366</td>\n",
       "      <td>4/15/2016</td>\n",
       "      <td>9762</td>\n",
       "      <td>6.28</td>\n",
       "      <td>6.28</td>\n",
       "      <td>0.0</td>\n",
       "      <td>2.14</td>\n",
       "      <td>1.26</td>\n",
       "      <td>2.83</td>\n",
       "      <td>0.0</td>\n",
       "      <td>29</td>\n",
       "      <td>34</td>\n",
       "      <td>209</td>\n",
       "      <td>726</td>\n",
       "      <td>1745</td>\n",
       "    </tr>\n",
       "    <tr>\n",
       "      <th>4</th>\n",
       "      <td>1503960366</td>\n",
       "      <td>4/16/2016</td>\n",
       "      <td>12669</td>\n",
       "      <td>8.16</td>\n",
       "      <td>8.16</td>\n",
       "      <td>0.0</td>\n",
       "      <td>2.71</td>\n",
       "      <td>0.41</td>\n",
       "      <td>5.04</td>\n",
       "      <td>0.0</td>\n",
       "      <td>36</td>\n",
       "      <td>10</td>\n",
       "      <td>221</td>\n",
       "      <td>773</td>\n",
       "      <td>1863</td>\n",
       "    </tr>\n",
       "  </tbody>\n",
       "</table>\n",
       "</div>"
      ],
      "text/plain": [
       "           Id ActivityDate  TotalSteps  TotalDistance  TrackerDistance  \\\n",
       "0  1503960366    4/12/2016       13162           8.50             8.50   \n",
       "1  1503960366    4/13/2016       10735           6.97             6.97   \n",
       "2  1503960366    4/14/2016       10460           6.74             6.74   \n",
       "3  1503960366    4/15/2016        9762           6.28             6.28   \n",
       "4  1503960366    4/16/2016       12669           8.16             8.16   \n",
       "\n",
       "   LoggedActivitiesDistance  VeryActiveDistance  ModeratelyActiveDistance  \\\n",
       "0                       0.0                1.88                      0.55   \n",
       "1                       0.0                1.57                      0.69   \n",
       "2                       0.0                2.44                      0.40   \n",
       "3                       0.0                2.14                      1.26   \n",
       "4                       0.0                2.71                      0.41   \n",
       "\n",
       "   LightActiveDistance  SedentaryActiveDistance  VeryActiveMinutes  \\\n",
       "0                 6.06                      0.0                 25   \n",
       "1                 4.71                      0.0                 21   \n",
       "2                 3.91                      0.0                 30   \n",
       "3                 2.83                      0.0                 29   \n",
       "4                 5.04                      0.0                 36   \n",
       "\n",
       "   FairlyActiveMinutes  LightlyActiveMinutes  SedentaryMinutes  Calories  \n",
       "0                   13                   328               728      1985  \n",
       "1                   19                   217               776      1797  \n",
       "2                   11                   181              1218      1776  \n",
       "3                   34                   209               726      1745  \n",
       "4                   10                   221               773      1863  "
      ]
     },
     "execution_count": 3,
     "metadata": {},
     "output_type": "execute_result"
    }
   ],
   "source": [
    "daily_activity.head(5)"
   ]
  },
  {
   "cell_type": "code",
   "execution_count": 4,
   "id": "09cda893",
   "metadata": {
    "execution": {
     "iopub.execute_input": "2023-08-19T23:21:33.802839Z",
     "iopub.status.busy": "2023-08-19T23:21:33.802514Z",
     "iopub.status.idle": "2023-08-19T23:21:33.817689Z",
     "shell.execute_reply": "2023-08-19T23:21:33.816777Z"
    },
    "papermill": {
     "duration": 0.043196,
     "end_time": "2023-08-19T23:21:33.820072",
     "exception": false,
     "start_time": "2023-08-19T23:21:33.776876",
     "status": "completed"
    },
    "tags": []
   },
   "outputs": [
    {
     "data": {
      "text/html": [
       "<div>\n",
       "<style scoped>\n",
       "    .dataframe tbody tr th:only-of-type {\n",
       "        vertical-align: middle;\n",
       "    }\n",
       "\n",
       "    .dataframe tbody tr th {\n",
       "        vertical-align: top;\n",
       "    }\n",
       "\n",
       "    .dataframe thead th {\n",
       "        text-align: right;\n",
       "    }\n",
       "</style>\n",
       "<table border=\"1\" class=\"dataframe\">\n",
       "  <thead>\n",
       "    <tr style=\"text-align: right;\">\n",
       "      <th></th>\n",
       "      <th>Id</th>\n",
       "      <th>ActivityDay</th>\n",
       "      <th>SedentaryMinutes</th>\n",
       "      <th>LightlyActiveMinutes</th>\n",
       "      <th>FairlyActiveMinutes</th>\n",
       "      <th>VeryActiveMinutes</th>\n",
       "      <th>SedentaryActiveDistance</th>\n",
       "      <th>LightActiveDistance</th>\n",
       "      <th>ModeratelyActiveDistance</th>\n",
       "      <th>VeryActiveDistance</th>\n",
       "    </tr>\n",
       "  </thead>\n",
       "  <tbody>\n",
       "    <tr>\n",
       "      <th>0</th>\n",
       "      <td>1503960366</td>\n",
       "      <td>4/12/2016</td>\n",
       "      <td>728</td>\n",
       "      <td>328</td>\n",
       "      <td>13</td>\n",
       "      <td>25</td>\n",
       "      <td>0.0</td>\n",
       "      <td>6.06</td>\n",
       "      <td>0.55</td>\n",
       "      <td>1.88</td>\n",
       "    </tr>\n",
       "    <tr>\n",
       "      <th>1</th>\n",
       "      <td>1503960366</td>\n",
       "      <td>4/13/2016</td>\n",
       "      <td>776</td>\n",
       "      <td>217</td>\n",
       "      <td>19</td>\n",
       "      <td>21</td>\n",
       "      <td>0.0</td>\n",
       "      <td>4.71</td>\n",
       "      <td>0.69</td>\n",
       "      <td>1.57</td>\n",
       "    </tr>\n",
       "    <tr>\n",
       "      <th>2</th>\n",
       "      <td>1503960366</td>\n",
       "      <td>4/14/2016</td>\n",
       "      <td>1218</td>\n",
       "      <td>181</td>\n",
       "      <td>11</td>\n",
       "      <td>30</td>\n",
       "      <td>0.0</td>\n",
       "      <td>3.91</td>\n",
       "      <td>0.40</td>\n",
       "      <td>2.44</td>\n",
       "    </tr>\n",
       "    <tr>\n",
       "      <th>3</th>\n",
       "      <td>1503960366</td>\n",
       "      <td>4/15/2016</td>\n",
       "      <td>726</td>\n",
       "      <td>209</td>\n",
       "      <td>34</td>\n",
       "      <td>29</td>\n",
       "      <td>0.0</td>\n",
       "      <td>2.83</td>\n",
       "      <td>1.26</td>\n",
       "      <td>2.14</td>\n",
       "    </tr>\n",
       "    <tr>\n",
       "      <th>4</th>\n",
       "      <td>1503960366</td>\n",
       "      <td>4/16/2016</td>\n",
       "      <td>773</td>\n",
       "      <td>221</td>\n",
       "      <td>10</td>\n",
       "      <td>36</td>\n",
       "      <td>0.0</td>\n",
       "      <td>5.04</td>\n",
       "      <td>0.41</td>\n",
       "      <td>2.71</td>\n",
       "    </tr>\n",
       "  </tbody>\n",
       "</table>\n",
       "</div>"
      ],
      "text/plain": [
       "           Id ActivityDay  SedentaryMinutes  LightlyActiveMinutes  \\\n",
       "0  1503960366   4/12/2016               728                   328   \n",
       "1  1503960366   4/13/2016               776                   217   \n",
       "2  1503960366   4/14/2016              1218                   181   \n",
       "3  1503960366   4/15/2016               726                   209   \n",
       "4  1503960366   4/16/2016               773                   221   \n",
       "\n",
       "   FairlyActiveMinutes  VeryActiveMinutes  SedentaryActiveDistance  \\\n",
       "0                   13                 25                      0.0   \n",
       "1                   19                 21                      0.0   \n",
       "2                   11                 30                      0.0   \n",
       "3                   34                 29                      0.0   \n",
       "4                   10                 36                      0.0   \n",
       "\n",
       "   LightActiveDistance  ModeratelyActiveDistance  VeryActiveDistance  \n",
       "0                 6.06                      0.55                1.88  \n",
       "1                 4.71                      0.69                1.57  \n",
       "2                 3.91                      0.40                2.44  \n",
       "3                 2.83                      1.26                2.14  \n",
       "4                 5.04                      0.41                2.71  "
      ]
     },
     "execution_count": 4,
     "metadata": {},
     "output_type": "execute_result"
    }
   ],
   "source": [
    "daily_intensity.head(5)"
   ]
  },
  {
   "cell_type": "code",
   "execution_count": 5,
   "id": "11be348b",
   "metadata": {
    "execution": {
     "iopub.execute_input": "2023-08-19T23:21:33.871583Z",
     "iopub.status.busy": "2023-08-19T23:21:33.871286Z",
     "iopub.status.idle": "2023-08-19T23:21:33.880141Z",
     "shell.execute_reply": "2023-08-19T23:21:33.879087Z"
    },
    "papermill": {
     "duration": 0.036434,
     "end_time": "2023-08-19T23:21:33.882006",
     "exception": false,
     "start_time": "2023-08-19T23:21:33.845572",
     "status": "completed"
    },
    "tags": []
   },
   "outputs": [
    {
     "data": {
      "text/html": [
       "<div>\n",
       "<style scoped>\n",
       "    .dataframe tbody tr th:only-of-type {\n",
       "        vertical-align: middle;\n",
       "    }\n",
       "\n",
       "    .dataframe tbody tr th {\n",
       "        vertical-align: top;\n",
       "    }\n",
       "\n",
       "    .dataframe thead th {\n",
       "        text-align: right;\n",
       "    }\n",
       "</style>\n",
       "<table border=\"1\" class=\"dataframe\">\n",
       "  <thead>\n",
       "    <tr style=\"text-align: right;\">\n",
       "      <th></th>\n",
       "      <th>Id</th>\n",
       "      <th>ActivityDay</th>\n",
       "      <th>Calories</th>\n",
       "    </tr>\n",
       "  </thead>\n",
       "  <tbody>\n",
       "    <tr>\n",
       "      <th>0</th>\n",
       "      <td>1503960366</td>\n",
       "      <td>4/12/2016</td>\n",
       "      <td>1985</td>\n",
       "    </tr>\n",
       "    <tr>\n",
       "      <th>1</th>\n",
       "      <td>1503960366</td>\n",
       "      <td>4/13/2016</td>\n",
       "      <td>1797</td>\n",
       "    </tr>\n",
       "    <tr>\n",
       "      <th>2</th>\n",
       "      <td>1503960366</td>\n",
       "      <td>4/14/2016</td>\n",
       "      <td>1776</td>\n",
       "    </tr>\n",
       "    <tr>\n",
       "      <th>3</th>\n",
       "      <td>1503960366</td>\n",
       "      <td>4/15/2016</td>\n",
       "      <td>1745</td>\n",
       "    </tr>\n",
       "    <tr>\n",
       "      <th>4</th>\n",
       "      <td>1503960366</td>\n",
       "      <td>4/16/2016</td>\n",
       "      <td>1863</td>\n",
       "    </tr>\n",
       "  </tbody>\n",
       "</table>\n",
       "</div>"
      ],
      "text/plain": [
       "           Id ActivityDay  Calories\n",
       "0  1503960366   4/12/2016      1985\n",
       "1  1503960366   4/13/2016      1797\n",
       "2  1503960366   4/14/2016      1776\n",
       "3  1503960366   4/15/2016      1745\n",
       "4  1503960366   4/16/2016      1863"
      ]
     },
     "execution_count": 5,
     "metadata": {},
     "output_type": "execute_result"
    }
   ],
   "source": [
    "daily_calories.head(5)"
   ]
  },
  {
   "cell_type": "code",
   "execution_count": 6,
   "id": "2b8fd57e",
   "metadata": {
    "execution": {
     "iopub.execute_input": "2023-08-19T23:21:33.932802Z",
     "iopub.status.busy": "2023-08-19T23:21:33.932529Z",
     "iopub.status.idle": "2023-08-19T23:21:33.941712Z",
     "shell.execute_reply": "2023-08-19T23:21:33.940785Z"
    },
    "papermill": {
     "duration": 0.036619,
     "end_time": "2023-08-19T23:21:33.943717",
     "exception": false,
     "start_time": "2023-08-19T23:21:33.907098",
     "status": "completed"
    },
    "tags": []
   },
   "outputs": [
    {
     "data": {
      "text/html": [
       "<div>\n",
       "<style scoped>\n",
       "    .dataframe tbody tr th:only-of-type {\n",
       "        vertical-align: middle;\n",
       "    }\n",
       "\n",
       "    .dataframe tbody tr th {\n",
       "        vertical-align: top;\n",
       "    }\n",
       "\n",
       "    .dataframe thead th {\n",
       "        text-align: right;\n",
       "    }\n",
       "</style>\n",
       "<table border=\"1\" class=\"dataframe\">\n",
       "  <thead>\n",
       "    <tr style=\"text-align: right;\">\n",
       "      <th></th>\n",
       "      <th>Id</th>\n",
       "      <th>ActivityHour</th>\n",
       "      <th>StepTotal</th>\n",
       "    </tr>\n",
       "  </thead>\n",
       "  <tbody>\n",
       "    <tr>\n",
       "      <th>0</th>\n",
       "      <td>1503960366</td>\n",
       "      <td>4/12/2016 12:00:00 AM</td>\n",
       "      <td>373</td>\n",
       "    </tr>\n",
       "    <tr>\n",
       "      <th>1</th>\n",
       "      <td>1503960366</td>\n",
       "      <td>4/12/2016 1:00:00 AM</td>\n",
       "      <td>160</td>\n",
       "    </tr>\n",
       "    <tr>\n",
       "      <th>2</th>\n",
       "      <td>1503960366</td>\n",
       "      <td>4/12/2016 2:00:00 AM</td>\n",
       "      <td>151</td>\n",
       "    </tr>\n",
       "    <tr>\n",
       "      <th>3</th>\n",
       "      <td>1503960366</td>\n",
       "      <td>4/12/2016 3:00:00 AM</td>\n",
       "      <td>0</td>\n",
       "    </tr>\n",
       "    <tr>\n",
       "      <th>4</th>\n",
       "      <td>1503960366</td>\n",
       "      <td>4/12/2016 4:00:00 AM</td>\n",
       "      <td>0</td>\n",
       "    </tr>\n",
       "  </tbody>\n",
       "</table>\n",
       "</div>"
      ],
      "text/plain": [
       "           Id           ActivityHour  StepTotal\n",
       "0  1503960366  4/12/2016 12:00:00 AM        373\n",
       "1  1503960366   4/12/2016 1:00:00 AM        160\n",
       "2  1503960366   4/12/2016 2:00:00 AM        151\n",
       "3  1503960366   4/12/2016 3:00:00 AM          0\n",
       "4  1503960366   4/12/2016 4:00:00 AM          0"
      ]
     },
     "execution_count": 6,
     "metadata": {},
     "output_type": "execute_result"
    }
   ],
   "source": [
    "hourly_steps.head(5)"
   ]
  },
  {
   "cell_type": "code",
   "execution_count": 7,
   "id": "5c63e9fe",
   "metadata": {
    "execution": {
     "iopub.execute_input": "2023-08-19T23:21:33.993983Z",
     "iopub.status.busy": "2023-08-19T23:21:33.993693Z",
     "iopub.status.idle": "2023-08-19T23:21:34.003149Z",
     "shell.execute_reply": "2023-08-19T23:21:34.002123Z"
    },
    "papermill": {
     "duration": 0.037338,
     "end_time": "2023-08-19T23:21:34.005271",
     "exception": false,
     "start_time": "2023-08-19T23:21:33.967933",
     "status": "completed"
    },
    "tags": []
   },
   "outputs": [
    {
     "data": {
      "text/html": [
       "<div>\n",
       "<style scoped>\n",
       "    .dataframe tbody tr th:only-of-type {\n",
       "        vertical-align: middle;\n",
       "    }\n",
       "\n",
       "    .dataframe tbody tr th {\n",
       "        vertical-align: top;\n",
       "    }\n",
       "\n",
       "    .dataframe thead th {\n",
       "        text-align: right;\n",
       "    }\n",
       "</style>\n",
       "<table border=\"1\" class=\"dataframe\">\n",
       "  <thead>\n",
       "    <tr style=\"text-align: right;\">\n",
       "      <th></th>\n",
       "      <th>Id</th>\n",
       "      <th>ActivityHour</th>\n",
       "      <th>Calories</th>\n",
       "    </tr>\n",
       "  </thead>\n",
       "  <tbody>\n",
       "    <tr>\n",
       "      <th>0</th>\n",
       "      <td>1503960366</td>\n",
       "      <td>4/12/2016 12:00:00 AM</td>\n",
       "      <td>81</td>\n",
       "    </tr>\n",
       "    <tr>\n",
       "      <th>1</th>\n",
       "      <td>1503960366</td>\n",
       "      <td>4/12/2016 1:00:00 AM</td>\n",
       "      <td>61</td>\n",
       "    </tr>\n",
       "    <tr>\n",
       "      <th>2</th>\n",
       "      <td>1503960366</td>\n",
       "      <td>4/12/2016 2:00:00 AM</td>\n",
       "      <td>59</td>\n",
       "    </tr>\n",
       "    <tr>\n",
       "      <th>3</th>\n",
       "      <td>1503960366</td>\n",
       "      <td>4/12/2016 3:00:00 AM</td>\n",
       "      <td>47</td>\n",
       "    </tr>\n",
       "    <tr>\n",
       "      <th>4</th>\n",
       "      <td>1503960366</td>\n",
       "      <td>4/12/2016 4:00:00 AM</td>\n",
       "      <td>48</td>\n",
       "    </tr>\n",
       "  </tbody>\n",
       "</table>\n",
       "</div>"
      ],
      "text/plain": [
       "           Id           ActivityHour  Calories\n",
       "0  1503960366  4/12/2016 12:00:00 AM        81\n",
       "1  1503960366   4/12/2016 1:00:00 AM        61\n",
       "2  1503960366   4/12/2016 2:00:00 AM        59\n",
       "3  1503960366   4/12/2016 3:00:00 AM        47\n",
       "4  1503960366   4/12/2016 4:00:00 AM        48"
      ]
     },
     "execution_count": 7,
     "metadata": {},
     "output_type": "execute_result"
    }
   ],
   "source": [
    "hourly_calories.head(5)"
   ]
  },
  {
   "cell_type": "code",
   "execution_count": 8,
   "id": "2d923cdd",
   "metadata": {
    "execution": {
     "iopub.execute_input": "2023-08-19T23:21:34.056521Z",
     "iopub.status.busy": "2023-08-19T23:21:34.056213Z",
     "iopub.status.idle": "2023-08-19T23:21:34.065289Z",
     "shell.execute_reply": "2023-08-19T23:21:34.064321Z"
    },
    "papermill": {
     "duration": 0.037289,
     "end_time": "2023-08-19T23:21:34.067246",
     "exception": false,
     "start_time": "2023-08-19T23:21:34.029957",
     "status": "completed"
    },
    "tags": []
   },
   "outputs": [
    {
     "data": {
      "text/html": [
       "<div>\n",
       "<style scoped>\n",
       "    .dataframe tbody tr th:only-of-type {\n",
       "        vertical-align: middle;\n",
       "    }\n",
       "\n",
       "    .dataframe tbody tr th {\n",
       "        vertical-align: top;\n",
       "    }\n",
       "\n",
       "    .dataframe thead th {\n",
       "        text-align: right;\n",
       "    }\n",
       "</style>\n",
       "<table border=\"1\" class=\"dataframe\">\n",
       "  <thead>\n",
       "    <tr style=\"text-align: right;\">\n",
       "      <th></th>\n",
       "      <th>Id</th>\n",
       "      <th>Time</th>\n",
       "      <th>Value</th>\n",
       "    </tr>\n",
       "  </thead>\n",
       "  <tbody>\n",
       "    <tr>\n",
       "      <th>0</th>\n",
       "      <td>2022484408</td>\n",
       "      <td>4/12/2016 7:21:00 AM</td>\n",
       "      <td>97</td>\n",
       "    </tr>\n",
       "    <tr>\n",
       "      <th>1</th>\n",
       "      <td>2022484408</td>\n",
       "      <td>4/12/2016 7:21:05 AM</td>\n",
       "      <td>102</td>\n",
       "    </tr>\n",
       "    <tr>\n",
       "      <th>2</th>\n",
       "      <td>2022484408</td>\n",
       "      <td>4/12/2016 7:21:10 AM</td>\n",
       "      <td>105</td>\n",
       "    </tr>\n",
       "    <tr>\n",
       "      <th>3</th>\n",
       "      <td>2022484408</td>\n",
       "      <td>4/12/2016 7:21:20 AM</td>\n",
       "      <td>103</td>\n",
       "    </tr>\n",
       "    <tr>\n",
       "      <th>4</th>\n",
       "      <td>2022484408</td>\n",
       "      <td>4/12/2016 7:21:25 AM</td>\n",
       "      <td>101</td>\n",
       "    </tr>\n",
       "  </tbody>\n",
       "</table>\n",
       "</div>"
      ],
      "text/plain": [
       "           Id                  Time  Value\n",
       "0  2022484408  4/12/2016 7:21:00 AM     97\n",
       "1  2022484408  4/12/2016 7:21:05 AM    102\n",
       "2  2022484408  4/12/2016 7:21:10 AM    105\n",
       "3  2022484408  4/12/2016 7:21:20 AM    103\n",
       "4  2022484408  4/12/2016 7:21:25 AM    101"
      ]
     },
     "execution_count": 8,
     "metadata": {},
     "output_type": "execute_result"
    }
   ],
   "source": [
    "heartrate_secs.head(5)"
   ]
  },
  {
   "cell_type": "code",
   "execution_count": 9,
   "id": "596ca850",
   "metadata": {
    "execution": {
     "iopub.execute_input": "2023-08-19T23:21:34.122467Z",
     "iopub.status.busy": "2023-08-19T23:21:34.122095Z",
     "iopub.status.idle": "2023-08-19T23:21:34.132907Z",
     "shell.execute_reply": "2023-08-19T23:21:34.131906Z"
    },
    "papermill": {
     "duration": 0.041574,
     "end_time": "2023-08-19T23:21:34.135194",
     "exception": false,
     "start_time": "2023-08-19T23:21:34.093620",
     "status": "completed"
    },
    "tags": []
   },
   "outputs": [
    {
     "data": {
      "text/html": [
       "<div>\n",
       "<style scoped>\n",
       "    .dataframe tbody tr th:only-of-type {\n",
       "        vertical-align: middle;\n",
       "    }\n",
       "\n",
       "    .dataframe tbody tr th {\n",
       "        vertical-align: top;\n",
       "    }\n",
       "\n",
       "    .dataframe thead th {\n",
       "        text-align: right;\n",
       "    }\n",
       "</style>\n",
       "<table border=\"1\" class=\"dataframe\">\n",
       "  <thead>\n",
       "    <tr style=\"text-align: right;\">\n",
       "      <th></th>\n",
       "      <th>Id</th>\n",
       "      <th>SleepDay</th>\n",
       "      <th>TotalSleepRecords</th>\n",
       "      <th>TotalMinutesAsleep</th>\n",
       "      <th>TotalTimeInBed</th>\n",
       "    </tr>\n",
       "  </thead>\n",
       "  <tbody>\n",
       "    <tr>\n",
       "      <th>0</th>\n",
       "      <td>1503960366</td>\n",
       "      <td>4/12/2016 12:00:00 AM</td>\n",
       "      <td>1</td>\n",
       "      <td>327</td>\n",
       "      <td>346</td>\n",
       "    </tr>\n",
       "    <tr>\n",
       "      <th>1</th>\n",
       "      <td>1503960366</td>\n",
       "      <td>4/13/2016 12:00:00 AM</td>\n",
       "      <td>2</td>\n",
       "      <td>384</td>\n",
       "      <td>407</td>\n",
       "    </tr>\n",
       "    <tr>\n",
       "      <th>2</th>\n",
       "      <td>1503960366</td>\n",
       "      <td>4/15/2016 12:00:00 AM</td>\n",
       "      <td>1</td>\n",
       "      <td>412</td>\n",
       "      <td>442</td>\n",
       "    </tr>\n",
       "    <tr>\n",
       "      <th>3</th>\n",
       "      <td>1503960366</td>\n",
       "      <td>4/16/2016 12:00:00 AM</td>\n",
       "      <td>2</td>\n",
       "      <td>340</td>\n",
       "      <td>367</td>\n",
       "    </tr>\n",
       "    <tr>\n",
       "      <th>4</th>\n",
       "      <td>1503960366</td>\n",
       "      <td>4/17/2016 12:00:00 AM</td>\n",
       "      <td>1</td>\n",
       "      <td>700</td>\n",
       "      <td>712</td>\n",
       "    </tr>\n",
       "  </tbody>\n",
       "</table>\n",
       "</div>"
      ],
      "text/plain": [
       "           Id               SleepDay  TotalSleepRecords  TotalMinutesAsleep  \\\n",
       "0  1503960366  4/12/2016 12:00:00 AM                  1                 327   \n",
       "1  1503960366  4/13/2016 12:00:00 AM                  2                 384   \n",
       "2  1503960366  4/15/2016 12:00:00 AM                  1                 412   \n",
       "3  1503960366  4/16/2016 12:00:00 AM                  2                 340   \n",
       "4  1503960366  4/17/2016 12:00:00 AM                  1                 700   \n",
       "\n",
       "   TotalTimeInBed  \n",
       "0             346  \n",
       "1             407  \n",
       "2             442  \n",
       "3             367  \n",
       "4             712  "
      ]
     },
     "execution_count": 9,
     "metadata": {},
     "output_type": "execute_result"
    }
   ],
   "source": [
    "sleepday.head(5)"
   ]
  },
  {
   "cell_type": "code",
   "execution_count": 10,
   "id": "5e659eeb",
   "metadata": {
    "execution": {
     "iopub.execute_input": "2023-08-19T23:21:34.191400Z",
     "iopub.status.busy": "2023-08-19T23:21:34.190991Z",
     "iopub.status.idle": "2023-08-19T23:21:34.205843Z",
     "shell.execute_reply": "2023-08-19T23:21:34.204852Z"
    },
    "papermill": {
     "duration": 0.045845,
     "end_time": "2023-08-19T23:21:34.208298",
     "exception": false,
     "start_time": "2023-08-19T23:21:34.162453",
     "status": "completed"
    },
    "tags": []
   },
   "outputs": [
    {
     "data": {
      "text/html": [
       "<div>\n",
       "<style scoped>\n",
       "    .dataframe tbody tr th:only-of-type {\n",
       "        vertical-align: middle;\n",
       "    }\n",
       "\n",
       "    .dataframe tbody tr th {\n",
       "        vertical-align: top;\n",
       "    }\n",
       "\n",
       "    .dataframe thead th {\n",
       "        text-align: right;\n",
       "    }\n",
       "</style>\n",
       "<table border=\"1\" class=\"dataframe\">\n",
       "  <thead>\n",
       "    <tr style=\"text-align: right;\">\n",
       "      <th></th>\n",
       "      <th>Id</th>\n",
       "      <th>Date</th>\n",
       "      <th>WeightKg</th>\n",
       "      <th>WeightPounds</th>\n",
       "      <th>Fat</th>\n",
       "      <th>BMI</th>\n",
       "      <th>IsManualReport</th>\n",
       "      <th>LogId</th>\n",
       "    </tr>\n",
       "  </thead>\n",
       "  <tbody>\n",
       "    <tr>\n",
       "      <th>0</th>\n",
       "      <td>1503960366</td>\n",
       "      <td>5/2/2016 11:59:59 PM</td>\n",
       "      <td>52.599998</td>\n",
       "      <td>115.963147</td>\n",
       "      <td>22.0</td>\n",
       "      <td>22.650000</td>\n",
       "      <td>True</td>\n",
       "      <td>1462233599000</td>\n",
       "    </tr>\n",
       "    <tr>\n",
       "      <th>1</th>\n",
       "      <td>1503960366</td>\n",
       "      <td>5/3/2016 11:59:59 PM</td>\n",
       "      <td>52.599998</td>\n",
       "      <td>115.963147</td>\n",
       "      <td>NaN</td>\n",
       "      <td>22.650000</td>\n",
       "      <td>True</td>\n",
       "      <td>1462319999000</td>\n",
       "    </tr>\n",
       "    <tr>\n",
       "      <th>2</th>\n",
       "      <td>1927972279</td>\n",
       "      <td>4/13/2016 1:08:52 AM</td>\n",
       "      <td>133.500000</td>\n",
       "      <td>294.317120</td>\n",
       "      <td>NaN</td>\n",
       "      <td>47.540001</td>\n",
       "      <td>False</td>\n",
       "      <td>1460509732000</td>\n",
       "    </tr>\n",
       "    <tr>\n",
       "      <th>3</th>\n",
       "      <td>2873212765</td>\n",
       "      <td>4/21/2016 11:59:59 PM</td>\n",
       "      <td>56.700001</td>\n",
       "      <td>125.002104</td>\n",
       "      <td>NaN</td>\n",
       "      <td>21.450001</td>\n",
       "      <td>True</td>\n",
       "      <td>1461283199000</td>\n",
       "    </tr>\n",
       "    <tr>\n",
       "      <th>4</th>\n",
       "      <td>2873212765</td>\n",
       "      <td>5/12/2016 11:59:59 PM</td>\n",
       "      <td>57.299999</td>\n",
       "      <td>126.324875</td>\n",
       "      <td>NaN</td>\n",
       "      <td>21.690001</td>\n",
       "      <td>True</td>\n",
       "      <td>1463097599000</td>\n",
       "    </tr>\n",
       "  </tbody>\n",
       "</table>\n",
       "</div>"
      ],
      "text/plain": [
       "           Id                   Date    WeightKg  WeightPounds   Fat  \\\n",
       "0  1503960366   5/2/2016 11:59:59 PM   52.599998    115.963147  22.0   \n",
       "1  1503960366   5/3/2016 11:59:59 PM   52.599998    115.963147   NaN   \n",
       "2  1927972279   4/13/2016 1:08:52 AM  133.500000    294.317120   NaN   \n",
       "3  2873212765  4/21/2016 11:59:59 PM   56.700001    125.002104   NaN   \n",
       "4  2873212765  5/12/2016 11:59:59 PM   57.299999    126.324875   NaN   \n",
       "\n",
       "         BMI  IsManualReport          LogId  \n",
       "0  22.650000            True  1462233599000  \n",
       "1  22.650000            True  1462319999000  \n",
       "2  47.540001           False  1460509732000  \n",
       "3  21.450001            True  1461283199000  \n",
       "4  21.690001            True  1463097599000  "
      ]
     },
     "execution_count": 10,
     "metadata": {},
     "output_type": "execute_result"
    }
   ],
   "source": [
    "weight_log.head(5)"
   ]
  },
  {
   "cell_type": "markdown",
   "id": "7d449afd",
   "metadata": {
    "papermill": {
     "duration": 0.027946,
     "end_time": "2023-08-19T23:21:34.263725",
     "exception": false,
     "start_time": "2023-08-19T23:21:34.235779",
     "status": "completed"
    },
    "tags": []
   },
   "source": [
    "Now, we'll use the .info() method to learn about missing data and the type of information in each column. This will help us understand the data better and decide how to work with it effectively."
   ]
  },
  {
   "cell_type": "code",
   "execution_count": 11,
   "id": "82aae359",
   "metadata": {
    "execution": {
     "iopub.execute_input": "2023-08-19T23:21:34.317656Z",
     "iopub.status.busy": "2023-08-19T23:21:34.317314Z",
     "iopub.status.idle": "2023-08-19T23:21:34.339554Z",
     "shell.execute_reply": "2023-08-19T23:21:34.338287Z"
    },
    "papermill": {
     "duration": 0.052033,
     "end_time": "2023-08-19T23:21:34.341591",
     "exception": false,
     "start_time": "2023-08-19T23:21:34.289558",
     "status": "completed"
    },
    "tags": []
   },
   "outputs": [
    {
     "name": "stdout",
     "output_type": "stream",
     "text": [
      "<class 'pandas.core.frame.DataFrame'>\n",
      "RangeIndex: 940 entries, 0 to 939\n",
      "Data columns (total 15 columns):\n",
      " #   Column                    Non-Null Count  Dtype  \n",
      "---  ------                    --------------  -----  \n",
      " 0   Id                        940 non-null    int64  \n",
      " 1   ActivityDate              940 non-null    object \n",
      " 2   TotalSteps                940 non-null    int64  \n",
      " 3   TotalDistance             940 non-null    float64\n",
      " 4   TrackerDistance           940 non-null    float64\n",
      " 5   LoggedActivitiesDistance  940 non-null    float64\n",
      " 6   VeryActiveDistance        940 non-null    float64\n",
      " 7   ModeratelyActiveDistance  940 non-null    float64\n",
      " 8   LightActiveDistance       940 non-null    float64\n",
      " 9   SedentaryActiveDistance   940 non-null    float64\n",
      " 10  VeryActiveMinutes         940 non-null    int64  \n",
      " 11  FairlyActiveMinutes       940 non-null    int64  \n",
      " 12  LightlyActiveMinutes      940 non-null    int64  \n",
      " 13  SedentaryMinutes          940 non-null    int64  \n",
      " 14  Calories                  940 non-null    int64  \n",
      "dtypes: float64(7), int64(7), object(1)\n",
      "memory usage: 110.3+ KB\n"
     ]
    }
   ],
   "source": [
    "daily_activity.info()"
   ]
  },
  {
   "cell_type": "code",
   "execution_count": 12,
   "id": "ed1a8166",
   "metadata": {
    "execution": {
     "iopub.execute_input": "2023-08-19T23:21:34.395223Z",
     "iopub.status.busy": "2023-08-19T23:21:34.394900Z",
     "iopub.status.idle": "2023-08-19T23:21:34.405188Z",
     "shell.execute_reply": "2023-08-19T23:21:34.404326Z"
    },
    "papermill": {
     "duration": 0.039555,
     "end_time": "2023-08-19T23:21:34.407582",
     "exception": false,
     "start_time": "2023-08-19T23:21:34.368027",
     "status": "completed"
    },
    "tags": []
   },
   "outputs": [
    {
     "name": "stdout",
     "output_type": "stream",
     "text": [
      "<class 'pandas.core.frame.DataFrame'>\n",
      "RangeIndex: 940 entries, 0 to 939\n",
      "Data columns (total 3 columns):\n",
      " #   Column       Non-Null Count  Dtype \n",
      "---  ------       --------------  ----- \n",
      " 0   Id           940 non-null    int64 \n",
      " 1   ActivityDay  940 non-null    object\n",
      " 2   Calories     940 non-null    int64 \n",
      "dtypes: int64(2), object(1)\n",
      "memory usage: 22.2+ KB\n"
     ]
    }
   ],
   "source": [
    "daily_calories.info()"
   ]
  },
  {
   "cell_type": "code",
   "execution_count": 13,
   "id": "1f10a56f",
   "metadata": {
    "execution": {
     "iopub.execute_input": "2023-08-19T23:21:34.463675Z",
     "iopub.status.busy": "2023-08-19T23:21:34.463304Z",
     "iopub.status.idle": "2023-08-19T23:21:34.475450Z",
     "shell.execute_reply": "2023-08-19T23:21:34.474416Z"
    },
    "papermill": {
     "duration": 0.043663,
     "end_time": "2023-08-19T23:21:34.478107",
     "exception": false,
     "start_time": "2023-08-19T23:21:34.434444",
     "status": "completed"
    },
    "tags": []
   },
   "outputs": [
    {
     "name": "stdout",
     "output_type": "stream",
     "text": [
      "<class 'pandas.core.frame.DataFrame'>\n",
      "RangeIndex: 940 entries, 0 to 939\n",
      "Data columns (total 10 columns):\n",
      " #   Column                    Non-Null Count  Dtype  \n",
      "---  ------                    --------------  -----  \n",
      " 0   Id                        940 non-null    int64  \n",
      " 1   ActivityDay               940 non-null    object \n",
      " 2   SedentaryMinutes          940 non-null    int64  \n",
      " 3   LightlyActiveMinutes      940 non-null    int64  \n",
      " 4   FairlyActiveMinutes       940 non-null    int64  \n",
      " 5   VeryActiveMinutes         940 non-null    int64  \n",
      " 6   SedentaryActiveDistance   940 non-null    float64\n",
      " 7   LightActiveDistance       940 non-null    float64\n",
      " 8   ModeratelyActiveDistance  940 non-null    float64\n",
      " 9   VeryActiveDistance        940 non-null    float64\n",
      "dtypes: float64(4), int64(5), object(1)\n",
      "memory usage: 73.6+ KB\n"
     ]
    }
   ],
   "source": [
    "daily_intensity.info()"
   ]
  },
  {
   "cell_type": "code",
   "execution_count": 14,
   "id": "939083ec",
   "metadata": {
    "execution": {
     "iopub.execute_input": "2023-08-19T23:21:34.532345Z",
     "iopub.status.busy": "2023-08-19T23:21:34.532011Z",
     "iopub.status.idle": "2023-08-19T23:21:34.542478Z",
     "shell.execute_reply": "2023-08-19T23:21:34.541567Z"
    },
    "papermill": {
     "duration": 0.039731,
     "end_time": "2023-08-19T23:21:34.544967",
     "exception": false,
     "start_time": "2023-08-19T23:21:34.505236",
     "status": "completed"
    },
    "tags": []
   },
   "outputs": [
    {
     "name": "stdout",
     "output_type": "stream",
     "text": [
      "<class 'pandas.core.frame.DataFrame'>\n",
      "RangeIndex: 940 entries, 0 to 939\n",
      "Data columns (total 3 columns):\n",
      " #   Column       Non-Null Count  Dtype \n",
      "---  ------       --------------  ----- \n",
      " 0   Id           940 non-null    int64 \n",
      " 1   ActivityDay  940 non-null    object\n",
      " 2   StepTotal    940 non-null    int64 \n",
      "dtypes: int64(2), object(1)\n",
      "memory usage: 22.2+ KB\n"
     ]
    }
   ],
   "source": [
    "daily_steps.info()"
   ]
  },
  {
   "cell_type": "code",
   "execution_count": 15,
   "id": "1463d77d",
   "metadata": {
    "execution": {
     "iopub.execute_input": "2023-08-19T23:21:34.598941Z",
     "iopub.status.busy": "2023-08-19T23:21:34.598647Z",
     "iopub.status.idle": "2023-08-19T23:21:34.615322Z",
     "shell.execute_reply": "2023-08-19T23:21:34.614107Z"
    },
    "papermill": {
     "duration": 0.046459,
     "end_time": "2023-08-19T23:21:34.617423",
     "exception": false,
     "start_time": "2023-08-19T23:21:34.570964",
     "status": "completed"
    },
    "tags": []
   },
   "outputs": [
    {
     "name": "stdout",
     "output_type": "stream",
     "text": [
      "<class 'pandas.core.frame.DataFrame'>\n",
      "RangeIndex: 22099 entries, 0 to 22098\n",
      "Data columns (total 3 columns):\n",
      " #   Column        Non-Null Count  Dtype \n",
      "---  ------        --------------  ----- \n",
      " 0   Id            22099 non-null  int64 \n",
      " 1   ActivityHour  22099 non-null  object\n",
      " 2   StepTotal     22099 non-null  int64 \n",
      "dtypes: int64(2), object(1)\n",
      "memory usage: 518.1+ KB\n"
     ]
    }
   ],
   "source": [
    "hourly_steps.info()"
   ]
  },
  {
   "cell_type": "code",
   "execution_count": 16,
   "id": "0ec960ed",
   "metadata": {
    "execution": {
     "iopub.execute_input": "2023-08-19T23:21:34.674318Z",
     "iopub.status.busy": "2023-08-19T23:21:34.673727Z",
     "iopub.status.idle": "2023-08-19T23:21:34.690460Z",
     "shell.execute_reply": "2023-08-19T23:21:34.689380Z"
    },
    "papermill": {
     "duration": 0.046821,
     "end_time": "2023-08-19T23:21:34.692306",
     "exception": false,
     "start_time": "2023-08-19T23:21:34.645485",
     "status": "completed"
    },
    "tags": []
   },
   "outputs": [
    {
     "name": "stdout",
     "output_type": "stream",
     "text": [
      "<class 'pandas.core.frame.DataFrame'>\n",
      "RangeIndex: 22099 entries, 0 to 22098\n",
      "Data columns (total 3 columns):\n",
      " #   Column        Non-Null Count  Dtype \n",
      "---  ------        --------------  ----- \n",
      " 0   Id            22099 non-null  int64 \n",
      " 1   ActivityHour  22099 non-null  object\n",
      " 2   Calories      22099 non-null  int64 \n",
      "dtypes: int64(2), object(1)\n",
      "memory usage: 518.1+ KB\n"
     ]
    }
   ],
   "source": [
    "hourly_calories.info()"
   ]
  },
  {
   "cell_type": "code",
   "execution_count": 17,
   "id": "674896cd",
   "metadata": {
    "execution": {
     "iopub.execute_input": "2023-08-19T23:21:34.746127Z",
     "iopub.status.busy": "2023-08-19T23:21:34.745847Z",
     "iopub.status.idle": "2023-08-19T23:21:34.754460Z",
     "shell.execute_reply": "2023-08-19T23:21:34.753607Z"
    },
    "papermill": {
     "duration": 0.038462,
     "end_time": "2023-08-19T23:21:34.756569",
     "exception": false,
     "start_time": "2023-08-19T23:21:34.718107",
     "status": "completed"
    },
    "tags": []
   },
   "outputs": [
    {
     "name": "stdout",
     "output_type": "stream",
     "text": [
      "<class 'pandas.core.frame.DataFrame'>\n",
      "RangeIndex: 2483658 entries, 0 to 2483657\n",
      "Data columns (total 3 columns):\n",
      " #   Column  Dtype \n",
      "---  ------  ----- \n",
      " 0   Id      int64 \n",
      " 1   Time    object\n",
      " 2   Value   int64 \n",
      "dtypes: int64(2), object(1)\n",
      "memory usage: 56.8+ MB\n"
     ]
    }
   ],
   "source": [
    "heartrate_secs.info()"
   ]
  },
  {
   "cell_type": "code",
   "execution_count": 18,
   "id": "c4af7c74",
   "metadata": {
    "execution": {
     "iopub.execute_input": "2023-08-19T23:21:34.811661Z",
     "iopub.status.busy": "2023-08-19T23:21:34.810973Z",
     "iopub.status.idle": "2023-08-19T23:21:34.821333Z",
     "shell.execute_reply": "2023-08-19T23:21:34.820580Z"
    },
    "papermill": {
     "duration": 0.040647,
     "end_time": "2023-08-19T23:21:34.823729",
     "exception": false,
     "start_time": "2023-08-19T23:21:34.783082",
     "status": "completed"
    },
    "tags": []
   },
   "outputs": [
    {
     "name": "stdout",
     "output_type": "stream",
     "text": [
      "<class 'pandas.core.frame.DataFrame'>\n",
      "RangeIndex: 413 entries, 0 to 412\n",
      "Data columns (total 5 columns):\n",
      " #   Column              Non-Null Count  Dtype \n",
      "---  ------              --------------  ----- \n",
      " 0   Id                  413 non-null    int64 \n",
      " 1   SleepDay            413 non-null    object\n",
      " 2   TotalSleepRecords   413 non-null    int64 \n",
      " 3   TotalMinutesAsleep  413 non-null    int64 \n",
      " 4   TotalTimeInBed      413 non-null    int64 \n",
      "dtypes: int64(4), object(1)\n",
      "memory usage: 16.3+ KB\n"
     ]
    }
   ],
   "source": [
    "sleepday.info()"
   ]
  },
  {
   "cell_type": "code",
   "execution_count": 19,
   "id": "48e77b4e",
   "metadata": {
    "execution": {
     "iopub.execute_input": "2023-08-19T23:21:34.877906Z",
     "iopub.status.busy": "2023-08-19T23:21:34.877613Z",
     "iopub.status.idle": "2023-08-19T23:21:34.888705Z",
     "shell.execute_reply": "2023-08-19T23:21:34.887516Z"
    },
    "papermill": {
     "duration": 0.040839,
     "end_time": "2023-08-19T23:21:34.890862",
     "exception": false,
     "start_time": "2023-08-19T23:21:34.850023",
     "status": "completed"
    },
    "tags": []
   },
   "outputs": [
    {
     "name": "stdout",
     "output_type": "stream",
     "text": [
      "<class 'pandas.core.frame.DataFrame'>\n",
      "RangeIndex: 67 entries, 0 to 66\n",
      "Data columns (total 8 columns):\n",
      " #   Column          Non-Null Count  Dtype  \n",
      "---  ------          --------------  -----  \n",
      " 0   Id              67 non-null     int64  \n",
      " 1   Date            67 non-null     object \n",
      " 2   WeightKg        67 non-null     float64\n",
      " 3   WeightPounds    67 non-null     float64\n",
      " 4   Fat             2 non-null      float64\n",
      " 5   BMI             67 non-null     float64\n",
      " 6   IsManualReport  67 non-null     bool   \n",
      " 7   LogId           67 non-null     int64  \n",
      "dtypes: bool(1), float64(4), int64(2), object(1)\n",
      "memory usage: 3.9+ KB\n"
     ]
    }
   ],
   "source": [
    "weight_log.info()"
   ]
  },
  {
   "cell_type": "markdown",
   "id": "8b9e0b3d",
   "metadata": {
    "papermill": {
     "duration": 0.026396,
     "end_time": "2023-08-19T23:21:34.943942",
     "exception": false,
     "start_time": "2023-08-19T23:21:34.917546",
     "status": "completed"
    },
    "tags": []
   },
   "source": [
    "Next, let's see how many **unique users** are in each dataset. "
   ]
  },
  {
   "cell_type": "code",
   "execution_count": 20,
   "id": "2dfde542",
   "metadata": {
    "execution": {
     "iopub.execute_input": "2023-08-19T23:21:34.998442Z",
     "iopub.status.busy": "2023-08-19T23:21:34.998132Z",
     "iopub.status.idle": "2023-08-19T23:21:35.022345Z",
     "shell.execute_reply": "2023-08-19T23:21:35.021348Z"
    },
    "papermill": {
     "duration": 0.054238,
     "end_time": "2023-08-19T23:21:35.024454",
     "exception": false,
     "start_time": "2023-08-19T23:21:34.970216",
     "status": "completed"
    },
    "tags": []
   },
   "outputs": [
    {
     "name": "stdout",
     "output_type": "stream",
     "text": [
      "daily_activity has 33 unique users\n",
      "daily_calories has 33 unique users\n",
      "daily_intensity has 33 unique users\n",
      "daily_steps has 33 unique users\n",
      "hourly_steps has 33 unique users\n",
      "hourly_calories has 33 unique users\n",
      "heartrate_secs has 14 unique users\n",
      "sleepday has 24 unique users\n",
      "hourly_calories has 33 unique users\n",
      "weight_log has 8 unique users\n"
     ]
    }
   ],
   "source": [
    "print(\"daily_activity has\",daily_activity[\"Id\"].nunique(), \"unique users\" )\n",
    "print(\"daily_calories has\",daily_calories[\"Id\"].nunique(), \"unique users\" )\n",
    "print(\"daily_intensity has\",daily_intensity[\"Id\"].nunique(), \"unique users\" )\n",
    "print(\"daily_steps has\",daily_steps[\"Id\"].nunique(), \"unique users\" )\n",
    "print(\"hourly_steps has\",hourly_steps[\"Id\"].nunique(), \"unique users\" )\n",
    "print(\"hourly_calories has\",hourly_calories[\"Id\"].nunique(), \"unique users\" )\n",
    "print(\"heartrate_secs has\",heartrate_secs[\"Id\"].nunique(), \"unique users\" )\n",
    "print(\"sleepday has\",sleepday[\"Id\"].nunique(), \"unique users\" )\n",
    "print(\"hourly_calories has\",hourly_calories[\"Id\"].nunique(), \"unique users\" )\n",
    "print(\"weight_log has\",weight_log[\"Id\"].nunique(), \"unique users\" )\n",
    "\n",
    "\n"
   ]
  },
  {
   "cell_type": "markdown",
   "id": "296509d9",
   "metadata": {
    "papermill": {
     "duration": 0.026824,
     "end_time": "2023-08-19T23:21:35.078896",
     "exception": false,
     "start_time": "2023-08-19T23:21:35.052072",
     "status": "completed"
    },
    "tags": []
   },
   "source": [
    "Next, let's see how many **duplicate** values are in each dataset."
   ]
  },
  {
   "cell_type": "code",
   "execution_count": 21,
   "id": "87755a99",
   "metadata": {
    "execution": {
     "iopub.execute_input": "2023-08-19T23:21:35.134484Z",
     "iopub.status.busy": "2023-08-19T23:21:35.133904Z",
     "iopub.status.idle": "2023-08-19T23:21:36.210809Z",
     "shell.execute_reply": "2023-08-19T23:21:36.209521Z"
    },
    "papermill": {
     "duration": 1.108391,
     "end_time": "2023-08-19T23:21:36.213866",
     "exception": false,
     "start_time": "2023-08-19T23:21:35.105475",
     "status": "completed"
    },
    "tags": []
   },
   "outputs": [
    {
     "name": "stdout",
     "output_type": "stream",
     "text": [
      "daily_activity has 0 duplicate values\n",
      "daily_calories has 0 duplicate values\n",
      "daily_intensity has 0 duplicate values\n",
      "daily_steps has 0 duplicate values\n",
      "hourly_steps has 0 duplicate values\n",
      "hourly_calories has 0 duplicate values\n",
      "heartrate_secs has 0 duplicate values\n",
      "sleepday has 3 duplicate values\n",
      "hourly_calories has 0 duplicate values\n",
      "weight_log has 0 duplicate values\n"
     ]
    }
   ],
   "source": [
    "print(\"daily_activity has\",daily_activity.duplicated().sum(), \"duplicate values\" )\n",
    "print(\"daily_calories has\",daily_calories.duplicated().sum(), \"duplicate values\"  )\n",
    "print(\"daily_intensity has\",daily_intensity.duplicated().sum(), \"duplicate values\" )\n",
    "print(\"daily_steps has\",daily_steps.duplicated().sum(), \"duplicate values\"  )\n",
    "print(\"hourly_steps has\",hourly_steps.duplicated().sum(), \"duplicate values\"  )\n",
    "print(\"hourly_calories has\",hourly_calories.duplicated().sum(), \"duplicate values\"  )\n",
    "print(\"heartrate_secs has\",heartrate_secs.duplicated().sum(), \"duplicate values\" )\n",
    "print(\"sleepday has\",sleepday.duplicated().sum(), \"duplicate values\"  )\n",
    "print(\"hourly_calories has\",hourly_calories.duplicated().sum(), \"duplicate values\"  )\n",
    "print(\"weight_log has\",weight_log.duplicated().sum(), \"duplicate values\"  )"
   ]
  },
  {
   "cell_type": "markdown",
   "id": "db681dd8",
   "metadata": {
    "papermill": {
     "duration": 0.027359,
     "end_time": "2023-08-19T23:21:36.269463",
     "exception": false,
     "start_time": "2023-08-19T23:21:36.242104",
     "status": "completed"
    },
    "tags": []
   },
   "source": [
    "#  **Datasets Inspection**:\n",
    "* After inspecting various datasets, \"heartrate_secs,\" \"weight_logged,\" and \"sleepday\" did not meet the n>=30 rule.\n",
    "We will drop \"heartrate_secs\" (n=14) and \"weight_logged\" (n=8), while keeping \"sleepday\" (n=24) due to potential insights.\n",
    "* Furthermore\"daily_calories,\" \"daily_intensity,\" and \"daily_steps\" repeat the same data as \"daily_activity,\" with minor column name variations. These will be discarded, leaving \"daily_activity,\" \"hourly_steps,\" \"hourly_calories,\" and \"sleepday\" datasets.\n",
    "#  **Structure Observations**:\n",
    "* \"hourly_steps\" and \"hourly_calories\" share a similar structure (22099, 3), suggesting a merge possibility.\n",
    "#  **Data Type Enhancement**:\n",
    "* Columns such as \"ActivityDate\" in \"daily_activity,\" \"ActivityHour\" in \"hourly_steps\" and \"hourly_calories,\" and \"SleepDay\" in \"sleepday\" are labeled as objects but should be converted to datetime for streamlined processing.\n",
    "#  **Data Quality**:\n",
    "* Notably, there are no missing values or duplicates(with 3 exception in sleepday dataset) in any of the datasets.\n",
    "#  **Key Insights**:\n",
    "* \"daily_activity\" is a comprehensive dataframe resulting from merging other datasets.\n",
    "* \"sleepday\" is valuable despite its smaller size (n=24).\n",
    "* Addressing data types and potential merges will enhance analysis efficiency."
   ]
  },
  {
   "cell_type": "markdown",
   "id": "733fdac0",
   "metadata": {
    "papermill": {
     "duration": 0.02738,
     "end_time": "2023-08-19T23:21:36.325162",
     "exception": false,
     "start_time": "2023-08-19T23:21:36.297782",
     "status": "completed"
    },
    "tags": []
   },
   "source": [
    "# **DATA TRANSFORMATION**\n",
    "\n",
    "Converting the \"ActivityDate” in daily_activity, “ActivityHour” in hourly_steps, “ActivityHour” in hourly_calories, and “SleepDay” in sleepday to datetime"
   ]
  },
  {
   "cell_type": "code",
   "execution_count": 22,
   "id": "bda081e5",
   "metadata": {
    "execution": {
     "iopub.execute_input": "2023-08-19T23:21:36.382515Z",
     "iopub.status.busy": "2023-08-19T23:21:36.382147Z",
     "iopub.status.idle": "2023-08-19T23:21:42.130115Z",
     "shell.execute_reply": "2023-08-19T23:21:42.129223Z"
    },
    "papermill": {
     "duration": 5.779812,
     "end_time": "2023-08-19T23:21:42.132637",
     "exception": false,
     "start_time": "2023-08-19T23:21:36.352825",
     "status": "completed"
    },
    "tags": []
   },
   "outputs": [],
   "source": [
    "daily_activity[\"ActivityDate\"] = pd.to_datetime(daily_activity[\"ActivityDate\"])\n",
    "hourly_steps[\"ActivityHour\"] = pd.to_datetime(hourly_steps[\"ActivityHour\"])\n",
    "hourly_calories[\"ActivityHour\"] = pd.to_datetime(hourly_calories[\"ActivityHour\"])\n",
    "sleepday[\"SleepDay\"] = pd.to_datetime(sleepday[\"SleepDay\"])"
   ]
  },
  {
   "cell_type": "markdown",
   "id": "1f9b776a",
   "metadata": {
    "papermill": {
     "duration": 0.026199,
     "end_time": "2023-08-19T23:21:42.186312",
     "exception": false,
     "start_time": "2023-08-19T23:21:42.160113",
     "status": "completed"
    },
    "tags": []
   },
   "source": [
    "Now, let's check if the data types got changed..."
   ]
  },
  {
   "cell_type": "code",
   "execution_count": 23,
   "id": "e8010dcf",
   "metadata": {
    "execution": {
     "iopub.execute_input": "2023-08-19T23:21:42.241407Z",
     "iopub.status.busy": "2023-08-19T23:21:42.241024Z",
     "iopub.status.idle": "2023-08-19T23:21:42.247279Z",
     "shell.execute_reply": "2023-08-19T23:21:42.246317Z"
    },
    "papermill": {
     "duration": 0.037109,
     "end_time": "2023-08-19T23:21:42.249491",
     "exception": false,
     "start_time": "2023-08-19T23:21:42.212382",
     "status": "completed"
    },
    "tags": []
   },
   "outputs": [
    {
     "name": "stdout",
     "output_type": "stream",
     "text": [
      "Data type of daily_activity[ActivityDate]  is datetime64[ns]\n",
      "Data type of hourly_steps[ActivityHour]    is datetime64[ns]\n",
      "Data type of hourly_calories[ActivityHour] is datetime64[ns]\n",
      "Data type of sleepday[SleepDay]            is datetime64[ns]\n"
     ]
    }
   ],
   "source": [
    "print(\"Data type of daily_activity[ActivityDate]  is\", daily_activity[\"ActivityDate\"].dtypes)\n",
    "print(\"Data type of hourly_steps[ActivityHour]    is\", hourly_steps[\"ActivityHour\"].dtypes)\n",
    "print(\"Data type of hourly_calories[ActivityHour] is\", hourly_calories[\"ActivityHour\"].dtypes)\n",
    "print(\"Data type of sleepday[SleepDay]            is\",sleepday[\"SleepDay\"].dtypes)"
   ]
  },
  {
   "cell_type": "markdown",
   "id": "1b8b62d9",
   "metadata": {
    "papermill": {
     "duration": 0.027288,
     "end_time": "2023-08-19T23:21:42.303984",
     "exception": false,
     "start_time": "2023-08-19T23:21:42.276696",
     "status": "completed"
    },
    "tags": []
   },
   "source": [
    "All of our dataframes are now in correct datatypes"
   ]
  },
  {
   "cell_type": "markdown",
   "id": "651d7c87",
   "metadata": {
    "papermill": {
     "duration": 0.026133,
     "end_time": "2023-08-19T23:21:42.355949",
     "exception": false,
     "start_time": "2023-08-19T23:21:42.329816",
     "status": "completed"
    },
    "tags": []
   },
   "source": [
    "# **Merging hourly_steps and hourly_calories DataFrame**\n",
    "\"We've observed through the .info() method that these two DataFrames share the same shape and include common columns 'Id' and 'ActivityHour'. Given this, it's appropriate to perform a join operation to merge them together.\""
   ]
  },
  {
   "cell_type": "code",
   "execution_count": 24,
   "id": "a9556928",
   "metadata": {
    "execution": {
     "iopub.execute_input": "2023-08-19T23:21:42.410172Z",
     "iopub.status.busy": "2023-08-19T23:21:42.409820Z",
     "iopub.status.idle": "2023-08-19T23:21:42.436222Z",
     "shell.execute_reply": "2023-08-19T23:21:42.435304Z"
    },
    "papermill": {
     "duration": 0.056279,
     "end_time": "2023-08-19T23:21:42.438301",
     "exception": false,
     "start_time": "2023-08-19T23:21:42.382022",
     "status": "completed"
    },
    "tags": []
   },
   "outputs": [
    {
     "name": "stdout",
     "output_type": "stream",
     "text": [
      "<class 'pandas.core.frame.DataFrame'>\n",
      "Int64Index: 22099 entries, 0 to 22098\n",
      "Data columns (total 4 columns):\n",
      " #   Column        Non-Null Count  Dtype         \n",
      "---  ------        --------------  -----         \n",
      " 0   Id            22099 non-null  int64         \n",
      " 1   ActivityHour  22099 non-null  datetime64[ns]\n",
      " 2   StepTotal     22099 non-null  int64         \n",
      " 3   Calories      22099 non-null  int64         \n",
      "dtypes: datetime64[ns](1), int64(3)\n",
      "memory usage: 863.2 KB\n"
     ]
    },
    {
     "data": {
      "text/html": [
       "<div>\n",
       "<style scoped>\n",
       "    .dataframe tbody tr th:only-of-type {\n",
       "        vertical-align: middle;\n",
       "    }\n",
       "\n",
       "    .dataframe tbody tr th {\n",
       "        vertical-align: top;\n",
       "    }\n",
       "\n",
       "    .dataframe thead th {\n",
       "        text-align: right;\n",
       "    }\n",
       "</style>\n",
       "<table border=\"1\" class=\"dataframe\">\n",
       "  <thead>\n",
       "    <tr style=\"text-align: right;\">\n",
       "      <th></th>\n",
       "      <th>Id</th>\n",
       "      <th>ActivityHour</th>\n",
       "      <th>StepTotal</th>\n",
       "      <th>Calories</th>\n",
       "    </tr>\n",
       "  </thead>\n",
       "  <tbody>\n",
       "    <tr>\n",
       "      <th>0</th>\n",
       "      <td>1503960366</td>\n",
       "      <td>2016-04-12 00:00:00</td>\n",
       "      <td>373</td>\n",
       "      <td>81</td>\n",
       "    </tr>\n",
       "    <tr>\n",
       "      <th>1</th>\n",
       "      <td>1503960366</td>\n",
       "      <td>2016-04-12 01:00:00</td>\n",
       "      <td>160</td>\n",
       "      <td>61</td>\n",
       "    </tr>\n",
       "    <tr>\n",
       "      <th>2</th>\n",
       "      <td>1503960366</td>\n",
       "      <td>2016-04-12 02:00:00</td>\n",
       "      <td>151</td>\n",
       "      <td>59</td>\n",
       "    </tr>\n",
       "    <tr>\n",
       "      <th>3</th>\n",
       "      <td>1503960366</td>\n",
       "      <td>2016-04-12 03:00:00</td>\n",
       "      <td>0</td>\n",
       "      <td>47</td>\n",
       "    </tr>\n",
       "    <tr>\n",
       "      <th>4</th>\n",
       "      <td>1503960366</td>\n",
       "      <td>2016-04-12 04:00:00</td>\n",
       "      <td>0</td>\n",
       "      <td>48</td>\n",
       "    </tr>\n",
       "  </tbody>\n",
       "</table>\n",
       "</div>"
      ],
      "text/plain": [
       "           Id        ActivityHour  StepTotal  Calories\n",
       "0  1503960366 2016-04-12 00:00:00        373        81\n",
       "1  1503960366 2016-04-12 01:00:00        160        61\n",
       "2  1503960366 2016-04-12 02:00:00        151        59\n",
       "3  1503960366 2016-04-12 03:00:00          0        47\n",
       "4  1503960366 2016-04-12 04:00:00          0        48"
      ]
     },
     "execution_count": 24,
     "metadata": {},
     "output_type": "execute_result"
    }
   ],
   "source": [
    "hourly_merged = pd.merge(hourly_steps, hourly_calories, on = ['Id', 'ActivityHour'], how = 'inner')\n",
    "hourly_merged.info()\n",
    "hourly_merged.head(5)"
   ]
  },
  {
   "cell_type": "markdown",
   "id": "852dddcd",
   "metadata": {
    "papermill": {
     "duration": 0.026338,
     "end_time": "2023-08-19T23:21:42.491411",
     "exception": false,
     "start_time": "2023-08-19T23:21:42.465073",
     "status": "completed"
    },
    "tags": []
   },
   "source": [
    "Now we have to work with three Dataframes which are hourly_merged, daily_activity, and sleepday"
   ]
  },
  {
   "cell_type": "markdown",
   "id": "677e8cca",
   "metadata": {
    "papermill": {
     "duration": 0.02711,
     "end_time": "2023-08-19T23:21:42.545361",
     "exception": false,
     "start_time": "2023-08-19T23:21:42.518251",
     "status": "completed"
    },
    "tags": []
   },
   "source": [
    "# **Creating new columns**\n",
    "In this step, we will utilize the **.dt.day_name()** function from pandas to extract the day of the week from the \"**ActivityDate**\" column in the \"**daily_activity**\" DataFrame, and from the \"**ActivityHour**\" column in \"**hourly_merged**\" DataFrame, and \"**SleepDay**\" from **sleepday** DataFrame. We'll then create a new column named \"**Day_of_the_week**\" in each respective DataFrame to examine whether the days of the week have any impact on our analysis."
   ]
  },
  {
   "cell_type": "code",
   "execution_count": 25,
   "id": "b7f0e960",
   "metadata": {
    "execution": {
     "iopub.execute_input": "2023-08-19T23:21:42.601948Z",
     "iopub.status.busy": "2023-08-19T23:21:42.601638Z",
     "iopub.status.idle": "2023-08-19T23:21:42.618223Z",
     "shell.execute_reply": "2023-08-19T23:21:42.617303Z"
    },
    "papermill": {
     "duration": 0.046846,
     "end_time": "2023-08-19T23:21:42.620139",
     "exception": false,
     "start_time": "2023-08-19T23:21:42.573293",
     "status": "completed"
    },
    "tags": []
   },
   "outputs": [],
   "source": [
    "daily_activity[\"Day_of_the_week\"] = daily_activity[\"ActivityDate\"].dt.day_name()\n",
    "hourly_merged[\"Day_of_the_week\"]  = hourly_merged[\"ActivityHour\"].dt.day_name()\n",
    "sleepday[\"Day_of_the_week\"]       = sleepday[\"SleepDay\"].dt.day_name()"
   ]
  },
  {
   "cell_type": "code",
   "execution_count": 26,
   "id": "1a4a8eb2",
   "metadata": {
    "execution": {
     "iopub.execute_input": "2023-08-19T23:21:42.676606Z",
     "iopub.status.busy": "2023-08-19T23:21:42.675969Z",
     "iopub.status.idle": "2023-08-19T23:21:42.693907Z",
     "shell.execute_reply": "2023-08-19T23:21:42.693234Z"
    },
    "papermill": {
     "duration": 0.048542,
     "end_time": "2023-08-19T23:21:42.695696",
     "exception": false,
     "start_time": "2023-08-19T23:21:42.647154",
     "status": "completed"
    },
    "tags": []
   },
   "outputs": [
    {
     "data": {
      "text/html": [
       "<div>\n",
       "<style scoped>\n",
       "    .dataframe tbody tr th:only-of-type {\n",
       "        vertical-align: middle;\n",
       "    }\n",
       "\n",
       "    .dataframe tbody tr th {\n",
       "        vertical-align: top;\n",
       "    }\n",
       "\n",
       "    .dataframe thead th {\n",
       "        text-align: right;\n",
       "    }\n",
       "</style>\n",
       "<table border=\"1\" class=\"dataframe\">\n",
       "  <thead>\n",
       "    <tr style=\"text-align: right;\">\n",
       "      <th></th>\n",
       "      <th>Id</th>\n",
       "      <th>ActivityDate</th>\n",
       "      <th>TotalSteps</th>\n",
       "      <th>TotalDistance</th>\n",
       "      <th>TrackerDistance</th>\n",
       "      <th>LoggedActivitiesDistance</th>\n",
       "      <th>VeryActiveDistance</th>\n",
       "      <th>ModeratelyActiveDistance</th>\n",
       "      <th>LightActiveDistance</th>\n",
       "      <th>SedentaryActiveDistance</th>\n",
       "      <th>VeryActiveMinutes</th>\n",
       "      <th>FairlyActiveMinutes</th>\n",
       "      <th>LightlyActiveMinutes</th>\n",
       "      <th>SedentaryMinutes</th>\n",
       "      <th>Calories</th>\n",
       "      <th>Day_of_the_week</th>\n",
       "    </tr>\n",
       "  </thead>\n",
       "  <tbody>\n",
       "    <tr>\n",
       "      <th>0</th>\n",
       "      <td>1503960366</td>\n",
       "      <td>2016-04-12</td>\n",
       "      <td>13162</td>\n",
       "      <td>8.50</td>\n",
       "      <td>8.50</td>\n",
       "      <td>0.0</td>\n",
       "      <td>1.88</td>\n",
       "      <td>0.55</td>\n",
       "      <td>6.06</td>\n",
       "      <td>0.0</td>\n",
       "      <td>25</td>\n",
       "      <td>13</td>\n",
       "      <td>328</td>\n",
       "      <td>728</td>\n",
       "      <td>1985</td>\n",
       "      <td>Tuesday</td>\n",
       "    </tr>\n",
       "    <tr>\n",
       "      <th>1</th>\n",
       "      <td>1503960366</td>\n",
       "      <td>2016-04-13</td>\n",
       "      <td>10735</td>\n",
       "      <td>6.97</td>\n",
       "      <td>6.97</td>\n",
       "      <td>0.0</td>\n",
       "      <td>1.57</td>\n",
       "      <td>0.69</td>\n",
       "      <td>4.71</td>\n",
       "      <td>0.0</td>\n",
       "      <td>21</td>\n",
       "      <td>19</td>\n",
       "      <td>217</td>\n",
       "      <td>776</td>\n",
       "      <td>1797</td>\n",
       "      <td>Wednesday</td>\n",
       "    </tr>\n",
       "    <tr>\n",
       "      <th>2</th>\n",
       "      <td>1503960366</td>\n",
       "      <td>2016-04-14</td>\n",
       "      <td>10460</td>\n",
       "      <td>6.74</td>\n",
       "      <td>6.74</td>\n",
       "      <td>0.0</td>\n",
       "      <td>2.44</td>\n",
       "      <td>0.40</td>\n",
       "      <td>3.91</td>\n",
       "      <td>0.0</td>\n",
       "      <td>30</td>\n",
       "      <td>11</td>\n",
       "      <td>181</td>\n",
       "      <td>1218</td>\n",
       "      <td>1776</td>\n",
       "      <td>Thursday</td>\n",
       "    </tr>\n",
       "    <tr>\n",
       "      <th>3</th>\n",
       "      <td>1503960366</td>\n",
       "      <td>2016-04-15</td>\n",
       "      <td>9762</td>\n",
       "      <td>6.28</td>\n",
       "      <td>6.28</td>\n",
       "      <td>0.0</td>\n",
       "      <td>2.14</td>\n",
       "      <td>1.26</td>\n",
       "      <td>2.83</td>\n",
       "      <td>0.0</td>\n",
       "      <td>29</td>\n",
       "      <td>34</td>\n",
       "      <td>209</td>\n",
       "      <td>726</td>\n",
       "      <td>1745</td>\n",
       "      <td>Friday</td>\n",
       "    </tr>\n",
       "    <tr>\n",
       "      <th>4</th>\n",
       "      <td>1503960366</td>\n",
       "      <td>2016-04-16</td>\n",
       "      <td>12669</td>\n",
       "      <td>8.16</td>\n",
       "      <td>8.16</td>\n",
       "      <td>0.0</td>\n",
       "      <td>2.71</td>\n",
       "      <td>0.41</td>\n",
       "      <td>5.04</td>\n",
       "      <td>0.0</td>\n",
       "      <td>36</td>\n",
       "      <td>10</td>\n",
       "      <td>221</td>\n",
       "      <td>773</td>\n",
       "      <td>1863</td>\n",
       "      <td>Saturday</td>\n",
       "    </tr>\n",
       "  </tbody>\n",
       "</table>\n",
       "</div>"
      ],
      "text/plain": [
       "           Id ActivityDate  TotalSteps  TotalDistance  TrackerDistance  \\\n",
       "0  1503960366   2016-04-12       13162           8.50             8.50   \n",
       "1  1503960366   2016-04-13       10735           6.97             6.97   \n",
       "2  1503960366   2016-04-14       10460           6.74             6.74   \n",
       "3  1503960366   2016-04-15        9762           6.28             6.28   \n",
       "4  1503960366   2016-04-16       12669           8.16             8.16   \n",
       "\n",
       "   LoggedActivitiesDistance  VeryActiveDistance  ModeratelyActiveDistance  \\\n",
       "0                       0.0                1.88                      0.55   \n",
       "1                       0.0                1.57                      0.69   \n",
       "2                       0.0                2.44                      0.40   \n",
       "3                       0.0                2.14                      1.26   \n",
       "4                       0.0                2.71                      0.41   \n",
       "\n",
       "   LightActiveDistance  SedentaryActiveDistance  VeryActiveMinutes  \\\n",
       "0                 6.06                      0.0                 25   \n",
       "1                 4.71                      0.0                 21   \n",
       "2                 3.91                      0.0                 30   \n",
       "3                 2.83                      0.0                 29   \n",
       "4                 5.04                      0.0                 36   \n",
       "\n",
       "   FairlyActiveMinutes  LightlyActiveMinutes  SedentaryMinutes  Calories  \\\n",
       "0                   13                   328               728      1985   \n",
       "1                   19                   217               776      1797   \n",
       "2                   11                   181              1218      1776   \n",
       "3                   34                   209               726      1745   \n",
       "4                   10                   221               773      1863   \n",
       "\n",
       "  Day_of_the_week  \n",
       "0         Tuesday  \n",
       "1       Wednesday  \n",
       "2        Thursday  \n",
       "3          Friday  \n",
       "4        Saturday  "
      ]
     },
     "execution_count": 26,
     "metadata": {},
     "output_type": "execute_result"
    }
   ],
   "source": [
    "daily_activity.head(5)"
   ]
  },
  {
   "cell_type": "code",
   "execution_count": 27,
   "id": "a324516b",
   "metadata": {
    "execution": {
     "iopub.execute_input": "2023-08-19T23:21:42.752381Z",
     "iopub.status.busy": "2023-08-19T23:21:42.751842Z",
     "iopub.status.idle": "2023-08-19T23:21:42.761622Z",
     "shell.execute_reply": "2023-08-19T23:21:42.760927Z"
    },
    "papermill": {
     "duration": 0.040493,
     "end_time": "2023-08-19T23:21:42.763422",
     "exception": false,
     "start_time": "2023-08-19T23:21:42.722929",
     "status": "completed"
    },
    "tags": []
   },
   "outputs": [
    {
     "data": {
      "text/html": [
       "<div>\n",
       "<style scoped>\n",
       "    .dataframe tbody tr th:only-of-type {\n",
       "        vertical-align: middle;\n",
       "    }\n",
       "\n",
       "    .dataframe tbody tr th {\n",
       "        vertical-align: top;\n",
       "    }\n",
       "\n",
       "    .dataframe thead th {\n",
       "        text-align: right;\n",
       "    }\n",
       "</style>\n",
       "<table border=\"1\" class=\"dataframe\">\n",
       "  <thead>\n",
       "    <tr style=\"text-align: right;\">\n",
       "      <th></th>\n",
       "      <th>Id</th>\n",
       "      <th>SleepDay</th>\n",
       "      <th>TotalSleepRecords</th>\n",
       "      <th>TotalMinutesAsleep</th>\n",
       "      <th>TotalTimeInBed</th>\n",
       "      <th>Day_of_the_week</th>\n",
       "    </tr>\n",
       "  </thead>\n",
       "  <tbody>\n",
       "    <tr>\n",
       "      <th>0</th>\n",
       "      <td>1503960366</td>\n",
       "      <td>2016-04-12</td>\n",
       "      <td>1</td>\n",
       "      <td>327</td>\n",
       "      <td>346</td>\n",
       "      <td>Tuesday</td>\n",
       "    </tr>\n",
       "    <tr>\n",
       "      <th>1</th>\n",
       "      <td>1503960366</td>\n",
       "      <td>2016-04-13</td>\n",
       "      <td>2</td>\n",
       "      <td>384</td>\n",
       "      <td>407</td>\n",
       "      <td>Wednesday</td>\n",
       "    </tr>\n",
       "    <tr>\n",
       "      <th>2</th>\n",
       "      <td>1503960366</td>\n",
       "      <td>2016-04-15</td>\n",
       "      <td>1</td>\n",
       "      <td>412</td>\n",
       "      <td>442</td>\n",
       "      <td>Friday</td>\n",
       "    </tr>\n",
       "    <tr>\n",
       "      <th>3</th>\n",
       "      <td>1503960366</td>\n",
       "      <td>2016-04-16</td>\n",
       "      <td>2</td>\n",
       "      <td>340</td>\n",
       "      <td>367</td>\n",
       "      <td>Saturday</td>\n",
       "    </tr>\n",
       "    <tr>\n",
       "      <th>4</th>\n",
       "      <td>1503960366</td>\n",
       "      <td>2016-04-17</td>\n",
       "      <td>1</td>\n",
       "      <td>700</td>\n",
       "      <td>712</td>\n",
       "      <td>Sunday</td>\n",
       "    </tr>\n",
       "  </tbody>\n",
       "</table>\n",
       "</div>"
      ],
      "text/plain": [
       "           Id   SleepDay  TotalSleepRecords  TotalMinutesAsleep  \\\n",
       "0  1503960366 2016-04-12                  1                 327   \n",
       "1  1503960366 2016-04-13                  2                 384   \n",
       "2  1503960366 2016-04-15                  1                 412   \n",
       "3  1503960366 2016-04-16                  2                 340   \n",
       "4  1503960366 2016-04-17                  1                 700   \n",
       "\n",
       "   TotalTimeInBed Day_of_the_week  \n",
       "0             346         Tuesday  \n",
       "1             407       Wednesday  \n",
       "2             442          Friday  \n",
       "3             367        Saturday  \n",
       "4             712          Sunday  "
      ]
     },
     "execution_count": 27,
     "metadata": {},
     "output_type": "execute_result"
    }
   ],
   "source": [
    "sleepday.head(5)"
   ]
  },
  {
   "cell_type": "code",
   "execution_count": 28,
   "id": "45bba45a",
   "metadata": {
    "execution": {
     "iopub.execute_input": "2023-08-19T23:21:42.821813Z",
     "iopub.status.busy": "2023-08-19T23:21:42.821306Z",
     "iopub.status.idle": "2023-08-19T23:21:42.831299Z",
     "shell.execute_reply": "2023-08-19T23:21:42.830342Z"
    },
    "papermill": {
     "duration": 0.041438,
     "end_time": "2023-08-19T23:21:42.833204",
     "exception": false,
     "start_time": "2023-08-19T23:21:42.791766",
     "status": "completed"
    },
    "tags": []
   },
   "outputs": [
    {
     "data": {
      "text/html": [
       "<div>\n",
       "<style scoped>\n",
       "    .dataframe tbody tr th:only-of-type {\n",
       "        vertical-align: middle;\n",
       "    }\n",
       "\n",
       "    .dataframe tbody tr th {\n",
       "        vertical-align: top;\n",
       "    }\n",
       "\n",
       "    .dataframe thead th {\n",
       "        text-align: right;\n",
       "    }\n",
       "</style>\n",
       "<table border=\"1\" class=\"dataframe\">\n",
       "  <thead>\n",
       "    <tr style=\"text-align: right;\">\n",
       "      <th></th>\n",
       "      <th>Id</th>\n",
       "      <th>ActivityHour</th>\n",
       "      <th>StepTotal</th>\n",
       "      <th>Calories</th>\n",
       "      <th>Day_of_the_week</th>\n",
       "    </tr>\n",
       "  </thead>\n",
       "  <tbody>\n",
       "    <tr>\n",
       "      <th>0</th>\n",
       "      <td>1503960366</td>\n",
       "      <td>2016-04-12 00:00:00</td>\n",
       "      <td>373</td>\n",
       "      <td>81</td>\n",
       "      <td>Tuesday</td>\n",
       "    </tr>\n",
       "    <tr>\n",
       "      <th>1</th>\n",
       "      <td>1503960366</td>\n",
       "      <td>2016-04-12 01:00:00</td>\n",
       "      <td>160</td>\n",
       "      <td>61</td>\n",
       "      <td>Tuesday</td>\n",
       "    </tr>\n",
       "    <tr>\n",
       "      <th>2</th>\n",
       "      <td>1503960366</td>\n",
       "      <td>2016-04-12 02:00:00</td>\n",
       "      <td>151</td>\n",
       "      <td>59</td>\n",
       "      <td>Tuesday</td>\n",
       "    </tr>\n",
       "    <tr>\n",
       "      <th>3</th>\n",
       "      <td>1503960366</td>\n",
       "      <td>2016-04-12 03:00:00</td>\n",
       "      <td>0</td>\n",
       "      <td>47</td>\n",
       "      <td>Tuesday</td>\n",
       "    </tr>\n",
       "    <tr>\n",
       "      <th>4</th>\n",
       "      <td>1503960366</td>\n",
       "      <td>2016-04-12 04:00:00</td>\n",
       "      <td>0</td>\n",
       "      <td>48</td>\n",
       "      <td>Tuesday</td>\n",
       "    </tr>\n",
       "  </tbody>\n",
       "</table>\n",
       "</div>"
      ],
      "text/plain": [
       "           Id        ActivityHour  StepTotal  Calories Day_of_the_week\n",
       "0  1503960366 2016-04-12 00:00:00        373        81         Tuesday\n",
       "1  1503960366 2016-04-12 01:00:00        160        61         Tuesday\n",
       "2  1503960366 2016-04-12 02:00:00        151        59         Tuesday\n",
       "3  1503960366 2016-04-12 03:00:00          0        47         Tuesday\n",
       "4  1503960366 2016-04-12 04:00:00          0        48         Tuesday"
      ]
     },
     "execution_count": 28,
     "metadata": {},
     "output_type": "execute_result"
    }
   ],
   "source": [
    "hourly_merged.head(5)"
   ]
  },
  {
   "cell_type": "markdown",
   "id": "5234fe2b",
   "metadata": {
    "papermill": {
     "duration": 0.027505,
     "end_time": "2023-08-19T23:21:42.888831",
     "exception": false,
     "start_time": "2023-08-19T23:21:42.861326",
     "status": "completed"
    },
    "tags": []
   },
   "source": [
    "After extracting the day_of_tyhe_week. we are going to extract the \"hour\" and \"date\" using dt.hour and dt.date respectively from hourly_merged DataFrame."
   ]
  },
  {
   "cell_type": "code",
   "execution_count": 29,
   "id": "54949b66",
   "metadata": {
    "execution": {
     "iopub.execute_input": "2023-08-19T23:21:42.945594Z",
     "iopub.status.busy": "2023-08-19T23:21:42.944981Z",
     "iopub.status.idle": "2023-08-19T23:21:42.963885Z",
     "shell.execute_reply": "2023-08-19T23:21:42.963203Z"
    },
    "papermill": {
     "duration": 0.049518,
     "end_time": "2023-08-19T23:21:42.965752",
     "exception": false,
     "start_time": "2023-08-19T23:21:42.916234",
     "status": "completed"
    },
    "tags": []
   },
   "outputs": [],
   "source": [
    "hourly_merged[\"hour\"] = hourly_merged[\"ActivityHour\"].dt.hour\n",
    "hourly_merged[\"date\"] = hourly_merged[\"ActivityHour\"].dt.date"
   ]
  },
  {
   "cell_type": "code",
   "execution_count": 30,
   "id": "a4c43de8",
   "metadata": {
    "execution": {
     "iopub.execute_input": "2023-08-19T23:21:43.022192Z",
     "iopub.status.busy": "2023-08-19T23:21:43.021881Z",
     "iopub.status.idle": "2023-08-19T23:21:43.033986Z",
     "shell.execute_reply": "2023-08-19T23:21:43.033087Z"
    },
    "papermill": {
     "duration": 0.042453,
     "end_time": "2023-08-19T23:21:43.035911",
     "exception": false,
     "start_time": "2023-08-19T23:21:42.993458",
     "status": "completed"
    },
    "tags": []
   },
   "outputs": [
    {
     "data": {
      "text/html": [
       "<div>\n",
       "<style scoped>\n",
       "    .dataframe tbody tr th:only-of-type {\n",
       "        vertical-align: middle;\n",
       "    }\n",
       "\n",
       "    .dataframe tbody tr th {\n",
       "        vertical-align: top;\n",
       "    }\n",
       "\n",
       "    .dataframe thead th {\n",
       "        text-align: right;\n",
       "    }\n",
       "</style>\n",
       "<table border=\"1\" class=\"dataframe\">\n",
       "  <thead>\n",
       "    <tr style=\"text-align: right;\">\n",
       "      <th></th>\n",
       "      <th>Id</th>\n",
       "      <th>ActivityHour</th>\n",
       "      <th>StepTotal</th>\n",
       "      <th>Calories</th>\n",
       "      <th>Day_of_the_week</th>\n",
       "      <th>hour</th>\n",
       "      <th>date</th>\n",
       "    </tr>\n",
       "  </thead>\n",
       "  <tbody>\n",
       "    <tr>\n",
       "      <th>0</th>\n",
       "      <td>1503960366</td>\n",
       "      <td>2016-04-12 00:00:00</td>\n",
       "      <td>373</td>\n",
       "      <td>81</td>\n",
       "      <td>Tuesday</td>\n",
       "      <td>0</td>\n",
       "      <td>2016-04-12</td>\n",
       "    </tr>\n",
       "    <tr>\n",
       "      <th>1</th>\n",
       "      <td>1503960366</td>\n",
       "      <td>2016-04-12 01:00:00</td>\n",
       "      <td>160</td>\n",
       "      <td>61</td>\n",
       "      <td>Tuesday</td>\n",
       "      <td>1</td>\n",
       "      <td>2016-04-12</td>\n",
       "    </tr>\n",
       "    <tr>\n",
       "      <th>2</th>\n",
       "      <td>1503960366</td>\n",
       "      <td>2016-04-12 02:00:00</td>\n",
       "      <td>151</td>\n",
       "      <td>59</td>\n",
       "      <td>Tuesday</td>\n",
       "      <td>2</td>\n",
       "      <td>2016-04-12</td>\n",
       "    </tr>\n",
       "    <tr>\n",
       "      <th>3</th>\n",
       "      <td>1503960366</td>\n",
       "      <td>2016-04-12 03:00:00</td>\n",
       "      <td>0</td>\n",
       "      <td>47</td>\n",
       "      <td>Tuesday</td>\n",
       "      <td>3</td>\n",
       "      <td>2016-04-12</td>\n",
       "    </tr>\n",
       "    <tr>\n",
       "      <th>4</th>\n",
       "      <td>1503960366</td>\n",
       "      <td>2016-04-12 04:00:00</td>\n",
       "      <td>0</td>\n",
       "      <td>48</td>\n",
       "      <td>Tuesday</td>\n",
       "      <td>4</td>\n",
       "      <td>2016-04-12</td>\n",
       "    </tr>\n",
       "  </tbody>\n",
       "</table>\n",
       "</div>"
      ],
      "text/plain": [
       "           Id        ActivityHour  StepTotal  Calories Day_of_the_week  hour  \\\n",
       "0  1503960366 2016-04-12 00:00:00        373        81         Tuesday     0   \n",
       "1  1503960366 2016-04-12 01:00:00        160        61         Tuesday     1   \n",
       "2  1503960366 2016-04-12 02:00:00        151        59         Tuesday     2   \n",
       "3  1503960366 2016-04-12 03:00:00          0        47         Tuesday     3   \n",
       "4  1503960366 2016-04-12 04:00:00          0        48         Tuesday     4   \n",
       "\n",
       "         date  \n",
       "0  2016-04-12  \n",
       "1  2016-04-12  \n",
       "2  2016-04-12  \n",
       "3  2016-04-12  \n",
       "4  2016-04-12  "
      ]
     },
     "execution_count": 30,
     "metadata": {},
     "output_type": "execute_result"
    }
   ],
   "source": [
    "hourly_merged.head(5)"
   ]
  },
  {
   "cell_type": "markdown",
   "id": "4631de5b",
   "metadata": {
    "papermill": {
     "duration": 0.028143,
     "end_time": "2023-08-19T23:21:43.092090",
     "exception": false,
     "start_time": "2023-08-19T23:21:43.063947",
     "status": "completed"
    },
    "tags": []
   },
   "source": [
    "Now that we have extracted the Day_of_the_week, date and hour. we are going to drop the ActivityHour for our hourly_merged DF"
   ]
  },
  {
   "cell_type": "code",
   "execution_count": 31,
   "id": "d47802f9",
   "metadata": {
    "execution": {
     "iopub.execute_input": "2023-08-19T23:21:43.150196Z",
     "iopub.status.busy": "2023-08-19T23:21:43.149812Z",
     "iopub.status.idle": "2023-08-19T23:21:43.156996Z",
     "shell.execute_reply": "2023-08-19T23:21:43.155961Z"
    },
    "papermill": {
     "duration": 0.039066,
     "end_time": "2023-08-19T23:21:43.159503",
     "exception": false,
     "start_time": "2023-08-19T23:21:43.120437",
     "status": "completed"
    },
    "tags": []
   },
   "outputs": [],
   "source": [
    "hourly_merged = hourly_merged.drop(\"ActivityHour\", axis = 1)"
   ]
  },
  {
   "cell_type": "code",
   "execution_count": 32,
   "id": "95cf9390",
   "metadata": {
    "execution": {
     "iopub.execute_input": "2023-08-19T23:21:43.218212Z",
     "iopub.status.busy": "2023-08-19T23:21:43.217692Z",
     "iopub.status.idle": "2023-08-19T23:21:43.228653Z",
     "shell.execute_reply": "2023-08-19T23:21:43.227702Z"
    },
    "papermill": {
     "duration": 0.043033,
     "end_time": "2023-08-19T23:21:43.230873",
     "exception": false,
     "start_time": "2023-08-19T23:21:43.187840",
     "status": "completed"
    },
    "tags": []
   },
   "outputs": [
    {
     "data": {
      "text/html": [
       "<div>\n",
       "<style scoped>\n",
       "    .dataframe tbody tr th:only-of-type {\n",
       "        vertical-align: middle;\n",
       "    }\n",
       "\n",
       "    .dataframe tbody tr th {\n",
       "        vertical-align: top;\n",
       "    }\n",
       "\n",
       "    .dataframe thead th {\n",
       "        text-align: right;\n",
       "    }\n",
       "</style>\n",
       "<table border=\"1\" class=\"dataframe\">\n",
       "  <thead>\n",
       "    <tr style=\"text-align: right;\">\n",
       "      <th></th>\n",
       "      <th>Id</th>\n",
       "      <th>StepTotal</th>\n",
       "      <th>Calories</th>\n",
       "      <th>Day_of_the_week</th>\n",
       "      <th>hour</th>\n",
       "      <th>date</th>\n",
       "    </tr>\n",
       "  </thead>\n",
       "  <tbody>\n",
       "    <tr>\n",
       "      <th>0</th>\n",
       "      <td>1503960366</td>\n",
       "      <td>373</td>\n",
       "      <td>81</td>\n",
       "      <td>Tuesday</td>\n",
       "      <td>0</td>\n",
       "      <td>2016-04-12</td>\n",
       "    </tr>\n",
       "    <tr>\n",
       "      <th>1</th>\n",
       "      <td>1503960366</td>\n",
       "      <td>160</td>\n",
       "      <td>61</td>\n",
       "      <td>Tuesday</td>\n",
       "      <td>1</td>\n",
       "      <td>2016-04-12</td>\n",
       "    </tr>\n",
       "    <tr>\n",
       "      <th>2</th>\n",
       "      <td>1503960366</td>\n",
       "      <td>151</td>\n",
       "      <td>59</td>\n",
       "      <td>Tuesday</td>\n",
       "      <td>2</td>\n",
       "      <td>2016-04-12</td>\n",
       "    </tr>\n",
       "    <tr>\n",
       "      <th>3</th>\n",
       "      <td>1503960366</td>\n",
       "      <td>0</td>\n",
       "      <td>47</td>\n",
       "      <td>Tuesday</td>\n",
       "      <td>3</td>\n",
       "      <td>2016-04-12</td>\n",
       "    </tr>\n",
       "    <tr>\n",
       "      <th>4</th>\n",
       "      <td>1503960366</td>\n",
       "      <td>0</td>\n",
       "      <td>48</td>\n",
       "      <td>Tuesday</td>\n",
       "      <td>4</td>\n",
       "      <td>2016-04-12</td>\n",
       "    </tr>\n",
       "  </tbody>\n",
       "</table>\n",
       "</div>"
      ],
      "text/plain": [
       "           Id  StepTotal  Calories Day_of_the_week  hour        date\n",
       "0  1503960366        373        81         Tuesday     0  2016-04-12\n",
       "1  1503960366        160        61         Tuesday     1  2016-04-12\n",
       "2  1503960366        151        59         Tuesday     2  2016-04-12\n",
       "3  1503960366          0        47         Tuesday     3  2016-04-12\n",
       "4  1503960366          0        48         Tuesday     4  2016-04-12"
      ]
     },
     "execution_count": 32,
     "metadata": {},
     "output_type": "execute_result"
    }
   ],
   "source": [
    "hourly_merged.head(5)"
   ]
  },
  {
   "cell_type": "code",
   "execution_count": 33,
   "id": "4f2d4e07",
   "metadata": {
    "execution": {
     "iopub.execute_input": "2023-08-19T23:21:43.290780Z",
     "iopub.status.busy": "2023-08-19T23:21:43.290456Z",
     "iopub.status.idle": "2023-08-19T23:21:43.316207Z",
     "shell.execute_reply": "2023-08-19T23:21:43.315106Z"
    },
    "papermill": {
     "duration": 0.057964,
     "end_time": "2023-08-19T23:21:43.318212",
     "exception": false,
     "start_time": "2023-08-19T23:21:43.260248",
     "status": "completed"
    },
    "tags": []
   },
   "outputs": [
    {
     "name": "stdout",
     "output_type": "stream",
     "text": [
      "<class 'pandas.core.frame.DataFrame'>\n",
      "Int64Index: 22099 entries, 0 to 22098\n",
      "Data columns (total 6 columns):\n",
      " #   Column           Non-Null Count  Dtype \n",
      "---  ------           --------------  ----- \n",
      " 0   Id               22099 non-null  int64 \n",
      " 1   StepTotal        22099 non-null  int64 \n",
      " 2   Calories         22099 non-null  int64 \n",
      " 3   Day_of_the_week  22099 non-null  object\n",
      " 4   hour             22099 non-null  int64 \n",
      " 5   date             22099 non-null  object\n",
      "dtypes: int64(4), object(2)\n",
      "memory usage: 1.2+ MB\n"
     ]
    }
   ],
   "source": [
    "hourly_merged.info()"
   ]
  },
  {
   "cell_type": "markdown",
   "id": "0b250552",
   "metadata": {
    "papermill": {
     "duration": 0.028703,
     "end_time": "2023-08-19T23:21:43.376053",
     "exception": false,
     "start_time": "2023-08-19T23:21:43.347350",
     "status": "completed"
    },
    "tags": []
   },
   "source": [
    "As we can see that we need to change the datatype of date colum"
   ]
  },
  {
   "cell_type": "code",
   "execution_count": 34,
   "id": "4f48b1d4",
   "metadata": {
    "execution": {
     "iopub.execute_input": "2023-08-19T23:21:43.435801Z",
     "iopub.status.busy": "2023-08-19T23:21:43.435125Z",
     "iopub.status.idle": "2023-08-19T23:21:43.447791Z",
     "shell.execute_reply": "2023-08-19T23:21:43.447092Z"
    },
    "papermill": {
     "duration": 0.045037,
     "end_time": "2023-08-19T23:21:43.449784",
     "exception": false,
     "start_time": "2023-08-19T23:21:43.404747",
     "status": "completed"
    },
    "tags": []
   },
   "outputs": [],
   "source": [
    "hourly_merged[\"date\"] = pd.to_datetime(hourly_merged[\"date\"])"
   ]
  },
  {
   "cell_type": "code",
   "execution_count": 35,
   "id": "069de3bd",
   "metadata": {
    "execution": {
     "iopub.execute_input": "2023-08-19T23:21:43.509391Z",
     "iopub.status.busy": "2023-08-19T23:21:43.508833Z",
     "iopub.status.idle": "2023-08-19T23:21:43.514709Z",
     "shell.execute_reply": "2023-08-19T23:21:43.513582Z"
    },
    "papermill": {
     "duration": 0.037582,
     "end_time": "2023-08-19T23:21:43.516796",
     "exception": false,
     "start_time": "2023-08-19T23:21:43.479214",
     "status": "completed"
    },
    "tags": []
   },
   "outputs": [
    {
     "name": "stdout",
     "output_type": "stream",
     "text": [
      "Data type of hourly_merged[date] is datetime64[ns]\n"
     ]
    }
   ],
   "source": [
    "print(\"Data type of hourly_merged[date] is\", hourly_merged[\"date\"].dtypes)"
   ]
  },
  {
   "cell_type": "markdown",
   "id": "cfd43dce",
   "metadata": {
    "papermill": {
     "duration": 0.029939,
     "end_time": "2023-08-19T23:21:43.576483",
     "exception": false,
     "start_time": "2023-08-19T23:21:43.546544",
     "status": "completed"
    },
    "tags": []
   },
   "source": [
    "# **Merging hourly_merged with sleepday**\n",
    "Before we merge these two to perform our analysis, we need to change the column name sleepday[\"SleepDay\"] to sleepday[\"date\"] so, we can perform merge on date column. As hourly_merged and sleepday DataFrames will  have date column in common. "
   ]
  },
  {
   "cell_type": "code",
   "execution_count": 36,
   "id": "cd091f08",
   "metadata": {
    "execution": {
     "iopub.execute_input": "2023-08-19T23:21:43.636777Z",
     "iopub.status.busy": "2023-08-19T23:21:43.635698Z",
     "iopub.status.idle": "2023-08-19T23:21:43.648397Z",
     "shell.execute_reply": "2023-08-19T23:21:43.647504Z"
    },
    "papermill": {
     "duration": 0.044089,
     "end_time": "2023-08-19T23:21:43.650273",
     "exception": false,
     "start_time": "2023-08-19T23:21:43.606184",
     "status": "completed"
    },
    "tags": []
   },
   "outputs": [
    {
     "data": {
      "text/html": [
       "<div>\n",
       "<style scoped>\n",
       "    .dataframe tbody tr th:only-of-type {\n",
       "        vertical-align: middle;\n",
       "    }\n",
       "\n",
       "    .dataframe tbody tr th {\n",
       "        vertical-align: top;\n",
       "    }\n",
       "\n",
       "    .dataframe thead th {\n",
       "        text-align: right;\n",
       "    }\n",
       "</style>\n",
       "<table border=\"1\" class=\"dataframe\">\n",
       "  <thead>\n",
       "    <tr style=\"text-align: right;\">\n",
       "      <th></th>\n",
       "      <th>Id</th>\n",
       "      <th>date</th>\n",
       "      <th>TotalSleepRecords</th>\n",
       "      <th>TotalMinutesAsleep</th>\n",
       "      <th>TotalTimeInBed</th>\n",
       "      <th>Day_of_the_week</th>\n",
       "    </tr>\n",
       "  </thead>\n",
       "  <tbody>\n",
       "    <tr>\n",
       "      <th>0</th>\n",
       "      <td>1503960366</td>\n",
       "      <td>2016-04-12</td>\n",
       "      <td>1</td>\n",
       "      <td>327</td>\n",
       "      <td>346</td>\n",
       "      <td>Tuesday</td>\n",
       "    </tr>\n",
       "    <tr>\n",
       "      <th>1</th>\n",
       "      <td>1503960366</td>\n",
       "      <td>2016-04-13</td>\n",
       "      <td>2</td>\n",
       "      <td>384</td>\n",
       "      <td>407</td>\n",
       "      <td>Wednesday</td>\n",
       "    </tr>\n",
       "    <tr>\n",
       "      <th>2</th>\n",
       "      <td>1503960366</td>\n",
       "      <td>2016-04-15</td>\n",
       "      <td>1</td>\n",
       "      <td>412</td>\n",
       "      <td>442</td>\n",
       "      <td>Friday</td>\n",
       "    </tr>\n",
       "    <tr>\n",
       "      <th>3</th>\n",
       "      <td>1503960366</td>\n",
       "      <td>2016-04-16</td>\n",
       "      <td>2</td>\n",
       "      <td>340</td>\n",
       "      <td>367</td>\n",
       "      <td>Saturday</td>\n",
       "    </tr>\n",
       "    <tr>\n",
       "      <th>4</th>\n",
       "      <td>1503960366</td>\n",
       "      <td>2016-04-17</td>\n",
       "      <td>1</td>\n",
       "      <td>700</td>\n",
       "      <td>712</td>\n",
       "      <td>Sunday</td>\n",
       "    </tr>\n",
       "  </tbody>\n",
       "</table>\n",
       "</div>"
      ],
      "text/plain": [
       "           Id       date  TotalSleepRecords  TotalMinutesAsleep  \\\n",
       "0  1503960366 2016-04-12                  1                 327   \n",
       "1  1503960366 2016-04-13                  2                 384   \n",
       "2  1503960366 2016-04-15                  1                 412   \n",
       "3  1503960366 2016-04-16                  2                 340   \n",
       "4  1503960366 2016-04-17                  1                 700   \n",
       "\n",
       "   TotalTimeInBed Day_of_the_week  \n",
       "0             346         Tuesday  \n",
       "1             407       Wednesday  \n",
       "2             442          Friday  \n",
       "3             367        Saturday  \n",
       "4             712          Sunday  "
      ]
     },
     "execution_count": 36,
     "metadata": {},
     "output_type": "execute_result"
    }
   ],
   "source": [
    "sleepday = sleepday.rename(columns = {\"SleepDay\" : \"date\"})\n",
    "sleepday.head(5)"
   ]
  },
  {
   "cell_type": "code",
   "execution_count": 37,
   "id": "34c512a1",
   "metadata": {
    "execution": {
     "iopub.execute_input": "2023-08-19T23:21:43.709901Z",
     "iopub.status.busy": "2023-08-19T23:21:43.709388Z",
     "iopub.status.idle": "2023-08-19T23:21:43.715475Z",
     "shell.execute_reply": "2023-08-19T23:21:43.714600Z"
    },
    "papermill": {
     "duration": 0.038259,
     "end_time": "2023-08-19T23:21:43.717398",
     "exception": false,
     "start_time": "2023-08-19T23:21:43.679139",
     "status": "completed"
    },
    "tags": []
   },
   "outputs": [
    {
     "data": {
      "text/plain": [
       "Index(['Id', 'date', 'TotalSleepRecords', 'TotalMinutesAsleep',\n",
       "       'TotalTimeInBed', 'Day_of_the_week'],\n",
       "      dtype='object')"
      ]
     },
     "execution_count": 37,
     "metadata": {},
     "output_type": "execute_result"
    }
   ],
   "source": [
    "sleepday.columns"
   ]
  },
  {
   "cell_type": "code",
   "execution_count": 38,
   "id": "b82b9f13",
   "metadata": {
    "execution": {
     "iopub.execute_input": "2023-08-19T23:21:43.777805Z",
     "iopub.status.busy": "2023-08-19T23:21:43.777267Z",
     "iopub.status.idle": "2023-08-19T23:21:43.783327Z",
     "shell.execute_reply": "2023-08-19T23:21:43.782552Z"
    },
    "papermill": {
     "duration": 0.038436,
     "end_time": "2023-08-19T23:21:43.785319",
     "exception": false,
     "start_time": "2023-08-19T23:21:43.746883",
     "status": "completed"
    },
    "tags": []
   },
   "outputs": [
    {
     "data": {
      "text/plain": [
       "Index(['Id', 'StepTotal', 'Calories', 'Day_of_the_week', 'hour', 'date'], dtype='object')"
      ]
     },
     "execution_count": 38,
     "metadata": {},
     "output_type": "execute_result"
    }
   ],
   "source": [
    "hourly_merged.columns"
   ]
  },
  {
   "cell_type": "markdown",
   "id": "6e0f2f3f",
   "metadata": {
    "papermill": {
     "duration": 0.029263,
     "end_time": "2023-08-19T23:21:43.844224",
     "exception": false,
     "start_time": "2023-08-19T23:21:43.814961",
     "status": "completed"
    },
    "tags": []
   },
   "source": [
    "Now lets perform the merge on similar columns"
   ]
  },
  {
   "cell_type": "code",
   "execution_count": 39,
   "id": "f77f5e51",
   "metadata": {
    "execution": {
     "iopub.execute_input": "2023-08-19T23:21:43.905614Z",
     "iopub.status.busy": "2023-08-19T23:21:43.905268Z",
     "iopub.status.idle": "2023-08-19T23:21:43.920748Z",
     "shell.execute_reply": "2023-08-19T23:21:43.920023Z"
    },
    "papermill": {
     "duration": 0.04852,
     "end_time": "2023-08-19T23:21:43.922712",
     "exception": false,
     "start_time": "2023-08-19T23:21:43.874192",
     "status": "completed"
    },
    "tags": []
   },
   "outputs": [],
   "source": [
    "sleep_hourly_merged = pd.merge(hourly_merged,sleepday, on = ['Id','date','Day_of_the_week'], \n",
    "                               how = \"inner\")"
   ]
  },
  {
   "cell_type": "code",
   "execution_count": 40,
   "id": "536c210d",
   "metadata": {
    "execution": {
     "iopub.execute_input": "2023-08-19T23:21:43.983304Z",
     "iopub.status.busy": "2023-08-19T23:21:43.982714Z",
     "iopub.status.idle": "2023-08-19T23:21:43.994526Z",
     "shell.execute_reply": "2023-08-19T23:21:43.993601Z"
    },
    "papermill": {
     "duration": 0.04443,
     "end_time": "2023-08-19T23:21:43.996382",
     "exception": false,
     "start_time": "2023-08-19T23:21:43.951952",
     "status": "completed"
    },
    "tags": []
   },
   "outputs": [
    {
     "data": {
      "text/html": [
       "<div>\n",
       "<style scoped>\n",
       "    .dataframe tbody tr th:only-of-type {\n",
       "        vertical-align: middle;\n",
       "    }\n",
       "\n",
       "    .dataframe tbody tr th {\n",
       "        vertical-align: top;\n",
       "    }\n",
       "\n",
       "    .dataframe thead th {\n",
       "        text-align: right;\n",
       "    }\n",
       "</style>\n",
       "<table border=\"1\" class=\"dataframe\">\n",
       "  <thead>\n",
       "    <tr style=\"text-align: right;\">\n",
       "      <th></th>\n",
       "      <th>Id</th>\n",
       "      <th>StepTotal</th>\n",
       "      <th>Calories</th>\n",
       "      <th>Day_of_the_week</th>\n",
       "      <th>hour</th>\n",
       "      <th>date</th>\n",
       "      <th>TotalSleepRecords</th>\n",
       "      <th>TotalMinutesAsleep</th>\n",
       "      <th>TotalTimeInBed</th>\n",
       "    </tr>\n",
       "  </thead>\n",
       "  <tbody>\n",
       "    <tr>\n",
       "      <th>0</th>\n",
       "      <td>1503960366</td>\n",
       "      <td>373</td>\n",
       "      <td>81</td>\n",
       "      <td>Tuesday</td>\n",
       "      <td>0</td>\n",
       "      <td>2016-04-12</td>\n",
       "      <td>1</td>\n",
       "      <td>327</td>\n",
       "      <td>346</td>\n",
       "    </tr>\n",
       "    <tr>\n",
       "      <th>1</th>\n",
       "      <td>1503960366</td>\n",
       "      <td>160</td>\n",
       "      <td>61</td>\n",
       "      <td>Tuesday</td>\n",
       "      <td>1</td>\n",
       "      <td>2016-04-12</td>\n",
       "      <td>1</td>\n",
       "      <td>327</td>\n",
       "      <td>346</td>\n",
       "    </tr>\n",
       "    <tr>\n",
       "      <th>2</th>\n",
       "      <td>1503960366</td>\n",
       "      <td>151</td>\n",
       "      <td>59</td>\n",
       "      <td>Tuesday</td>\n",
       "      <td>2</td>\n",
       "      <td>2016-04-12</td>\n",
       "      <td>1</td>\n",
       "      <td>327</td>\n",
       "      <td>346</td>\n",
       "    </tr>\n",
       "    <tr>\n",
       "      <th>3</th>\n",
       "      <td>1503960366</td>\n",
       "      <td>0</td>\n",
       "      <td>47</td>\n",
       "      <td>Tuesday</td>\n",
       "      <td>3</td>\n",
       "      <td>2016-04-12</td>\n",
       "      <td>1</td>\n",
       "      <td>327</td>\n",
       "      <td>346</td>\n",
       "    </tr>\n",
       "    <tr>\n",
       "      <th>4</th>\n",
       "      <td>1503960366</td>\n",
       "      <td>0</td>\n",
       "      <td>48</td>\n",
       "      <td>Tuesday</td>\n",
       "      <td>4</td>\n",
       "      <td>2016-04-12</td>\n",
       "      <td>1</td>\n",
       "      <td>327</td>\n",
       "      <td>346</td>\n",
       "    </tr>\n",
       "  </tbody>\n",
       "</table>\n",
       "</div>"
      ],
      "text/plain": [
       "           Id  StepTotal  Calories Day_of_the_week  hour       date  \\\n",
       "0  1503960366        373        81         Tuesday     0 2016-04-12   \n",
       "1  1503960366        160        61         Tuesday     1 2016-04-12   \n",
       "2  1503960366        151        59         Tuesday     2 2016-04-12   \n",
       "3  1503960366          0        47         Tuesday     3 2016-04-12   \n",
       "4  1503960366          0        48         Tuesday     4 2016-04-12   \n",
       "\n",
       "   TotalSleepRecords  TotalMinutesAsleep  TotalTimeInBed  \n",
       "0                  1                 327             346  \n",
       "1                  1                 327             346  \n",
       "2                  1                 327             346  \n",
       "3                  1                 327             346  \n",
       "4                  1                 327             346  "
      ]
     },
     "execution_count": 40,
     "metadata": {},
     "output_type": "execute_result"
    }
   ],
   "source": [
    "sleep_hourly_merged.head(5)"
   ]
  },
  {
   "cell_type": "code",
   "execution_count": 41,
   "id": "5368fdf3",
   "metadata": {
    "execution": {
     "iopub.execute_input": "2023-08-19T23:21:44.056826Z",
     "iopub.status.busy": "2023-08-19T23:21:44.056282Z",
     "iopub.status.idle": "2023-08-19T23:21:44.071497Z",
     "shell.execute_reply": "2023-08-19T23:21:44.070552Z"
    },
    "papermill": {
     "duration": 0.047921,
     "end_time": "2023-08-19T23:21:44.073774",
     "exception": false,
     "start_time": "2023-08-19T23:21:44.025853",
     "status": "completed"
    },
    "tags": []
   },
   "outputs": [
    {
     "data": {
      "text/html": [
       "<div>\n",
       "<style scoped>\n",
       "    .dataframe tbody tr th:only-of-type {\n",
       "        vertical-align: middle;\n",
       "    }\n",
       "\n",
       "    .dataframe tbody tr th {\n",
       "        vertical-align: top;\n",
       "    }\n",
       "\n",
       "    .dataframe thead th {\n",
       "        text-align: right;\n",
       "    }\n",
       "</style>\n",
       "<table border=\"1\" class=\"dataframe\">\n",
       "  <thead>\n",
       "    <tr style=\"text-align: right;\">\n",
       "      <th></th>\n",
       "      <th>Id</th>\n",
       "      <th>StepTotal</th>\n",
       "      <th>Calories</th>\n",
       "      <th>Day_of_the_week</th>\n",
       "      <th>hour</th>\n",
       "      <th>date</th>\n",
       "      <th>TotalSleepRecords</th>\n",
       "      <th>TotalMinutesAsleep</th>\n",
       "      <th>TotalTimeInBed</th>\n",
       "    </tr>\n",
       "  </thead>\n",
       "  <tbody>\n",
       "    <tr>\n",
       "      <th>0</th>\n",
       "      <td>1503960366</td>\n",
       "      <td>373</td>\n",
       "      <td>81</td>\n",
       "      <td>Tuesday</td>\n",
       "      <td>0</td>\n",
       "      <td>2016-04-12</td>\n",
       "      <td>1</td>\n",
       "      <td>327</td>\n",
       "      <td>346</td>\n",
       "    </tr>\n",
       "    <tr>\n",
       "      <th>1</th>\n",
       "      <td>1503960366</td>\n",
       "      <td>160</td>\n",
       "      <td>61</td>\n",
       "      <td>Tuesday</td>\n",
       "      <td>1</td>\n",
       "      <td>2016-04-12</td>\n",
       "      <td>1</td>\n",
       "      <td>327</td>\n",
       "      <td>346</td>\n",
       "    </tr>\n",
       "    <tr>\n",
       "      <th>2</th>\n",
       "      <td>1503960366</td>\n",
       "      <td>151</td>\n",
       "      <td>59</td>\n",
       "      <td>Tuesday</td>\n",
       "      <td>2</td>\n",
       "      <td>2016-04-12</td>\n",
       "      <td>1</td>\n",
       "      <td>327</td>\n",
       "      <td>346</td>\n",
       "    </tr>\n",
       "    <tr>\n",
       "      <th>3</th>\n",
       "      <td>1503960366</td>\n",
       "      <td>0</td>\n",
       "      <td>47</td>\n",
       "      <td>Tuesday</td>\n",
       "      <td>3</td>\n",
       "      <td>2016-04-12</td>\n",
       "      <td>1</td>\n",
       "      <td>327</td>\n",
       "      <td>346</td>\n",
       "    </tr>\n",
       "    <tr>\n",
       "      <th>4</th>\n",
       "      <td>1503960366</td>\n",
       "      <td>0</td>\n",
       "      <td>48</td>\n",
       "      <td>Tuesday</td>\n",
       "      <td>4</td>\n",
       "      <td>2016-04-12</td>\n",
       "      <td>1</td>\n",
       "      <td>327</td>\n",
       "      <td>346</td>\n",
       "    </tr>\n",
       "    <tr>\n",
       "      <th>...</th>\n",
       "      <td>...</td>\n",
       "      <td>...</td>\n",
       "      <td>...</td>\n",
       "      <td>...</td>\n",
       "      <td>...</td>\n",
       "      <td>...</td>\n",
       "      <td>...</td>\n",
       "      <td>...</td>\n",
       "      <td>...</td>\n",
       "    </tr>\n",
       "    <tr>\n",
       "      <th>9761</th>\n",
       "      <td>8792009665</td>\n",
       "      <td>105</td>\n",
       "      <td>86</td>\n",
       "      <td>Wednesday</td>\n",
       "      <td>14</td>\n",
       "      <td>2016-05-04</td>\n",
       "      <td>1</td>\n",
       "      <td>439</td>\n",
       "      <td>463</td>\n",
       "    </tr>\n",
       "    <tr>\n",
       "      <th>9762</th>\n",
       "      <td>8792009665</td>\n",
       "      <td>559</td>\n",
       "      <td>129</td>\n",
       "      <td>Wednesday</td>\n",
       "      <td>15</td>\n",
       "      <td>2016-05-04</td>\n",
       "      <td>1</td>\n",
       "      <td>439</td>\n",
       "      <td>463</td>\n",
       "    </tr>\n",
       "    <tr>\n",
       "      <th>9763</th>\n",
       "      <td>8792009665</td>\n",
       "      <td>0</td>\n",
       "      <td>70</td>\n",
       "      <td>Wednesday</td>\n",
       "      <td>16</td>\n",
       "      <td>2016-05-04</td>\n",
       "      <td>1</td>\n",
       "      <td>439</td>\n",
       "      <td>463</td>\n",
       "    </tr>\n",
       "    <tr>\n",
       "      <th>9764</th>\n",
       "      <td>8792009665</td>\n",
       "      <td>366</td>\n",
       "      <td>120</td>\n",
       "      <td>Wednesday</td>\n",
       "      <td>17</td>\n",
       "      <td>2016-05-04</td>\n",
       "      <td>1</td>\n",
       "      <td>439</td>\n",
       "      <td>463</td>\n",
       "    </tr>\n",
       "    <tr>\n",
       "      <th>9765</th>\n",
       "      <td>8792009665</td>\n",
       "      <td>153</td>\n",
       "      <td>99</td>\n",
       "      <td>Wednesday</td>\n",
       "      <td>18</td>\n",
       "      <td>2016-05-04</td>\n",
       "      <td>1</td>\n",
       "      <td>439</td>\n",
       "      <td>463</td>\n",
       "    </tr>\n",
       "  </tbody>\n",
       "</table>\n",
       "<p>9766 rows × 9 columns</p>\n",
       "</div>"
      ],
      "text/plain": [
       "              Id  StepTotal  Calories Day_of_the_week  hour       date  \\\n",
       "0     1503960366        373        81         Tuesday     0 2016-04-12   \n",
       "1     1503960366        160        61         Tuesday     1 2016-04-12   \n",
       "2     1503960366        151        59         Tuesday     2 2016-04-12   \n",
       "3     1503960366          0        47         Tuesday     3 2016-04-12   \n",
       "4     1503960366          0        48         Tuesday     4 2016-04-12   \n",
       "...          ...        ...       ...             ...   ...        ...   \n",
       "9761  8792009665        105        86       Wednesday    14 2016-05-04   \n",
       "9762  8792009665        559       129       Wednesday    15 2016-05-04   \n",
       "9763  8792009665          0        70       Wednesday    16 2016-05-04   \n",
       "9764  8792009665        366       120       Wednesday    17 2016-05-04   \n",
       "9765  8792009665        153        99       Wednesday    18 2016-05-04   \n",
       "\n",
       "      TotalSleepRecords  TotalMinutesAsleep  TotalTimeInBed  \n",
       "0                     1                 327             346  \n",
       "1                     1                 327             346  \n",
       "2                     1                 327             346  \n",
       "3                     1                 327             346  \n",
       "4                     1                 327             346  \n",
       "...                 ...                 ...             ...  \n",
       "9761                  1                 439             463  \n",
       "9762                  1                 439             463  \n",
       "9763                  1                 439             463  \n",
       "9764                  1                 439             463  \n",
       "9765                  1                 439             463  \n",
       "\n",
       "[9766 rows x 9 columns]"
      ]
     },
     "execution_count": 41,
     "metadata": {},
     "output_type": "execute_result"
    }
   ],
   "source": [
    "sleep_hourly_merged.head(-5)"
   ]
  },
  {
   "cell_type": "markdown",
   "id": "993d53b1",
   "metadata": {
    "papermill": {
     "duration": 0.030326,
     "end_time": "2023-08-19T23:21:44.134623",
     "exception": false,
     "start_time": "2023-08-19T23:21:44.104297",
     "status": "completed"
    },
    "tags": []
   },
   "source": [
    "After creating the new Dataframe we are going to take a look at how many missing value and unique values are present in our DF"
   ]
  },
  {
   "cell_type": "code",
   "execution_count": 42,
   "id": "e75a7c00",
   "metadata": {
    "execution": {
     "iopub.execute_input": "2023-08-19T23:21:44.195702Z",
     "iopub.status.busy": "2023-08-19T23:21:44.194977Z",
     "iopub.status.idle": "2023-08-19T23:21:44.205131Z",
     "shell.execute_reply": "2023-08-19T23:21:44.204181Z"
    },
    "papermill": {
     "duration": 0.04286,
     "end_time": "2023-08-19T23:21:44.207112",
     "exception": false,
     "start_time": "2023-08-19T23:21:44.164252",
     "status": "completed"
    },
    "tags": []
   },
   "outputs": [
    {
     "name": "stdout",
     "output_type": "stream",
     "text": [
      "Total number of missing values 0\n",
      "Total number of unique values 24\n"
     ]
    }
   ],
   "source": [
    "print(\"Total number of missing values\",sleep_hourly_merged.isna().values.sum())\n",
    "print(\"Total number of unique values\",sleep_hourly_merged[\"Id\"].nunique())"
   ]
  },
  {
   "cell_type": "markdown",
   "id": "6baebcf2",
   "metadata": {
    "papermill": {
     "duration": 0.029993,
     "end_time": "2023-08-19T23:21:44.267636",
     "exception": false,
     "start_time": "2023-08-19T23:21:44.237643",
     "status": "completed"
    },
    "tags": []
   },
   "source": [
    "Now that we are done cleaning our sleep_hourly_merged DataFrame. lets take a look what changes we can do to daily_activity DataFrame"
   ]
  },
  {
   "cell_type": "code",
   "execution_count": 43,
   "id": "2ad2a851",
   "metadata": {
    "execution": {
     "iopub.execute_input": "2023-08-19T23:21:44.328627Z",
     "iopub.status.busy": "2023-08-19T23:21:44.328347Z",
     "iopub.status.idle": "2023-08-19T23:21:44.351382Z",
     "shell.execute_reply": "2023-08-19T23:21:44.350485Z"
    },
    "papermill": {
     "duration": 0.057017,
     "end_time": "2023-08-19T23:21:44.353378",
     "exception": false,
     "start_time": "2023-08-19T23:21:44.296361",
     "status": "completed"
    },
    "tags": []
   },
   "outputs": [
    {
     "data": {
      "text/html": [
       "<div>\n",
       "<style scoped>\n",
       "    .dataframe tbody tr th:only-of-type {\n",
       "        vertical-align: middle;\n",
       "    }\n",
       "\n",
       "    .dataframe tbody tr th {\n",
       "        vertical-align: top;\n",
       "    }\n",
       "\n",
       "    .dataframe thead th {\n",
       "        text-align: right;\n",
       "    }\n",
       "</style>\n",
       "<table border=\"1\" class=\"dataframe\">\n",
       "  <thead>\n",
       "    <tr style=\"text-align: right;\">\n",
       "      <th></th>\n",
       "      <th>Id</th>\n",
       "      <th>ActivityDate</th>\n",
       "      <th>TotalSteps</th>\n",
       "      <th>TotalDistance</th>\n",
       "      <th>TrackerDistance</th>\n",
       "      <th>LoggedActivitiesDistance</th>\n",
       "      <th>VeryActiveDistance</th>\n",
       "      <th>ModeratelyActiveDistance</th>\n",
       "      <th>LightActiveDistance</th>\n",
       "      <th>SedentaryActiveDistance</th>\n",
       "      <th>VeryActiveMinutes</th>\n",
       "      <th>FairlyActiveMinutes</th>\n",
       "      <th>LightlyActiveMinutes</th>\n",
       "      <th>SedentaryMinutes</th>\n",
       "      <th>Calories</th>\n",
       "      <th>Day_of_the_week</th>\n",
       "    </tr>\n",
       "  </thead>\n",
       "  <tbody>\n",
       "    <tr>\n",
       "      <th>0</th>\n",
       "      <td>1503960366</td>\n",
       "      <td>2016-04-12</td>\n",
       "      <td>13162</td>\n",
       "      <td>8.50</td>\n",
       "      <td>8.50</td>\n",
       "      <td>0.0</td>\n",
       "      <td>1.88</td>\n",
       "      <td>0.55</td>\n",
       "      <td>6.06</td>\n",
       "      <td>0.0</td>\n",
       "      <td>25</td>\n",
       "      <td>13</td>\n",
       "      <td>328</td>\n",
       "      <td>728</td>\n",
       "      <td>1985</td>\n",
       "      <td>Tuesday</td>\n",
       "    </tr>\n",
       "    <tr>\n",
       "      <th>1</th>\n",
       "      <td>1503960366</td>\n",
       "      <td>2016-04-13</td>\n",
       "      <td>10735</td>\n",
       "      <td>6.97</td>\n",
       "      <td>6.97</td>\n",
       "      <td>0.0</td>\n",
       "      <td>1.57</td>\n",
       "      <td>0.69</td>\n",
       "      <td>4.71</td>\n",
       "      <td>0.0</td>\n",
       "      <td>21</td>\n",
       "      <td>19</td>\n",
       "      <td>217</td>\n",
       "      <td>776</td>\n",
       "      <td>1797</td>\n",
       "      <td>Wednesday</td>\n",
       "    </tr>\n",
       "    <tr>\n",
       "      <th>2</th>\n",
       "      <td>1503960366</td>\n",
       "      <td>2016-04-14</td>\n",
       "      <td>10460</td>\n",
       "      <td>6.74</td>\n",
       "      <td>6.74</td>\n",
       "      <td>0.0</td>\n",
       "      <td>2.44</td>\n",
       "      <td>0.40</td>\n",
       "      <td>3.91</td>\n",
       "      <td>0.0</td>\n",
       "      <td>30</td>\n",
       "      <td>11</td>\n",
       "      <td>181</td>\n",
       "      <td>1218</td>\n",
       "      <td>1776</td>\n",
       "      <td>Thursday</td>\n",
       "    </tr>\n",
       "    <tr>\n",
       "      <th>3</th>\n",
       "      <td>1503960366</td>\n",
       "      <td>2016-04-15</td>\n",
       "      <td>9762</td>\n",
       "      <td>6.28</td>\n",
       "      <td>6.28</td>\n",
       "      <td>0.0</td>\n",
       "      <td>2.14</td>\n",
       "      <td>1.26</td>\n",
       "      <td>2.83</td>\n",
       "      <td>0.0</td>\n",
       "      <td>29</td>\n",
       "      <td>34</td>\n",
       "      <td>209</td>\n",
       "      <td>726</td>\n",
       "      <td>1745</td>\n",
       "      <td>Friday</td>\n",
       "    </tr>\n",
       "    <tr>\n",
       "      <th>4</th>\n",
       "      <td>1503960366</td>\n",
       "      <td>2016-04-16</td>\n",
       "      <td>12669</td>\n",
       "      <td>8.16</td>\n",
       "      <td>8.16</td>\n",
       "      <td>0.0</td>\n",
       "      <td>2.71</td>\n",
       "      <td>0.41</td>\n",
       "      <td>5.04</td>\n",
       "      <td>0.0</td>\n",
       "      <td>36</td>\n",
       "      <td>10</td>\n",
       "      <td>221</td>\n",
       "      <td>773</td>\n",
       "      <td>1863</td>\n",
       "      <td>Saturday</td>\n",
       "    </tr>\n",
       "    <tr>\n",
       "      <th>5</th>\n",
       "      <td>1503960366</td>\n",
       "      <td>2016-04-17</td>\n",
       "      <td>9705</td>\n",
       "      <td>6.48</td>\n",
       "      <td>6.48</td>\n",
       "      <td>0.0</td>\n",
       "      <td>3.19</td>\n",
       "      <td>0.78</td>\n",
       "      <td>2.51</td>\n",
       "      <td>0.0</td>\n",
       "      <td>38</td>\n",
       "      <td>20</td>\n",
       "      <td>164</td>\n",
       "      <td>539</td>\n",
       "      <td>1728</td>\n",
       "      <td>Sunday</td>\n",
       "    </tr>\n",
       "    <tr>\n",
       "      <th>6</th>\n",
       "      <td>1503960366</td>\n",
       "      <td>2016-04-18</td>\n",
       "      <td>13019</td>\n",
       "      <td>8.59</td>\n",
       "      <td>8.59</td>\n",
       "      <td>0.0</td>\n",
       "      <td>3.25</td>\n",
       "      <td>0.64</td>\n",
       "      <td>4.71</td>\n",
       "      <td>0.0</td>\n",
       "      <td>42</td>\n",
       "      <td>16</td>\n",
       "      <td>233</td>\n",
       "      <td>1149</td>\n",
       "      <td>1921</td>\n",
       "      <td>Monday</td>\n",
       "    </tr>\n",
       "    <tr>\n",
       "      <th>7</th>\n",
       "      <td>1503960366</td>\n",
       "      <td>2016-04-19</td>\n",
       "      <td>15506</td>\n",
       "      <td>9.88</td>\n",
       "      <td>9.88</td>\n",
       "      <td>0.0</td>\n",
       "      <td>3.53</td>\n",
       "      <td>1.32</td>\n",
       "      <td>5.03</td>\n",
       "      <td>0.0</td>\n",
       "      <td>50</td>\n",
       "      <td>31</td>\n",
       "      <td>264</td>\n",
       "      <td>775</td>\n",
       "      <td>2035</td>\n",
       "      <td>Tuesday</td>\n",
       "    </tr>\n",
       "    <tr>\n",
       "      <th>8</th>\n",
       "      <td>1503960366</td>\n",
       "      <td>2016-04-20</td>\n",
       "      <td>10544</td>\n",
       "      <td>6.68</td>\n",
       "      <td>6.68</td>\n",
       "      <td>0.0</td>\n",
       "      <td>1.96</td>\n",
       "      <td>0.48</td>\n",
       "      <td>4.24</td>\n",
       "      <td>0.0</td>\n",
       "      <td>28</td>\n",
       "      <td>12</td>\n",
       "      <td>205</td>\n",
       "      <td>818</td>\n",
       "      <td>1786</td>\n",
       "      <td>Wednesday</td>\n",
       "    </tr>\n",
       "    <tr>\n",
       "      <th>9</th>\n",
       "      <td>1503960366</td>\n",
       "      <td>2016-04-21</td>\n",
       "      <td>9819</td>\n",
       "      <td>6.34</td>\n",
       "      <td>6.34</td>\n",
       "      <td>0.0</td>\n",
       "      <td>1.34</td>\n",
       "      <td>0.35</td>\n",
       "      <td>4.65</td>\n",
       "      <td>0.0</td>\n",
       "      <td>19</td>\n",
       "      <td>8</td>\n",
       "      <td>211</td>\n",
       "      <td>838</td>\n",
       "      <td>1775</td>\n",
       "      <td>Thursday</td>\n",
       "    </tr>\n",
       "  </tbody>\n",
       "</table>\n",
       "</div>"
      ],
      "text/plain": [
       "           Id ActivityDate  TotalSteps  TotalDistance  TrackerDistance  \\\n",
       "0  1503960366   2016-04-12       13162           8.50             8.50   \n",
       "1  1503960366   2016-04-13       10735           6.97             6.97   \n",
       "2  1503960366   2016-04-14       10460           6.74             6.74   \n",
       "3  1503960366   2016-04-15        9762           6.28             6.28   \n",
       "4  1503960366   2016-04-16       12669           8.16             8.16   \n",
       "5  1503960366   2016-04-17        9705           6.48             6.48   \n",
       "6  1503960366   2016-04-18       13019           8.59             8.59   \n",
       "7  1503960366   2016-04-19       15506           9.88             9.88   \n",
       "8  1503960366   2016-04-20       10544           6.68             6.68   \n",
       "9  1503960366   2016-04-21        9819           6.34             6.34   \n",
       "\n",
       "   LoggedActivitiesDistance  VeryActiveDistance  ModeratelyActiveDistance  \\\n",
       "0                       0.0                1.88                      0.55   \n",
       "1                       0.0                1.57                      0.69   \n",
       "2                       0.0                2.44                      0.40   \n",
       "3                       0.0                2.14                      1.26   \n",
       "4                       0.0                2.71                      0.41   \n",
       "5                       0.0                3.19                      0.78   \n",
       "6                       0.0                3.25                      0.64   \n",
       "7                       0.0                3.53                      1.32   \n",
       "8                       0.0                1.96                      0.48   \n",
       "9                       0.0                1.34                      0.35   \n",
       "\n",
       "   LightActiveDistance  SedentaryActiveDistance  VeryActiveMinutes  \\\n",
       "0                 6.06                      0.0                 25   \n",
       "1                 4.71                      0.0                 21   \n",
       "2                 3.91                      0.0                 30   \n",
       "3                 2.83                      0.0                 29   \n",
       "4                 5.04                      0.0                 36   \n",
       "5                 2.51                      0.0                 38   \n",
       "6                 4.71                      0.0                 42   \n",
       "7                 5.03                      0.0                 50   \n",
       "8                 4.24                      0.0                 28   \n",
       "9                 4.65                      0.0                 19   \n",
       "\n",
       "   FairlyActiveMinutes  LightlyActiveMinutes  SedentaryMinutes  Calories  \\\n",
       "0                   13                   328               728      1985   \n",
       "1                   19                   217               776      1797   \n",
       "2                   11                   181              1218      1776   \n",
       "3                   34                   209               726      1745   \n",
       "4                   10                   221               773      1863   \n",
       "5                   20                   164               539      1728   \n",
       "6                   16                   233              1149      1921   \n",
       "7                   31                   264               775      2035   \n",
       "8                   12                   205               818      1786   \n",
       "9                    8                   211               838      1775   \n",
       "\n",
       "  Day_of_the_week  \n",
       "0         Tuesday  \n",
       "1       Wednesday  \n",
       "2        Thursday  \n",
       "3          Friday  \n",
       "4        Saturday  \n",
       "5          Sunday  \n",
       "6          Monday  \n",
       "7         Tuesday  \n",
       "8       Wednesday  \n",
       "9        Thursday  "
      ]
     },
     "execution_count": 43,
     "metadata": {},
     "output_type": "execute_result"
    }
   ],
   "source": [
    "daily_activity.head(10)"
   ]
  },
  {
   "cell_type": "markdown",
   "id": "2f02db98",
   "metadata": {
    "papermill": {
     "duration": 0.031276,
     "end_time": "2023-08-19T23:21:44.414635",
     "exception": false,
     "start_time": "2023-08-19T23:21:44.383359",
     "status": "completed"
    },
    "tags": []
   },
   "source": [
    "Let's start by making some new columns in our DataFrame to summarize Minutes"
   ]
  },
  {
   "cell_type": "code",
   "execution_count": 44,
   "id": "a5b189e4",
   "metadata": {
    "execution": {
     "iopub.execute_input": "2023-08-19T23:21:44.478002Z",
     "iopub.status.busy": "2023-08-19T23:21:44.476919Z",
     "iopub.status.idle": "2023-08-19T23:21:44.482826Z",
     "shell.execute_reply": "2023-08-19T23:21:44.482172Z"
    },
    "papermill": {
     "duration": 0.039404,
     "end_time": "2023-08-19T23:21:44.484587",
     "exception": false,
     "start_time": "2023-08-19T23:21:44.445183",
     "status": "completed"
    },
    "tags": []
   },
   "outputs": [],
   "source": [
    "daily_activity[\"TotalMinutes\"] = daily_activity[\"VeryActiveMinutes\"]+\\\n",
    "                                 daily_activity[\"FairlyActiveMinutes\"]+\\\n",
    "                                 daily_activity[\"LightlyActiveMinutes\"]+\\\n",
    "                                 daily_activity[\"SedentaryMinutes\"]"
   ]
  },
  {
   "cell_type": "code",
   "execution_count": 45,
   "id": "3da83174",
   "metadata": {
    "execution": {
     "iopub.execute_input": "2023-08-19T23:21:44.546834Z",
     "iopub.status.busy": "2023-08-19T23:21:44.546294Z",
     "iopub.status.idle": "2023-08-19T23:21:44.551020Z",
     "shell.execute_reply": "2023-08-19T23:21:44.550363Z"
    },
    "papermill": {
     "duration": 0.037712,
     "end_time": "2023-08-19T23:21:44.552916",
     "exception": false,
     "start_time": "2023-08-19T23:21:44.515204",
     "status": "completed"
    },
    "tags": []
   },
   "outputs": [],
   "source": [
    " daily_activity[\"TotalActiveMinutes\"] = daily_activity[\"VeryActiveMinutes\"]+\\\n",
    "                                        daily_activity[\"FairlyActiveMinutes\"]+\\\n",
    "                                        daily_activity[\"LightlyActiveMinutes\"]\n",
    "                                "
   ]
  },
  {
   "cell_type": "code",
   "execution_count": 46,
   "id": "8673e05d",
   "metadata": {
    "execution": {
     "iopub.execute_input": "2023-08-19T23:21:44.615653Z",
     "iopub.status.busy": "2023-08-19T23:21:44.615020Z",
     "iopub.status.idle": "2023-08-19T23:21:44.619876Z",
     "shell.execute_reply": "2023-08-19T23:21:44.619199Z"
    },
    "papermill": {
     "duration": 0.038588,
     "end_time": "2023-08-19T23:21:44.621795",
     "exception": false,
     "start_time": "2023-08-19T23:21:44.583207",
     "status": "completed"
    },
    "tags": []
   },
   "outputs": [],
   "source": [
    "daily_activity[\"TotalActiveHour\"] = round(daily_activity[\"TotalActiveMinutes\"] / 60)"
   ]
  },
  {
   "cell_type": "code",
   "execution_count": 47,
   "id": "5fc60589",
   "metadata": {
    "execution": {
     "iopub.execute_input": "2023-08-19T23:21:44.684698Z",
     "iopub.status.busy": "2023-08-19T23:21:44.684049Z",
     "iopub.status.idle": "2023-08-19T23:21:44.695273Z",
     "shell.execute_reply": "2023-08-19T23:21:44.694291Z"
    },
    "papermill": {
     "duration": 0.045082,
     "end_time": "2023-08-19T23:21:44.697368",
     "exception": false,
     "start_time": "2023-08-19T23:21:44.652286",
     "status": "completed"
    },
    "tags": []
   },
   "outputs": [
    {
     "data": {
      "text/html": [
       "<div>\n",
       "<style scoped>\n",
       "    .dataframe tbody tr th:only-of-type {\n",
       "        vertical-align: middle;\n",
       "    }\n",
       "\n",
       "    .dataframe tbody tr th {\n",
       "        vertical-align: top;\n",
       "    }\n",
       "\n",
       "    .dataframe thead th {\n",
       "        text-align: right;\n",
       "    }\n",
       "</style>\n",
       "<table border=\"1\" class=\"dataframe\">\n",
       "  <thead>\n",
       "    <tr style=\"text-align: right;\">\n",
       "      <th></th>\n",
       "      <th>TotalMinutes</th>\n",
       "      <th>TotalActiveMinutes</th>\n",
       "      <th>TotalActiveHour</th>\n",
       "    </tr>\n",
       "  </thead>\n",
       "  <tbody>\n",
       "    <tr>\n",
       "      <th>0</th>\n",
       "      <td>1094</td>\n",
       "      <td>366</td>\n",
       "      <td>6.0</td>\n",
       "    </tr>\n",
       "    <tr>\n",
       "      <th>1</th>\n",
       "      <td>1033</td>\n",
       "      <td>257</td>\n",
       "      <td>4.0</td>\n",
       "    </tr>\n",
       "    <tr>\n",
       "      <th>2</th>\n",
       "      <td>1440</td>\n",
       "      <td>222</td>\n",
       "      <td>4.0</td>\n",
       "    </tr>\n",
       "    <tr>\n",
       "      <th>3</th>\n",
       "      <td>998</td>\n",
       "      <td>272</td>\n",
       "      <td>5.0</td>\n",
       "    </tr>\n",
       "    <tr>\n",
       "      <th>4</th>\n",
       "      <td>1040</td>\n",
       "      <td>267</td>\n",
       "      <td>4.0</td>\n",
       "    </tr>\n",
       "  </tbody>\n",
       "</table>\n",
       "</div>"
      ],
      "text/plain": [
       "   TotalMinutes  TotalActiveMinutes  TotalActiveHour\n",
       "0          1094                 366              6.0\n",
       "1          1033                 257              4.0\n",
       "2          1440                 222              4.0\n",
       "3           998                 272              5.0\n",
       "4          1040                 267              4.0"
      ]
     },
     "execution_count": 47,
     "metadata": {},
     "output_type": "execute_result"
    }
   ],
   "source": [
    "daily_activity[[\"TotalMinutes\",\"TotalActiveMinutes\", \"TotalActiveHour\"]].head()"
   ]
  },
  {
   "cell_type": "code",
   "execution_count": 48,
   "id": "d5193cb4",
   "metadata": {
    "execution": {
     "iopub.execute_input": "2023-08-19T23:21:44.764482Z",
     "iopub.status.busy": "2023-08-19T23:21:44.764076Z",
     "iopub.status.idle": "2023-08-19T23:21:44.786544Z",
     "shell.execute_reply": "2023-08-19T23:21:44.785833Z"
    },
    "papermill": {
     "duration": 0.058783,
     "end_time": "2023-08-19T23:21:44.788564",
     "exception": false,
     "start_time": "2023-08-19T23:21:44.729781",
     "status": "completed"
    },
    "tags": []
   },
   "outputs": [
    {
     "data": {
      "text/html": [
       "<div>\n",
       "<style scoped>\n",
       "    .dataframe tbody tr th:only-of-type {\n",
       "        vertical-align: middle;\n",
       "    }\n",
       "\n",
       "    .dataframe tbody tr th {\n",
       "        vertical-align: top;\n",
       "    }\n",
       "\n",
       "    .dataframe thead th {\n",
       "        text-align: right;\n",
       "    }\n",
       "</style>\n",
       "<table border=\"1\" class=\"dataframe\">\n",
       "  <thead>\n",
       "    <tr style=\"text-align: right;\">\n",
       "      <th></th>\n",
       "      <th>Id</th>\n",
       "      <th>ActivityDate</th>\n",
       "      <th>TotalSteps</th>\n",
       "      <th>TotalDistance</th>\n",
       "      <th>TrackerDistance</th>\n",
       "      <th>LoggedActivitiesDistance</th>\n",
       "      <th>VeryActiveDistance</th>\n",
       "      <th>ModeratelyActiveDistance</th>\n",
       "      <th>LightActiveDistance</th>\n",
       "      <th>SedentaryActiveDistance</th>\n",
       "      <th>VeryActiveMinutes</th>\n",
       "      <th>FairlyActiveMinutes</th>\n",
       "      <th>LightlyActiveMinutes</th>\n",
       "      <th>SedentaryMinutes</th>\n",
       "      <th>Calories</th>\n",
       "      <th>Day_of_the_week</th>\n",
       "      <th>TotalMinutes</th>\n",
       "      <th>TotalActiveMinutes</th>\n",
       "      <th>TotalActiveHour</th>\n",
       "    </tr>\n",
       "  </thead>\n",
       "  <tbody>\n",
       "    <tr>\n",
       "      <th>0</th>\n",
       "      <td>1503960366</td>\n",
       "      <td>2016-04-12</td>\n",
       "      <td>13162</td>\n",
       "      <td>8.50</td>\n",
       "      <td>8.50</td>\n",
       "      <td>0.0</td>\n",
       "      <td>1.88</td>\n",
       "      <td>0.55</td>\n",
       "      <td>6.06</td>\n",
       "      <td>0.0</td>\n",
       "      <td>25</td>\n",
       "      <td>13</td>\n",
       "      <td>328</td>\n",
       "      <td>728</td>\n",
       "      <td>1985</td>\n",
       "      <td>Tuesday</td>\n",
       "      <td>1094</td>\n",
       "      <td>366</td>\n",
       "      <td>6.0</td>\n",
       "    </tr>\n",
       "    <tr>\n",
       "      <th>1</th>\n",
       "      <td>1503960366</td>\n",
       "      <td>2016-04-13</td>\n",
       "      <td>10735</td>\n",
       "      <td>6.97</td>\n",
       "      <td>6.97</td>\n",
       "      <td>0.0</td>\n",
       "      <td>1.57</td>\n",
       "      <td>0.69</td>\n",
       "      <td>4.71</td>\n",
       "      <td>0.0</td>\n",
       "      <td>21</td>\n",
       "      <td>19</td>\n",
       "      <td>217</td>\n",
       "      <td>776</td>\n",
       "      <td>1797</td>\n",
       "      <td>Wednesday</td>\n",
       "      <td>1033</td>\n",
       "      <td>257</td>\n",
       "      <td>4.0</td>\n",
       "    </tr>\n",
       "    <tr>\n",
       "      <th>2</th>\n",
       "      <td>1503960366</td>\n",
       "      <td>2016-04-14</td>\n",
       "      <td>10460</td>\n",
       "      <td>6.74</td>\n",
       "      <td>6.74</td>\n",
       "      <td>0.0</td>\n",
       "      <td>2.44</td>\n",
       "      <td>0.40</td>\n",
       "      <td>3.91</td>\n",
       "      <td>0.0</td>\n",
       "      <td>30</td>\n",
       "      <td>11</td>\n",
       "      <td>181</td>\n",
       "      <td>1218</td>\n",
       "      <td>1776</td>\n",
       "      <td>Thursday</td>\n",
       "      <td>1440</td>\n",
       "      <td>222</td>\n",
       "      <td>4.0</td>\n",
       "    </tr>\n",
       "    <tr>\n",
       "      <th>3</th>\n",
       "      <td>1503960366</td>\n",
       "      <td>2016-04-15</td>\n",
       "      <td>9762</td>\n",
       "      <td>6.28</td>\n",
       "      <td>6.28</td>\n",
       "      <td>0.0</td>\n",
       "      <td>2.14</td>\n",
       "      <td>1.26</td>\n",
       "      <td>2.83</td>\n",
       "      <td>0.0</td>\n",
       "      <td>29</td>\n",
       "      <td>34</td>\n",
       "      <td>209</td>\n",
       "      <td>726</td>\n",
       "      <td>1745</td>\n",
       "      <td>Friday</td>\n",
       "      <td>998</td>\n",
       "      <td>272</td>\n",
       "      <td>5.0</td>\n",
       "    </tr>\n",
       "    <tr>\n",
       "      <th>4</th>\n",
       "      <td>1503960366</td>\n",
       "      <td>2016-04-16</td>\n",
       "      <td>12669</td>\n",
       "      <td>8.16</td>\n",
       "      <td>8.16</td>\n",
       "      <td>0.0</td>\n",
       "      <td>2.71</td>\n",
       "      <td>0.41</td>\n",
       "      <td>5.04</td>\n",
       "      <td>0.0</td>\n",
       "      <td>36</td>\n",
       "      <td>10</td>\n",
       "      <td>221</td>\n",
       "      <td>773</td>\n",
       "      <td>1863</td>\n",
       "      <td>Saturday</td>\n",
       "      <td>1040</td>\n",
       "      <td>267</td>\n",
       "      <td>4.0</td>\n",
       "    </tr>\n",
       "  </tbody>\n",
       "</table>\n",
       "</div>"
      ],
      "text/plain": [
       "           Id ActivityDate  TotalSteps  TotalDistance  TrackerDistance  \\\n",
       "0  1503960366   2016-04-12       13162           8.50             8.50   \n",
       "1  1503960366   2016-04-13       10735           6.97             6.97   \n",
       "2  1503960366   2016-04-14       10460           6.74             6.74   \n",
       "3  1503960366   2016-04-15        9762           6.28             6.28   \n",
       "4  1503960366   2016-04-16       12669           8.16             8.16   \n",
       "\n",
       "   LoggedActivitiesDistance  VeryActiveDistance  ModeratelyActiveDistance  \\\n",
       "0                       0.0                1.88                      0.55   \n",
       "1                       0.0                1.57                      0.69   \n",
       "2                       0.0                2.44                      0.40   \n",
       "3                       0.0                2.14                      1.26   \n",
       "4                       0.0                2.71                      0.41   \n",
       "\n",
       "   LightActiveDistance  SedentaryActiveDistance  VeryActiveMinutes  \\\n",
       "0                 6.06                      0.0                 25   \n",
       "1                 4.71                      0.0                 21   \n",
       "2                 3.91                      0.0                 30   \n",
       "3                 2.83                      0.0                 29   \n",
       "4                 5.04                      0.0                 36   \n",
       "\n",
       "   FairlyActiveMinutes  LightlyActiveMinutes  SedentaryMinutes  Calories  \\\n",
       "0                   13                   328               728      1985   \n",
       "1                   19                   217               776      1797   \n",
       "2                   11                   181              1218      1776   \n",
       "3                   34                   209               726      1745   \n",
       "4                   10                   221               773      1863   \n",
       "\n",
       "  Day_of_the_week  TotalMinutes  TotalActiveMinutes  TotalActiveHour  \n",
       "0         Tuesday          1094                 366              6.0  \n",
       "1       Wednesday          1033                 257              4.0  \n",
       "2        Thursday          1440                 222              4.0  \n",
       "3          Friday           998                 272              5.0  \n",
       "4        Saturday          1040                 267              4.0  "
      ]
     },
     "execution_count": 48,
     "metadata": {},
     "output_type": "execute_result"
    }
   ],
   "source": [
    "daily_activity.head(5)"
   ]
  },
  {
   "cell_type": "markdown",
   "id": "c8f6d3a7",
   "metadata": {
    "papermill": {
     "duration": 0.033326,
     "end_time": "2023-08-19T23:21:44.854714",
     "exception": false,
     "start_time": "2023-08-19T23:21:44.821388",
     "status": "completed"
    },
    "tags": []
   },
   "source": [
    "# **4.Analyze**\n",
    "\n",
    "Great! we cleaned our DataFrames, and now it's time to analyze these to find valuable insights.\n",
    "we have three DataFrame:\n",
    "* daily_activity\n",
    "* hourly_merged\n",
    "* sleep_hourly_merged\n",
    "\n",
    "We are going to start analyzing these DataFrames by finding some summary statistics first."
   ]
  },
  {
   "cell_type": "code",
   "execution_count": 49,
   "id": "4da18bd9",
   "metadata": {
    "execution": {
     "iopub.execute_input": "2023-08-19T23:21:44.920100Z",
     "iopub.status.busy": "2023-08-19T23:21:44.919033Z",
     "iopub.status.idle": "2023-08-19T23:21:44.984777Z",
     "shell.execute_reply": "2023-08-19T23:21:44.983861Z"
    },
    "papermill": {
     "duration": 0.10069,
     "end_time": "2023-08-19T23:21:44.986974",
     "exception": false,
     "start_time": "2023-08-19T23:21:44.886284",
     "status": "completed"
    },
    "tags": []
   },
   "outputs": [
    {
     "data": {
      "text/html": [
       "<div>\n",
       "<style scoped>\n",
       "    .dataframe tbody tr th:only-of-type {\n",
       "        vertical-align: middle;\n",
       "    }\n",
       "\n",
       "    .dataframe tbody tr th {\n",
       "        vertical-align: top;\n",
       "    }\n",
       "\n",
       "    .dataframe thead th {\n",
       "        text-align: right;\n",
       "    }\n",
       "</style>\n",
       "<table border=\"1\" class=\"dataframe\">\n",
       "  <thead>\n",
       "    <tr style=\"text-align: right;\">\n",
       "      <th></th>\n",
       "      <th>Id</th>\n",
       "      <th>TotalSteps</th>\n",
       "      <th>TotalDistance</th>\n",
       "      <th>TrackerDistance</th>\n",
       "      <th>LoggedActivitiesDistance</th>\n",
       "      <th>VeryActiveDistance</th>\n",
       "      <th>ModeratelyActiveDistance</th>\n",
       "      <th>LightActiveDistance</th>\n",
       "      <th>SedentaryActiveDistance</th>\n",
       "      <th>VeryActiveMinutes</th>\n",
       "      <th>FairlyActiveMinutes</th>\n",
       "      <th>LightlyActiveMinutes</th>\n",
       "      <th>SedentaryMinutes</th>\n",
       "      <th>Calories</th>\n",
       "      <th>TotalMinutes</th>\n",
       "      <th>TotalActiveMinutes</th>\n",
       "      <th>TotalActiveHour</th>\n",
       "    </tr>\n",
       "  </thead>\n",
       "  <tbody>\n",
       "    <tr>\n",
       "      <th>count</th>\n",
       "      <td>9.400000e+02</td>\n",
       "      <td>940.000000</td>\n",
       "      <td>940.000000</td>\n",
       "      <td>940.000000</td>\n",
       "      <td>940.000000</td>\n",
       "      <td>940.000000</td>\n",
       "      <td>940.000000</td>\n",
       "      <td>940.000000</td>\n",
       "      <td>940.000000</td>\n",
       "      <td>940.000000</td>\n",
       "      <td>940.000000</td>\n",
       "      <td>940.000000</td>\n",
       "      <td>940.000000</td>\n",
       "      <td>940.000000</td>\n",
       "      <td>940.000000</td>\n",
       "      <td>940.000000</td>\n",
       "      <td>940.000000</td>\n",
       "    </tr>\n",
       "    <tr>\n",
       "      <th>mean</th>\n",
       "      <td>4.855407e+09</td>\n",
       "      <td>7637.910638</td>\n",
       "      <td>5.489702</td>\n",
       "      <td>5.475351</td>\n",
       "      <td>0.108171</td>\n",
       "      <td>1.502681</td>\n",
       "      <td>0.567543</td>\n",
       "      <td>3.340819</td>\n",
       "      <td>0.001606</td>\n",
       "      <td>21.164894</td>\n",
       "      <td>13.564894</td>\n",
       "      <td>192.812766</td>\n",
       "      <td>991.210638</td>\n",
       "      <td>2303.609574</td>\n",
       "      <td>1218.753191</td>\n",
       "      <td>227.542553</td>\n",
       "      <td>3.775532</td>\n",
       "    </tr>\n",
       "    <tr>\n",
       "      <th>std</th>\n",
       "      <td>2.424805e+09</td>\n",
       "      <td>5087.150742</td>\n",
       "      <td>3.924606</td>\n",
       "      <td>3.907276</td>\n",
       "      <td>0.619897</td>\n",
       "      <td>2.658941</td>\n",
       "      <td>0.883580</td>\n",
       "      <td>2.040655</td>\n",
       "      <td>0.007346</td>\n",
       "      <td>32.844803</td>\n",
       "      <td>19.987404</td>\n",
       "      <td>109.174700</td>\n",
       "      <td>301.267437</td>\n",
       "      <td>718.166862</td>\n",
       "      <td>265.931767</td>\n",
       "      <td>121.776307</td>\n",
       "      <td>2.057646</td>\n",
       "    </tr>\n",
       "    <tr>\n",
       "      <th>min</th>\n",
       "      <td>1.503960e+09</td>\n",
       "      <td>0.000000</td>\n",
       "      <td>0.000000</td>\n",
       "      <td>0.000000</td>\n",
       "      <td>0.000000</td>\n",
       "      <td>0.000000</td>\n",
       "      <td>0.000000</td>\n",
       "      <td>0.000000</td>\n",
       "      <td>0.000000</td>\n",
       "      <td>0.000000</td>\n",
       "      <td>0.000000</td>\n",
       "      <td>0.000000</td>\n",
       "      <td>0.000000</td>\n",
       "      <td>0.000000</td>\n",
       "      <td>2.000000</td>\n",
       "      <td>0.000000</td>\n",
       "      <td>0.000000</td>\n",
       "    </tr>\n",
       "    <tr>\n",
       "      <th>25%</th>\n",
       "      <td>2.320127e+09</td>\n",
       "      <td>3789.750000</td>\n",
       "      <td>2.620000</td>\n",
       "      <td>2.620000</td>\n",
       "      <td>0.000000</td>\n",
       "      <td>0.000000</td>\n",
       "      <td>0.000000</td>\n",
       "      <td>1.945000</td>\n",
       "      <td>0.000000</td>\n",
       "      <td>0.000000</td>\n",
       "      <td>0.000000</td>\n",
       "      <td>127.000000</td>\n",
       "      <td>729.750000</td>\n",
       "      <td>1828.500000</td>\n",
       "      <td>989.750000</td>\n",
       "      <td>146.750000</td>\n",
       "      <td>2.000000</td>\n",
       "    </tr>\n",
       "    <tr>\n",
       "      <th>50%</th>\n",
       "      <td>4.445115e+09</td>\n",
       "      <td>7405.500000</td>\n",
       "      <td>5.245000</td>\n",
       "      <td>5.245000</td>\n",
       "      <td>0.000000</td>\n",
       "      <td>0.210000</td>\n",
       "      <td>0.240000</td>\n",
       "      <td>3.365000</td>\n",
       "      <td>0.000000</td>\n",
       "      <td>4.000000</td>\n",
       "      <td>6.000000</td>\n",
       "      <td>199.000000</td>\n",
       "      <td>1057.500000</td>\n",
       "      <td>2134.000000</td>\n",
       "      <td>1440.000000</td>\n",
       "      <td>247.000000</td>\n",
       "      <td>4.000000</td>\n",
       "    </tr>\n",
       "    <tr>\n",
       "      <th>75%</th>\n",
       "      <td>6.962181e+09</td>\n",
       "      <td>10727.000000</td>\n",
       "      <td>7.712500</td>\n",
       "      <td>7.710000</td>\n",
       "      <td>0.000000</td>\n",
       "      <td>2.052500</td>\n",
       "      <td>0.800000</td>\n",
       "      <td>4.782500</td>\n",
       "      <td>0.000000</td>\n",
       "      <td>32.000000</td>\n",
       "      <td>19.000000</td>\n",
       "      <td>264.000000</td>\n",
       "      <td>1229.500000</td>\n",
       "      <td>2793.250000</td>\n",
       "      <td>1440.000000</td>\n",
       "      <td>317.250000</td>\n",
       "      <td>5.000000</td>\n",
       "    </tr>\n",
       "    <tr>\n",
       "      <th>max</th>\n",
       "      <td>8.877689e+09</td>\n",
       "      <td>36019.000000</td>\n",
       "      <td>28.030001</td>\n",
       "      <td>28.030001</td>\n",
       "      <td>4.942142</td>\n",
       "      <td>21.920000</td>\n",
       "      <td>6.480000</td>\n",
       "      <td>10.710000</td>\n",
       "      <td>0.110000</td>\n",
       "      <td>210.000000</td>\n",
       "      <td>143.000000</td>\n",
       "      <td>518.000000</td>\n",
       "      <td>1440.000000</td>\n",
       "      <td>4900.000000</td>\n",
       "      <td>1440.000000</td>\n",
       "      <td>552.000000</td>\n",
       "      <td>9.000000</td>\n",
       "    </tr>\n",
       "  </tbody>\n",
       "</table>\n",
       "</div>"
      ],
      "text/plain": [
       "                 Id    TotalSteps  TotalDistance  TrackerDistance  \\\n",
       "count  9.400000e+02    940.000000     940.000000       940.000000   \n",
       "mean   4.855407e+09   7637.910638       5.489702         5.475351   \n",
       "std    2.424805e+09   5087.150742       3.924606         3.907276   \n",
       "min    1.503960e+09      0.000000       0.000000         0.000000   \n",
       "25%    2.320127e+09   3789.750000       2.620000         2.620000   \n",
       "50%    4.445115e+09   7405.500000       5.245000         5.245000   \n",
       "75%    6.962181e+09  10727.000000       7.712500         7.710000   \n",
       "max    8.877689e+09  36019.000000      28.030001        28.030001   \n",
       "\n",
       "       LoggedActivitiesDistance  VeryActiveDistance  ModeratelyActiveDistance  \\\n",
       "count                940.000000          940.000000                940.000000   \n",
       "mean                   0.108171            1.502681                  0.567543   \n",
       "std                    0.619897            2.658941                  0.883580   \n",
       "min                    0.000000            0.000000                  0.000000   \n",
       "25%                    0.000000            0.000000                  0.000000   \n",
       "50%                    0.000000            0.210000                  0.240000   \n",
       "75%                    0.000000            2.052500                  0.800000   \n",
       "max                    4.942142           21.920000                  6.480000   \n",
       "\n",
       "       LightActiveDistance  SedentaryActiveDistance  VeryActiveMinutes  \\\n",
       "count           940.000000               940.000000         940.000000   \n",
       "mean              3.340819                 0.001606          21.164894   \n",
       "std               2.040655                 0.007346          32.844803   \n",
       "min               0.000000                 0.000000           0.000000   \n",
       "25%               1.945000                 0.000000           0.000000   \n",
       "50%               3.365000                 0.000000           4.000000   \n",
       "75%               4.782500                 0.000000          32.000000   \n",
       "max              10.710000                 0.110000         210.000000   \n",
       "\n",
       "       FairlyActiveMinutes  LightlyActiveMinutes  SedentaryMinutes  \\\n",
       "count           940.000000            940.000000        940.000000   \n",
       "mean             13.564894            192.812766        991.210638   \n",
       "std              19.987404            109.174700        301.267437   \n",
       "min               0.000000              0.000000          0.000000   \n",
       "25%               0.000000            127.000000        729.750000   \n",
       "50%               6.000000            199.000000       1057.500000   \n",
       "75%              19.000000            264.000000       1229.500000   \n",
       "max             143.000000            518.000000       1440.000000   \n",
       "\n",
       "          Calories  TotalMinutes  TotalActiveMinutes  TotalActiveHour  \n",
       "count   940.000000    940.000000          940.000000       940.000000  \n",
       "mean   2303.609574   1218.753191          227.542553         3.775532  \n",
       "std     718.166862    265.931767          121.776307         2.057646  \n",
       "min       0.000000      2.000000            0.000000         0.000000  \n",
       "25%    1828.500000    989.750000          146.750000         2.000000  \n",
       "50%    2134.000000   1440.000000          247.000000         4.000000  \n",
       "75%    2793.250000   1440.000000          317.250000         5.000000  \n",
       "max    4900.000000   1440.000000          552.000000         9.000000  "
      ]
     },
     "execution_count": 49,
     "metadata": {},
     "output_type": "execute_result"
    }
   ],
   "source": [
    "daily_activity.describe()"
   ]
  },
  {
   "cell_type": "code",
   "execution_count": 50,
   "id": "86835fad",
   "metadata": {
    "execution": {
     "iopub.execute_input": "2023-08-19T23:21:45.052484Z",
     "iopub.status.busy": "2023-08-19T23:21:45.051825Z",
     "iopub.status.idle": "2023-08-19T23:21:45.075856Z",
     "shell.execute_reply": "2023-08-19T23:21:45.074945Z"
    },
    "papermill": {
     "duration": 0.059567,
     "end_time": "2023-08-19T23:21:45.077854",
     "exception": false,
     "start_time": "2023-08-19T23:21:45.018287",
     "status": "completed"
    },
    "tags": []
   },
   "outputs": [
    {
     "data": {
      "text/html": [
       "<div>\n",
       "<style scoped>\n",
       "    .dataframe tbody tr th:only-of-type {\n",
       "        vertical-align: middle;\n",
       "    }\n",
       "\n",
       "    .dataframe tbody tr th {\n",
       "        vertical-align: top;\n",
       "    }\n",
       "\n",
       "    .dataframe thead th {\n",
       "        text-align: right;\n",
       "    }\n",
       "</style>\n",
       "<table border=\"1\" class=\"dataframe\">\n",
       "  <thead>\n",
       "    <tr style=\"text-align: right;\">\n",
       "      <th></th>\n",
       "      <th>Id</th>\n",
       "      <th>StepTotal</th>\n",
       "      <th>Calories</th>\n",
       "      <th>hour</th>\n",
       "    </tr>\n",
       "  </thead>\n",
       "  <tbody>\n",
       "    <tr>\n",
       "      <th>count</th>\n",
       "      <td>2.209900e+04</td>\n",
       "      <td>22099.000000</td>\n",
       "      <td>22099.000000</td>\n",
       "      <td>22099.000000</td>\n",
       "    </tr>\n",
       "    <tr>\n",
       "      <th>mean</th>\n",
       "      <td>4.848235e+09</td>\n",
       "      <td>320.166342</td>\n",
       "      <td>97.386760</td>\n",
       "      <td>11.415765</td>\n",
       "    </tr>\n",
       "    <tr>\n",
       "      <th>std</th>\n",
       "      <td>2.422500e+09</td>\n",
       "      <td>690.384228</td>\n",
       "      <td>60.702622</td>\n",
       "      <td>6.915140</td>\n",
       "    </tr>\n",
       "    <tr>\n",
       "      <th>min</th>\n",
       "      <td>1.503960e+09</td>\n",
       "      <td>0.000000</td>\n",
       "      <td>42.000000</td>\n",
       "      <td>0.000000</td>\n",
       "    </tr>\n",
       "    <tr>\n",
       "      <th>25%</th>\n",
       "      <td>2.320127e+09</td>\n",
       "      <td>0.000000</td>\n",
       "      <td>63.000000</td>\n",
       "      <td>5.000000</td>\n",
       "    </tr>\n",
       "    <tr>\n",
       "      <th>50%</th>\n",
       "      <td>4.445115e+09</td>\n",
       "      <td>40.000000</td>\n",
       "      <td>83.000000</td>\n",
       "      <td>11.000000</td>\n",
       "    </tr>\n",
       "    <tr>\n",
       "      <th>75%</th>\n",
       "      <td>6.962181e+09</td>\n",
       "      <td>357.000000</td>\n",
       "      <td>108.000000</td>\n",
       "      <td>17.000000</td>\n",
       "    </tr>\n",
       "    <tr>\n",
       "      <th>max</th>\n",
       "      <td>8.877689e+09</td>\n",
       "      <td>10554.000000</td>\n",
       "      <td>948.000000</td>\n",
       "      <td>23.000000</td>\n",
       "    </tr>\n",
       "  </tbody>\n",
       "</table>\n",
       "</div>"
      ],
      "text/plain": [
       "                 Id     StepTotal      Calories          hour\n",
       "count  2.209900e+04  22099.000000  22099.000000  22099.000000\n",
       "mean   4.848235e+09    320.166342     97.386760     11.415765\n",
       "std    2.422500e+09    690.384228     60.702622      6.915140\n",
       "min    1.503960e+09      0.000000     42.000000      0.000000\n",
       "25%    2.320127e+09      0.000000     63.000000      5.000000\n",
       "50%    4.445115e+09     40.000000     83.000000     11.000000\n",
       "75%    6.962181e+09    357.000000    108.000000     17.000000\n",
       "max    8.877689e+09  10554.000000    948.000000     23.000000"
      ]
     },
     "execution_count": 50,
     "metadata": {},
     "output_type": "execute_result"
    }
   ],
   "source": [
    "hourly_merged.describe()"
   ]
  },
  {
   "cell_type": "code",
   "execution_count": 51,
   "id": "64f1962d",
   "metadata": {
    "execution": {
     "iopub.execute_input": "2023-08-19T23:21:45.142465Z",
     "iopub.status.busy": "2023-08-19T23:21:45.142165Z",
     "iopub.status.idle": "2023-08-19T23:21:45.173473Z",
     "shell.execute_reply": "2023-08-19T23:21:45.172527Z"
    },
    "papermill": {
     "duration": 0.06572,
     "end_time": "2023-08-19T23:21:45.175549",
     "exception": false,
     "start_time": "2023-08-19T23:21:45.109829",
     "status": "completed"
    },
    "tags": []
   },
   "outputs": [
    {
     "data": {
      "text/html": [
       "<div>\n",
       "<style scoped>\n",
       "    .dataframe tbody tr th:only-of-type {\n",
       "        vertical-align: middle;\n",
       "    }\n",
       "\n",
       "    .dataframe tbody tr th {\n",
       "        vertical-align: top;\n",
       "    }\n",
       "\n",
       "    .dataframe thead th {\n",
       "        text-align: right;\n",
       "    }\n",
       "</style>\n",
       "<table border=\"1\" class=\"dataframe\">\n",
       "  <thead>\n",
       "    <tr style=\"text-align: right;\">\n",
       "      <th></th>\n",
       "      <th>Id</th>\n",
       "      <th>StepTotal</th>\n",
       "      <th>Calories</th>\n",
       "      <th>hour</th>\n",
       "      <th>TotalSleepRecords</th>\n",
       "      <th>TotalMinutesAsleep</th>\n",
       "      <th>TotalTimeInBed</th>\n",
       "    </tr>\n",
       "  </thead>\n",
       "  <tbody>\n",
       "    <tr>\n",
       "      <th>count</th>\n",
       "      <td>9.771000e+03</td>\n",
       "      <td>9771.000000</td>\n",
       "      <td>9771.000000</td>\n",
       "      <td>9771.000000</td>\n",
       "      <td>9771.000000</td>\n",
       "      <td>9771.000000</td>\n",
       "      <td>9771.000000</td>\n",
       "    </tr>\n",
       "    <tr>\n",
       "      <th>mean</th>\n",
       "      <td>5.000942e+09</td>\n",
       "      <td>358.765838</td>\n",
       "      <td>100.978917</td>\n",
       "      <td>11.422884</td>\n",
       "      <td>1.120356</td>\n",
       "      <td>419.350322</td>\n",
       "      <td>458.607921</td>\n",
       "    </tr>\n",
       "    <tr>\n",
       "      <th>std</th>\n",
       "      <td>2.061194e+09</td>\n",
       "      <td>652.628865</td>\n",
       "      <td>63.440338</td>\n",
       "      <td>6.921320</td>\n",
       "      <td>0.347304</td>\n",
       "      <td>118.789342</td>\n",
       "      <td>127.597596</td>\n",
       "    </tr>\n",
       "    <tr>\n",
       "      <th>min</th>\n",
       "      <td>1.503960e+09</td>\n",
       "      <td>0.000000</td>\n",
       "      <td>42.000000</td>\n",
       "      <td>0.000000</td>\n",
       "      <td>1.000000</td>\n",
       "      <td>58.000000</td>\n",
       "      <td>61.000000</td>\n",
       "    </tr>\n",
       "    <tr>\n",
       "      <th>25%</th>\n",
       "      <td>3.977334e+09</td>\n",
       "      <td>0.000000</td>\n",
       "      <td>63.000000</td>\n",
       "      <td>5.000000</td>\n",
       "      <td>1.000000</td>\n",
       "      <td>361.000000</td>\n",
       "      <td>402.000000</td>\n",
       "    </tr>\n",
       "    <tr>\n",
       "      <th>50%</th>\n",
       "      <td>4.702922e+09</td>\n",
       "      <td>107.000000</td>\n",
       "      <td>84.000000</td>\n",
       "      <td>11.000000</td>\n",
       "      <td>1.000000</td>\n",
       "      <td>433.000000</td>\n",
       "      <td>463.000000</td>\n",
       "    </tr>\n",
       "    <tr>\n",
       "      <th>75%</th>\n",
       "      <td>6.962181e+09</td>\n",
       "      <td>420.000000</td>\n",
       "      <td>117.000000</td>\n",
       "      <td>17.000000</td>\n",
       "      <td>1.000000</td>\n",
       "      <td>490.000000</td>\n",
       "      <td>527.000000</td>\n",
       "    </tr>\n",
       "    <tr>\n",
       "      <th>max</th>\n",
       "      <td>8.792010e+09</td>\n",
       "      <td>6357.000000</td>\n",
       "      <td>669.000000</td>\n",
       "      <td>23.000000</td>\n",
       "      <td>3.000000</td>\n",
       "      <td>796.000000</td>\n",
       "      <td>961.000000</td>\n",
       "    </tr>\n",
       "  </tbody>\n",
       "</table>\n",
       "</div>"
      ],
      "text/plain": [
       "                 Id    StepTotal     Calories         hour  TotalSleepRecords  \\\n",
       "count  9.771000e+03  9771.000000  9771.000000  9771.000000        9771.000000   \n",
       "mean   5.000942e+09   358.765838   100.978917    11.422884           1.120356   \n",
       "std    2.061194e+09   652.628865    63.440338     6.921320           0.347304   \n",
       "min    1.503960e+09     0.000000    42.000000     0.000000           1.000000   \n",
       "25%    3.977334e+09     0.000000    63.000000     5.000000           1.000000   \n",
       "50%    4.702922e+09   107.000000    84.000000    11.000000           1.000000   \n",
       "75%    6.962181e+09   420.000000   117.000000    17.000000           1.000000   \n",
       "max    8.792010e+09  6357.000000   669.000000    23.000000           3.000000   \n",
       "\n",
       "       TotalMinutesAsleep  TotalTimeInBed  \n",
       "count         9771.000000     9771.000000  \n",
       "mean           419.350322      458.607921  \n",
       "std            118.789342      127.597596  \n",
       "min             58.000000       61.000000  \n",
       "25%            361.000000      402.000000  \n",
       "50%            433.000000      463.000000  \n",
       "75%            490.000000      527.000000  \n",
       "max            796.000000      961.000000  "
      ]
     },
     "execution_count": 51,
     "metadata": {},
     "output_type": "execute_result"
    }
   ],
   "source": [
    "sleep_hourly_merged.describe()"
   ]
  },
  {
   "cell_type": "markdown",
   "id": "65663dd9",
   "metadata": {
    "papermill": {
     "duration": 0.031539,
     "end_time": "2023-08-19T23:21:45.239294",
     "exception": false,
     "start_time": "2023-08-19T23:21:45.207755",
     "status": "completed"
    },
    "tags": []
   },
   "source": [
    "# **Key Findings**\n",
    "* The \"TotalSteps\" column has a wide range, with a maximum value of 36019, indicating potential outliers.\n",
    "* On average 7638 steps were taken by the users daily.\n",
    "* The \"Calories\" column also shows variation, with a mean of 2324 and a maximum of 4,900 calories burnt, indicating potential outliers.\n",
    "* There is also an average of 2304 calories burnt daily.\n",
    "* Among the total span of 1218 minutes, a significant duration of 991 minutes was devoted to sedentary activities, highlighting prolonged periods of inactivity. In contrast, approximately 228 minutes were actively engaged.\n",
    "* Also, there is a positive correlation between steps taken and calories burnt."
   ]
  },
  {
   "cell_type": "markdown",
   "id": "e5241993",
   "metadata": {
    "papermill": {
     "duration": 0.030957,
     "end_time": "2023-08-19T23:21:45.302853",
     "exception": false,
     "start_time": "2023-08-19T23:21:45.271896",
     "status": "completed"
    },
    "tags": []
   },
   "source": [
    "# **5.Share**\n",
    "Now we are going to share some valuabel insights through the art of visualization."
   ]
  },
  {
   "cell_type": "markdown",
   "id": "cac5fa24",
   "metadata": {
    "papermill": {
     "duration": 0.031766,
     "end_time": "2023-08-19T23:21:45.368490",
     "exception": false,
     "start_time": "2023-08-19T23:21:45.336724",
     "status": "completed"
    },
    "tags": []
   },
   "source": [
    "Let's Take a look at the **corelation matrix** using heatmap"
   ]
  },
  {
   "cell_type": "code",
   "execution_count": 52,
   "id": "029ba694",
   "metadata": {
    "execution": {
     "iopub.execute_input": "2023-08-19T23:21:45.432947Z",
     "iopub.status.busy": "2023-08-19T23:21:45.432606Z",
     "iopub.status.idle": "2023-08-19T23:21:45.796886Z",
     "shell.execute_reply": "2023-08-19T23:21:45.795897Z"
    },
    "papermill": {
     "duration": 0.399078,
     "end_time": "2023-08-19T23:21:45.799016",
     "exception": false,
     "start_time": "2023-08-19T23:21:45.399938",
     "status": "completed"
    },
    "tags": []
   },
   "outputs": [
    {
     "data": {
      "image/png": "[encoded data removed]",
      "text/plain": [
       "<Figure size 800x400 with 2 Axes>"
      ]
     },
     "metadata": {},
     "output_type": "display_data"
    }
   ],
   "source": [
    "Corr1 = [\"TotalDistance\", \"TotalSteps\", \"SedentaryMinutes\", \"TotalActiveMinutes\", \"Calories\"]\n",
    "\n",
    "plt.figure(figsize=(8, 4))\n",
    "sns.heatmap(daily_activity[Corr1].corr(), \n",
    "            annot=True, \n",
    "            fmt=\".2f\",\n",
    "            linewidths=0.5,\n",
    "            cmap=\"icefire\")\n",
    "plt.title('Correlation Matrix')\n",
    "plt.show()\n"
   ]
  },
  {
   "cell_type": "markdown",
   "id": "6ea999ca",
   "metadata": {
    "papermill": {
     "duration": 0.036028,
     "end_time": "2023-08-19T23:21:45.870519",
     "exception": false,
     "start_time": "2023-08-19T23:21:45.834491",
     "status": "completed"
    },
    "tags": []
   },
   "source": [
    "* There is a positive correlation between Calories and TotalActiveMinutes.\n",
    "* There is a negative correlation between Calories and SedentaryMinutes."
   ]
  },
  {
   "cell_type": "markdown",
   "id": "9ab675dc",
   "metadata": {
    "papermill": {
     "duration": 0.033672,
     "end_time": "2023-08-19T23:21:45.938774",
     "exception": false,
     "start_time": "2023-08-19T23:21:45.905102",
     "status": "completed"
    },
    "tags": []
   },
   "source": [
    "Using **Scatter Plot** to observe the relation between TotalSteps and  SedentaryMinutes to calories"
   ]
  },
  {
   "cell_type": "code",
   "execution_count": 53,
   "id": "bf9bd942",
   "metadata": {
    "execution": {
     "iopub.execute_input": "2023-08-19T23:21:46.007502Z",
     "iopub.status.busy": "2023-08-19T23:21:46.006821Z",
     "iopub.status.idle": "2023-08-19T23:21:46.247957Z",
     "shell.execute_reply": "2023-08-19T23:21:46.246759Z"
    },
    "papermill": {
     "duration": 0.278007,
     "end_time": "2023-08-19T23:21:46.250353",
     "exception": false,
     "start_time": "2023-08-19T23:21:45.972346",
     "status": "completed"
    },
    "tags": []
   },
   "outputs": [
    {
     "data": {
      "image/png": "[encoded data removed]",
      "text/plain": [
       "<Figure size 640x480 with 1 Axes>"
      ]
     },
     "metadata": {},
     "output_type": "display_data"
    }
   ],
   "source": [
    "TotalSteps_calories = plt.scatter(x = daily_activity[\"Calories\"],\\\n",
    "                                  y = daily_activity[\"TotalSteps\"], color = \"Blue\",s=5 )\n",
    "plt.title(\"Calories burnt by Total steps\")\n",
    "plt.xlabel(\"Calories\")\n",
    "plt.ylabel(\"Total Steps\")\n",
    "plt.show()"
   ]
  },
  {
   "cell_type": "code",
   "execution_count": 54,
   "id": "6fecd149",
   "metadata": {
    "execution": {
     "iopub.execute_input": "2023-08-19T23:21:46.320295Z",
     "iopub.status.busy": "2023-08-19T23:21:46.319838Z",
     "iopub.status.idle": "2023-08-19T23:21:46.547915Z",
     "shell.execute_reply": "2023-08-19T23:21:46.546963Z"
    },
    "papermill": {
     "duration": 0.265646,
     "end_time": "2023-08-19T23:21:46.549888",
     "exception": false,
     "start_time": "2023-08-19T23:21:46.284242",
     "status": "completed"
    },
    "tags": []
   },
   "outputs": [
    {
     "data": {
      "image/png": "[encoded data removed]",
      "text/plain": [
       "<Figure size 640x480 with 1 Axes>"
      ]
     },
     "metadata": {},
     "output_type": "display_data"
    }
   ],
   "source": [
    "SedentaryMinutes_calories = plt.scatter(x = daily_activity[\"Calories\"],\\\n",
    "                                  y = daily_activity[\"SedentaryMinutes\"], color = \"Blue\", s=5 )\n",
    "plt.title(\"Calories and sedentary Minutes\")\n",
    "plt.xlabel(\"Calories\")\n",
    "plt.ylabel(\"Total Steps\")\n",
    "plt.show()"
   ]
  },
  {
   "cell_type": "markdown",
   "id": "bb83faf7",
   "metadata": {
    "papermill": {
     "duration": 0.033867,
     "end_time": "2023-08-19T23:21:46.618182",
     "exception": false,
     "start_time": "2023-08-19T23:21:46.584315",
     "status": "completed"
    },
    "tags": []
   },
   "source": [
    "This scatterplot offers a more distinct perspective on the relationship between TotalSteps and SedentaryMinutes concerning Calories. It becomes evident that as the number of steps taken increases, the corresponding calories burnt also increase. Conversely, when SedentaryMinutes rise, there is a noticeable decrease in the calories burnt."
   ]
  },
  {
   "cell_type": "markdown",
   "id": "5ed06cd9",
   "metadata": {
    "papermill": {
     "duration": 0.033702,
     "end_time": "2023-08-19T23:21:46.685626",
     "exception": false,
     "start_time": "2023-08-19T23:21:46.651924",
     "status": "completed"
    },
    "tags": []
   },
   "source": [
    "**Sedentary Minutes** vs **Active Minutes**"
   ]
  },
  {
   "cell_type": "code",
   "execution_count": 55,
   "id": "6cec4a66",
   "metadata": {
    "execution": {
     "iopub.execute_input": "2023-08-19T23:21:46.756998Z",
     "iopub.status.busy": "2023-08-19T23:21:46.756585Z",
     "iopub.status.idle": "2023-08-19T23:21:46.918345Z",
     "shell.execute_reply": "2023-08-19T23:21:46.917361Z"
    },
    "papermill": {
     "duration": 0.200315,
     "end_time": "2023-08-19T23:21:46.920579",
     "exception": false,
     "start_time": "2023-08-19T23:21:46.720264",
     "status": "completed"
    },
    "tags": []
   },
   "outputs": [
    {
     "data": {
      "image/png": "[encoded data removed]",
      "text/plain": [
       "<Figure size 640x480 with 1 Axes>"
      ]
     },
     "metadata": {},
     "output_type": "display_data"
    }
   ],
   "source": [
    "x = [\"TotalActive Minutes\", \"Sedentary Minutes\"]\n",
    "y = [daily_activity[\"TotalActiveMinutes\"].mean(), daily_activity[\"SedentaryMinutes\"].mean()]\n",
    "\n",
    "plt.bar(x, y, color=\"blue\")\n",
    "plt.title(\"Active Minutes Vs Sedentary Minutes\")\n",
    "plt.xlabel(\"Minutes Category\")\n",
    "plt.ylabel(\"Mean Minutes\")\n",
    "plt.show()"
   ]
  },
  {
   "cell_type": "markdown",
   "id": "00db309c",
   "metadata": {
    "papermill": {
     "duration": 0.033549,
     "end_time": "2023-08-19T23:21:46.989360",
     "exception": false,
     "start_time": "2023-08-19T23:21:46.955811",
     "status": "completed"
    },
    "tags": []
   },
   "source": [
    "There exists a substantial disparity between SedentaryMinutes and TotalActiveMinutes. Evidently, users allocate considerably more time to sedentary activities than to active ones. This observation may offer insights into their occupation or lifestyle, possibly indicating a prevalence among the working class spending extended periods seated at desks."
   ]
  },
  {
   "cell_type": "markdown",
   "id": "5c532dc5",
   "metadata": {
    "papermill": {
     "duration": 0.033391,
     "end_time": "2023-08-19T23:21:47.057837",
     "exception": false,
     "start_time": "2023-08-19T23:21:47.024446",
     "status": "completed"
    },
    "tags": []
   },
   "source": [
    "Calories Burnt on differt day of the week"
   ]
  },
  {
   "cell_type": "code",
   "execution_count": 56,
   "id": "db061390",
   "metadata": {
    "execution": {
     "iopub.execute_input": "2023-08-19T23:21:47.129067Z",
     "iopub.status.busy": "2023-08-19T23:21:47.128700Z",
     "iopub.status.idle": "2023-08-19T23:22:20.376460Z",
     "shell.execute_reply": "2023-08-19T23:22:20.375408Z"
    },
    "papermill": {
     "duration": 33.321949,
     "end_time": "2023-08-19T23:22:20.414607",
     "exception": false,
     "start_time": "2023-08-19T23:21:47.092658",
     "status": "completed"
    },
    "tags": []
   },
   "outputs": [
    {
     "data": {
      "image/png": "[encoded data removed]",
      "text/plain": [
       "<Figure size 1000x500 with 1 Axes>"
      ]
     },
     "metadata": {},
     "output_type": "display_data"
    }
   ],
   "source": [
    "fig, ax = plt.subplots(figsize=(10,5))\n",
    "plt.bar(hourly_merged[\"Day_of_the_week\"],hourly_merged[\"Calories\"],color = \"Blue\")\n",
    "\n",
    "plt.xlabel(\"Days of the week\")\n",
    "plt.ylabel(\"Calories\")\n",
    "plt.title(\"Calories Burnt on differt day of the week\")\n",
    "plt.grid()\n",
    "plt.show()"
   ]
  },
  {
   "cell_type": "markdown",
   "id": "4f09c7fb",
   "metadata": {
    "papermill": {
     "duration": 0.036856,
     "end_time": "2023-08-19T23:22:20.488339",
     "exception": false,
     "start_time": "2023-08-19T23:22:20.451483",
     "status": "completed"
    },
    "tags": []
   },
   "source": [
    "* The bar plot illustrates a notable trend where the highest calorie burn is observed on Saturdays, while the lowest occurs on Mondays.\n",
    "* This pattern aligns with the common understanding that weekends like Saturdays often offer more leisure time for exercise and physical activities.\n",
    "* However, the unexpected lower calorie burn on Mondays raises questions, considering that Mondays are often associated with increased work commitments.\n",
    "* One potential explanation could be that users are heavily occupied with work-related tasks on Mondays, limiting opportunities for physical activity and exercise.\n",
    "* This observation prompts the consideration that individuals might be spending prolonged periods at their desks on Mondays, potentially impacting their overall activity levels."
   ]
  },
  {
   "cell_type": "markdown",
   "id": "c643d950",
   "metadata": {
    "papermill": {
     "duration": 0.038181,
     "end_time": "2023-08-19T23:22:20.564276",
     "exception": false,
     "start_time": "2023-08-19T23:22:20.526095",
     "status": "completed"
    },
    "tags": []
   },
   "source": [
    "How many **steps** are taken on each **day of the week** using bar plot"
   ]
  },
  {
   "cell_type": "code",
   "execution_count": 57,
   "id": "dcaf27d1",
   "metadata": {
    "execution": {
     "iopub.execute_input": "2023-08-19T23:22:20.642583Z",
     "iopub.status.busy": "2023-08-19T23:22:20.641878Z",
     "iopub.status.idle": "2023-08-19T23:22:22.221213Z",
     "shell.execute_reply": "2023-08-19T23:22:22.220409Z"
    },
    "papermill": {
     "duration": 1.620823,
     "end_time": "2023-08-19T23:22:22.223204",
     "exception": false,
     "start_time": "2023-08-19T23:22:20.602381",
     "status": "completed"
    },
    "tags": []
   },
   "outputs": [
    {
     "data": {
      "image/png": "[encoded data removed]",
      "text/plain": [
       "<Figure size 1000x500 with 1 Axes>"
      ]
     },
     "metadata": {},
     "output_type": "display_data"
    }
   ],
   "source": [
    "fig, ax = plt.subplots(figsize = (10,5))\n",
    "plt.bar(daily_activity[\"Day_of_the_week\"],daily_activity[\"TotalSteps\"],color = \"Blue\")\n",
    "\n",
    "plt.xlabel(\"Days of the week\")\n",
    "plt.ylabel(\"Total Steps\")\n",
    "plt.title(\"Total steps taken on each day of the week\")\n",
    "plt.grid()\n",
    "plt.show()"
   ]
  },
  {
   "cell_type": "markdown",
   "id": "d683b10b",
   "metadata": {
    "papermill": {
     "duration": 0.03588,
     "end_time": "2023-08-19T23:22:22.295956",
     "exception": false,
     "start_time": "2023-08-19T23:22:22.260076",
     "status": "completed"
    },
    "tags": []
   },
   "source": [
    "* This analysis provides a comprehensive understanding of the reason behind Monday's lower calorie burn, revealing a significant contrast in step count compared to other days of the week.\n",
    "* On Monday, users took notably fewer steps, suggesting a higher probability of prolonged periods spent seated at their workstations.\n",
    "* The observed trend also offers insights into the demographic profile of the survey participants, indicating a strong likelihood that they belong to the working class.\n",
    "* In contrast, the weekend days, Saturday and Sunday, stand out as having the highest step counts, aligning well with expectations and reflecting higher levels of physical activity."
   ]
  },
  {
   "cell_type": "markdown",
   "id": "ab6f4450",
   "metadata": {
    "papermill": {
     "duration": 0.036275,
     "end_time": "2023-08-19T23:22:22.368359",
     "exception": false,
     "start_time": "2023-08-19T23:22:22.332084",
     "status": "completed"
    },
    "tags": []
   },
   "source": [
    "How many **hours of sleep**, each **day of the week** using bar plot"
   ]
  },
  {
   "cell_type": "code",
   "execution_count": 58,
   "id": "ce88e930",
   "metadata": {
    "execution": {
     "iopub.execute_input": "2023-08-19T23:22:22.444341Z",
     "iopub.status.busy": "2023-08-19T23:22:22.443723Z",
     "iopub.status.idle": "2023-08-19T23:22:39.033575Z",
     "shell.execute_reply": "2023-08-19T23:22:39.032524Z"
    },
    "papermill": {
     "duration": 16.630468,
     "end_time": "2023-08-19T23:22:39.035934",
     "exception": false,
     "start_time": "2023-08-19T23:22:22.405466",
     "status": "completed"
    },
    "tags": []
   },
   "outputs": [
    {
     "data": {
      "image/png": "[encoded data removed]",
      "text/plain": [
       "<Figure size 1000x500 with 1 Axes>"
      ]
     },
     "metadata": {},
     "output_type": "display_data"
    }
   ],
   "source": [
    "fig, ax = plt.subplots(figsize = (10,5))\n",
    "plt.bar(sleep_hourly_merged[\"Day_of_the_week\"],sleep_hourly_merged[\"TotalMinutesAsleep\"],color = \"Blue\")\n",
    "\n",
    "plt.xlabel(\"Days of the week\")\n",
    "plt.ylabel(\"Hours of sleep\")\n",
    "plt.title(\"Total hours of sleep on each day of the week\")\n",
    "plt.grid()\n",
    "plt.show()"
   ]
  },
  {
   "cell_type": "markdown",
   "id": "b368f149",
   "metadata": {
    "papermill": {
     "duration": 0.037889,
     "end_time": "2023-08-19T23:22:39.112233",
     "exception": false,
     "start_time": "2023-08-19T23:22:39.074344",
     "status": "completed"
    },
    "tags": []
   },
   "source": [
    "* The analysis reveals that Thursday recorded the least amount of sleep, while Monday saw the most extended sleep duration. This pattern suggests that individuals might compensate for exhaustion by sleeping longer.\n",
    "* Interestingly, Saturday, Tuesday, and Sunday also stand out as days with extended sleep hours, coinciding with higher calorie loss on those days.\n",
    "* This observation implies a potential connection between increased sleep duration and greater physical activity, as indicated by the correlation between extended sleep on these days and higher calorie expenditure."
   ]
  },
  {
   "cell_type": "markdown",
   "id": "7429d933",
   "metadata": {
    "papermill": {
     "duration": 0.035879,
     "end_time": "2023-08-19T23:22:39.184736",
     "exception": false,
     "start_time": "2023-08-19T23:22:39.148857",
     "status": "completed"
    },
    "tags": []
   },
   "source": [
    "what are the most **active hours of the day**?"
   ]
  },
  {
   "cell_type": "code",
   "execution_count": 59,
   "id": "fc906b25",
   "metadata": {
    "execution": {
     "iopub.execute_input": "2023-08-19T23:22:39.259854Z",
     "iopub.status.busy": "2023-08-19T23:22:39.259471Z",
     "iopub.status.idle": "2023-08-19T23:22:39.606933Z",
     "shell.execute_reply": "2023-08-19T23:22:39.605868Z"
    },
    "papermill": {
     "duration": 0.387917,
     "end_time": "2023-08-19T23:22:39.609267",
     "exception": false,
     "start_time": "2023-08-19T23:22:39.221350",
     "status": "completed"
    },
    "tags": []
   },
   "outputs": [
    {
     "data": {
      "image/png": "[encoded data removed]",
      "text/plain": [
       "<Figure size 1000x600 with 1 Axes>"
      ]
     },
     "metadata": {},
     "output_type": "display_data"
    }
   ],
   "source": [
    "fig, axs = plt.subplots(figsize=(10, 6))\n",
    "hourly_merged.groupby(hourly_merged['hour'])['StepTotal'].mean().plot(kind='bar',\\\n",
    "color='Blue', title='Most Active hours of the day')\n",
    "\n",
    "plt.xlabel(\"Hour of the Day\")\n",
    "plt.ylabel(\"Total Steps\")\n",
    "plt.show()"
   ]
  },
  {
   "cell_type": "markdown",
   "id": "fb7a8413",
   "metadata": {
    "papermill": {
     "duration": 0.036889,
     "end_time": "2023-08-19T23:22:39.684934",
     "exception": false,
     "start_time": "2023-08-19T23:22:39.648045",
     "status": "completed"
    },
    "tags": []
   },
   "source": [
    "This visualization highlights a noticeable surge in activity starting at 8 in the morning and extending until 7 in the evening. The hours between 8 p.m. and 10 p.m. represent the least active period of the day. These hours potentially present an opportune window for targeted ad campaigns, given their reduced activity levels."
   ]
  },
  {
   "cell_type": "markdown",
   "id": "0be569ea",
   "metadata": {
    "papermill": {
     "duration": 0.038247,
     "end_time": "2023-08-19T23:22:39.762066",
     "exception": false,
     "start_time": "2023-08-19T23:22:39.723819",
     "status": "completed"
    },
    "tags": []
   },
   "source": [
    "# **6.Act**\n",
    "\n",
    "**Recommendations:**\n",
    "\n",
    "**Promotion:** Our analysis of the data underscores a trend of decreased activity between 8 and 10 p.m., indicating a suitable time frame for Bellabeat to strategically schedule advertising campaigns. Leveraging platforms like Google AdWords with ad scheduling can effectively reach our target audience during these hours, optimizing the impact of our promotions. Such scheduling not only enhances our out reach but also contributes to cost-effective advertising.\n",
    "\n",
    "**Retention:** Beyond acquiring new members, maintaining their loyalty is paramount. Studies indicate that a significant percentage of subscribers cancel memberships within the first two years. To enhance retention, Bellabeat should focus on tailored content that adds value. Our data reveals a positive connection between step count and calorie expenditure. By offering tips to attain daily step goals and proposing engaging challenges, we can inspire our users toward healthier routines. This approach cultivates engagement and delivers tangible benefits to our community.\n",
    "\n",
    "A notable observation is the prevalence of sedentary behavior, associated with various health issues. To address this, Bellabeat can employ informative videos and blogs to educate users about the risks of prolonged inactivity and methods to mitigate them. This initiative also provides an avenue to introduce our product ecosystem, including the Bellabeat app and Time, which empower users with holistic insights for improved well-being."
   ]
  }
 ],
 "metadata": {
  "kernelspec": {
   "display_name": "Python 3",
   "language": "python",
   "name": "python3"
  },
  "language_info": {
   "codemirror_mode": {
    "name": "ipython",
    "version": 3
   },
   "file_extension": ".py",
   "mimetype": "text/x-python",
   "name": "python",
   "nbconvert_exporter": "python",
   "pygments_lexer": "ipython3",
   "version": "3.10.12"
  },
  "papermill": {
   "default_parameters": {},
   "duration": 81.885815,
   "end_time": "2023-08-19T23:22:41.225308",
   "environment_variables": {},
   "exception": null,
   "input_path": "__notebook__.ipynb",
   "output_path": "__notebook__.ipynb",
   "parameters": {},
   "start_time": "2023-08-19T23:21:19.339493",
   "version": "2.4.0"
  }
 },
 "nbformat": 4,
 "nbformat_minor": 5
}
